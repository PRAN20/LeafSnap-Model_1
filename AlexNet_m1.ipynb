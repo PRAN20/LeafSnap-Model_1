{
  "nbformat": 4,
  "nbformat_minor": 0,
  "metadata": {
    "colab": {
      "name": "AlexNet-m1.ipynb",
      "provenance": [],
      "collapsed_sections": [
        "6kONjXycL46I",
        "R_u7YGrWMPdt",
        "k0qkbkiFVGVS",
        "zoc9oVerXwxN",
        "bC4Hdr-BYOUd",
        "5fXcMm-_ZgDd",
        "a50Vdm7zaPfu",
        "k2Gs3nfUeH6e",
        "769KZo9tfKwT",
        "SE6FCEdufxDB"
      ],
      "mount_file_id": "1Dhqnz5OqtwbqDWVZYqRQbu_mAyU30-Mm",
      "authorship_tag": "ABX9TyMV6Ty9haKXtqQWN0QKA7If",
      "include_colab_link": true
    },
    "kernelspec": {
      "name": "python3",
      "display_name": "Python 3"
    },
    "language_info": {
      "name": "python"
    }
  },
  "cells": [
    {
      "cell_type": "markdown",
      "metadata": {
        "id": "view-in-github",
        "colab_type": "text"
      },
      "source": [
        "<a href=\"https://colab.research.google.com/github/PRAN20/LeafSnap-Model_1/blob/main/AlexNet_m1.ipynb\" target=\"_parent\"><img src=\"https://colab.research.google.com/assets/colab-badge.svg\" alt=\"Open In Colab\"/></a>"
      ]
    },
    {
      "cell_type": "markdown",
      "source": [
        "# **Calculating Accuracy by Using Different Classification**"
      ],
      "metadata": {
        "id": "4m4zz4fayu1A"
      }
    },
    {
      "cell_type": "markdown",
      "source": [
        "# **Importing Header Files**"
      ],
      "metadata": {
        "id": "6kONjXycL46I"
      }
    },
    {
      "cell_type": "code",
      "execution_count": null,
      "metadata": {
        "id": "GkgEbfzqL3vE"
      },
      "outputs": [],
      "source": [
        "import pandas as ps\n",
        "import numpy as np\n",
        "import matplotlib.pyplot as plt\n",
        "import os"
      ]
    },
    {
      "cell_type": "markdown",
      "source": [
        "# **Importing DataSet**"
      ],
      "metadata": {
        "id": "R_u7YGrWMPdt"
      }
    },
    {
      "cell_type": "code",
      "source": [
        "from google.colab import drive\n",
        "drive.mount('/content/drive')"
      ],
      "metadata": {
        "colab": {
          "base_uri": "https://localhost:8080/"
        },
        "id": "KOoJEw5wPW10",
        "outputId": "f876332a-15c6-45eb-bfb5-768b6c73254b"
      },
      "execution_count": null,
      "outputs": [
        {
          "output_type": "stream",
          "name": "stdout",
          "text": [
            "Mounted at /content/drive\n"
          ]
        }
      ]
    },
    {
      "cell_type": "code",
      "source": [
        "#os.makedirs('dataset')"
      ],
      "metadata": {
        "id": "ERRfD0VRWptc"
      },
      "execution_count": null,
      "outputs": []
    },
    {
      "cell_type": "code",
      "source": [
        "!unzip \"/content/drive/MyDrive/LeafSnap-1.zip\" -d \"dataset\""
      ],
      "metadata": {
        "colab": {
          "base_uri": "https://localhost:8080/"
        },
        "id": "hO9OBgBfPdsG",
        "outputId": "4d578cfc-3fbe-44fb-aac3-5ea3cc49b91c"
      },
      "execution_count": null,
      "outputs": [
        {
          "output_type": "stream",
          "name": "stdout",
          "text": [
            "Archive:  /content/drive/MyDrive/LeafSnap-1.zip\n",
            " extracting: dataset/content/LeafSnap-1 Csv/X_test.csv  \n",
            " extracting: dataset/content/LeafSnap-1 Csv/y_train.csv  \n",
            " extracting: dataset/content/LeafSnap-1 Csv/y_test.csv  \n",
            " extracting: dataset/content/LeafSnap-1 Csv/X_train.csv  \n"
          ]
        }
      ]
    },
    {
      "cell_type": "code",
      "source": [
        "import pandas as pd\n",
        "train_images=pd.read_csv(\"/content/dataset/content/LeafSnap-1 Csv/X_train.csv\",header=None)\n",
        "x_train=train_images.iloc[:,:].values\n",
        "x_train.shape"
      ],
      "metadata": {
        "colab": {
          "base_uri": "https://localhost:8080/"
        },
        "id": "H6DW32UL-GGT",
        "outputId": "d7e2dddf-7117-4264-f4ab-400b9372a44c"
      },
      "execution_count": null,
      "outputs": [
        {
          "output_type": "execute_result",
          "data": {
            "text/plain": [
              "(6109, 1000)"
            ]
          },
          "metadata": {},
          "execution_count": 13
        }
      ]
    },
    {
      "cell_type": "code",
      "source": [
        "train_labels=pd.read_csv(\"/content/dataset/content/LeafSnap-1 Csv/y_train.csv\",header=None)\n",
        "y_train=train_labels.iloc[:,:].values\n",
        "y_train= y_train.flatten()\n",
        "y_train.shape"
      ],
      "metadata": {
        "colab": {
          "base_uri": "https://localhost:8080/"
        },
        "id": "2Fk0HwNu-RfE",
        "outputId": "bad7bd70-49e1-4464-ddd8-4821847bf0b7"
      },
      "execution_count": null,
      "outputs": [
        {
          "output_type": "execute_result",
          "data": {
            "text/plain": [
              "(6109,)"
            ]
          },
          "metadata": {},
          "execution_count": 6
        }
      ]
    },
    {
      "cell_type": "code",
      "source": [
        "import pandas as pd\n",
        "test_images=pd.read_csv(\"/content/dataset/content/LeafSnap-1 Csv/X_test.csv\",header=None)\n",
        "x_test=test_images.iloc[:,:].values\n",
        "x_test.shape"
      ],
      "metadata": {
        "colab": {
          "base_uri": "https://localhost:8080/"
        },
        "id": "BoHjctwg-WYo",
        "outputId": "d097b037-ae02-4700-eb0a-7e54a35eacae"
      },
      "execution_count": null,
      "outputs": [
        {
          "output_type": "execute_result",
          "data": {
            "text/plain": [
              "(917, 1000)"
            ]
          },
          "metadata": {},
          "execution_count": 5
        }
      ]
    },
    {
      "cell_type": "code",
      "source": [
        "test_labels=pd.read_csv(\"/content/dataset/content/LeafSnap-1 Csv/y_test.csv\",header=None)\n",
        "y_test=test_labels.iloc[:,:].values\n",
        "y_test= y_test.flatten()\n",
        "y_test.shape"
      ],
      "metadata": {
        "colab": {
          "base_uri": "https://localhost:8080/"
        },
        "id": "7kg4OvKA-dTk",
        "outputId": "33de425c-4065-438c-c3bc-1d5346561ba5"
      },
      "execution_count": null,
      "outputs": [
        {
          "output_type": "execute_result",
          "data": {
            "text/plain": [
              "(917,)"
            ]
          },
          "metadata": {},
          "execution_count": 7
        }
      ]
    },
    {
      "cell_type": "markdown",
      "source": [
        "# **Determing The Shape of all The Data**"
      ],
      "metadata": {
        "id": "bGB5LJ4_Us8_"
      }
    },
    {
      "cell_type": "code",
      "source": [
        "x_train.shape"
      ],
      "metadata": {
        "colab": {
          "base_uri": "https://localhost:8080/"
        },
        "id": "oV5XxiucUxox",
        "outputId": "055249e1-3532-4826-a7d6-7aa5e485c68f"
      },
      "execution_count": null,
      "outputs": [
        {
          "output_type": "execute_result",
          "data": {
            "text/plain": [
              "(6109, 1000)"
            ]
          },
          "metadata": {},
          "execution_count": 14
        }
      ]
    },
    {
      "cell_type": "code",
      "source": [
        "y_train.shape"
      ],
      "metadata": {
        "colab": {
          "base_uri": "https://localhost:8080/"
        },
        "id": "qkEZXoJWU0Bk",
        "outputId": "37fb754e-8eba-453d-9a78-452408cc4fe5"
      },
      "execution_count": null,
      "outputs": [
        {
          "output_type": "execute_result",
          "data": {
            "text/plain": [
              "(6109,)"
            ]
          },
          "metadata": {},
          "execution_count": 9
        }
      ]
    },
    {
      "cell_type": "code",
      "source": [
        "x_test.shape"
      ],
      "metadata": {
        "colab": {
          "base_uri": "https://localhost:8080/"
        },
        "id": "39UpnG05U2rO",
        "outputId": "458a3696-e753-43d1-9d24-7d1514e5f7bd"
      },
      "execution_count": null,
      "outputs": [
        {
          "output_type": "execute_result",
          "data": {
            "text/plain": [
              "(917, 1000)"
            ]
          },
          "metadata": {},
          "execution_count": 10
        }
      ]
    },
    {
      "cell_type": "code",
      "source": [
        "y_test.shape"
      ],
      "metadata": {
        "colab": {
          "base_uri": "https://localhost:8080/"
        },
        "id": "pHjkvAiqU4LZ",
        "outputId": "4c9590f8-478f-4b59-87e0-dc0fbd23c261"
      },
      "execution_count": null,
      "outputs": [
        {
          "output_type": "execute_result",
          "data": {
            "text/plain": [
              "(917,)"
            ]
          },
          "metadata": {},
          "execution_count": 11
        }
      ]
    },
    {
      "cell_type": "markdown",
      "source": [
        "# **Training The MLP Model**"
      ],
      "metadata": {
        "id": "k0qkbkiFVGVS"
      }
    },
    {
      "cell_type": "code",
      "source": [
        "from sklearn.neural_network import MLPClassifier\n",
        "classifier = MLPClassifier(max_iter = 500, activation = 'relu')\n",
        "classifier.fit(x_train, y_train)"
      ],
      "metadata": {
        "colab": {
          "base_uri": "https://localhost:8080/"
        },
        "id": "HqTNKgr1VMnV",
        "outputId": "8eae2aaa-33d9-4162-ceb4-50ecba0733c6"
      },
      "execution_count": null,
      "outputs": [
        {
          "output_type": "execute_result",
          "data": {
            "text/plain": [
              "MLPClassifier(max_iter=500)"
            ]
          },
          "metadata": {},
          "execution_count": 15
        }
      ]
    },
    {
      "cell_type": "markdown",
      "source": [
        "**Testing the Model**"
      ],
      "metadata": {
        "id": "JoqA7cxOWC86"
      }
    },
    {
      "cell_type": "code",
      "source": [
        "y_pred = classifier.predict(x_test)"
      ],
      "metadata": {
        "id": "PdJqNaJcWJqn"
      },
      "execution_count": null,
      "outputs": []
    },
    {
      "cell_type": "code",
      "source": [
        "print(y_pred)\n",
        "y_pred.shape"
      ],
      "metadata": {
        "id": "DGFEU_IVWJru",
        "colab": {
          "base_uri": "https://localhost:8080/"
        },
        "outputId": "8b8f8757-a0b8-4e21-b690-cd741debcc2b"
      },
      "execution_count": null,
      "outputs": [
        {
          "output_type": "stream",
          "name": "stdout",
          "text": [
            "['quercus_acutissima' 'quercus_acutissima' 'quercus_acutissima'\n",
            " 'quercus_acutissima' 'quercus_acutissima' 'quercus_acutissima'\n",
            " 'pinus_rigida' 'pinus_nigra' 'pinus_nigra' 'pinus_rigida' 'pinus_rigida'\n",
            " 'magnolia_macrophylla' 'prunus_serotina' 'styrax_japonica'\n",
            " 'pinus_bungeana' 'pinus_bungeana' 'pinus_bungeana' 'pinus_bungeana'\n",
            " 'pinus_bungeana' 'pinus_bungeana' 'aesculus_flava' 'carya_cordiformis'\n",
            " 'salix_matsudana' 'salix_matsudana' 'salix_matsudana' 'salix_matsudana'\n",
            " 'quercus_phellos' 'pinus_peucea' 'pinus_peucea' 'pinus_peucea'\n",
            " 'pinus_peucea' 'pinus_bungeana' 'platanus_acerifolia' 'betula_nigra'\n",
            " 'cercis_canadensis' 'cornus_kousa' 'aesculus_glabra' 'carya_cordiformis'\n",
            " 'carya_cordiformis' 'carya_cordiformis' 'carya_cordiformis'\n",
            " 'quercus_rubra' 'pyrus_calleryana' 'pyrus_calleryana' 'pyrus_calleryana'\n",
            " 'pyrus_calleryana' 'pyrus_calleryana' 'pyrus_calleryana'\n",
            " 'styrax_japonica' 'magnolia_soulangiana' 'magnolia_stellata'\n",
            " 'carya_glabra' 'carya_glabra' 'carya_glabra' 'carya_glabra'\n",
            " 'carya_glabra' 'carya_glabra' 'carya_glabra' 'carya_glabra'\n",
            " 'carya_cordiformis' 'zelkova_serrata' 'zelkova_serrata' 'zelkova_serrata'\n",
            " 'diospyros_virginiana' 'zelkova_serrata' 'zelkova_serrata'\n",
            " 'zelkova_serrata' 'fraxinus_nigra' 'juglans_cinerea' 'fraxinus_nigra'\n",
            " 'malus_baccata' 'juglans_cinerea' 'malus_angustifolia' 'fraxinus_nigra'\n",
            " 'juglans_cinerea' 'juglans_cinerea' 'juglans_cinerea' 'juglans_cinerea'\n",
            " 'gymnocladus_dioicus' 'gymnocladus_dioicus' 'gymnocladus_dioicus'\n",
            " 'gymnocladus_dioicus' 'sassafras_albidum' 'celtis_occidentalis'\n",
            " 'liriodendron_tulipifera' 'abies_concolor' 'abies_concolor'\n",
            " 'abies_concolor' 'abies_concolor' 'abies_concolor' 'abies_concolor'\n",
            " 'salix_nigra' 'styrax_japonica' 'styrax_japonica' 'eucommia_ulmoides'\n",
            " 'ostrya_virginiana' 'betula_populifolia' 'ostrya_virginiana'\n",
            " 'zelkova_serrata' 'styrax_japonica' 'maclura_pomifera' 'styrax_japonica'\n",
            " 'eucommia_ulmoides' 'fagus_grandifolia' 'syringa_reticulata'\n",
            " 'syringa_reticulata' 'syringa_reticulata' 'fagus_grandifolia'\n",
            " 'quercus_robur' 'asimina_triloba' 'quercus_robur' 'quercus_robur'\n",
            " 'acer_saccharinum' 'acer_saccharinum' 'acer_saccharinum'\n",
            " 'acer_saccharinum' 'acer_saccharinum' 'pinus_nigra' 'pinus_pungens'\n",
            " 'pinus_nigra' 'pinus_pungens' 'pinus_pungens' 'magnolia_macrophylla'\n",
            " 'magnolia_macrophylla' 'magnolia_macrophylla' 'prunus_virginiana'\n",
            " 'pinus_virginiana' 'prunus_virginiana' 'prunus_virginiana'\n",
            " 'prunus_subhirtella' 'pinus_virginiana' 'prunus_virginiana'\n",
            " 'pinus_virginiana' 'chionanthus_virginicus' 'prunus_virginiana'\n",
            " 'pinus_virginiana' 'prunus_virginiana' 'prunus_virginiana'\n",
            " 'pinus_virginiana' 'pinus_virginiana' 'prunus_virginiana'\n",
            " 'pinus_virginiana' 'prunus_virginiana' 'prunus_subhirtella'\n",
            " 'robinia_pseudo-acacia' 'robinia_pseudo-acacia' 'koelreuteria_paniculata'\n",
            " 'aesculus_hippocastamon' 'quercus_rubra' 'aesculus_hippocastamon'\n",
            " 'styrax_japonica' 'tilia_europaea' 'cryptomeria_japonica' 'pinus_cembra'\n",
            " 'chamaecyparis_pisifera' 'chamaecyparis_pisifera'\n",
            " 'chamaecyparis_pisifera' 'cryptomeria_japonica' 'catalpa_bignonioides'\n",
            " 'stewartia_pseudocamellia' 'chionanthus_virginicus' 'crataegus_viridis'\n",
            " 'catalpa_bignonioides' 'platanus_acerifolia' 'magnolia_grandiflora'\n",
            " 'betula_alleghaniensis' 'betula_alleghaniensis' 'betula_alleghaniensis'\n",
            " 'betula_alleghaniensis' 'amelanchier_canadensis' 'amelanchier_canadensis'\n",
            " 'amelanchier_canadensis' 'fagus_grandifolia' 'pinus_nigra'\n",
            " 'pinus_densiflora' 'pinus_densiflora' 'pinus_densiflora'\n",
            " 'pinus_densiflora' 'quercus_rubra' 'acer_palmatum' 'juglans_nigra'\n",
            " 'aesculus_hippocastamon' 'eucommia_ulmoides' 'eucommia_ulmoides'\n",
            " 'nyssa_sylvatica' 'zelkova_serrata' 'quercus_michauxii'\n",
            " 'eucommia_ulmoides' 'zelkova_serrata' 'eucommia_ulmoides'\n",
            " 'platanus_acerifolia' 'platanus_occidentalis' 'carya_cordiformis'\n",
            " 'koelreuteria_paniculata' 'koelreuteria_paniculata'\n",
            " 'koelreuteria_paniculata' 'koelreuteria_paniculata'\n",
            " 'koelreuteria_paniculata' 'koelreuteria_paniculata'\n",
            " 'koelreuteria_paniculata' 'platanus_occidentalis' 'platanus_acerifolia'\n",
            " 'acer_palmatum' 'acer_palmatum' 'acer_palmatum' 'acer_palmatum'\n",
            " 'acer_negundo' 'acer_palmatum' 'acer_palmatum' 'acer_palmatum'\n",
            " 'acer_palmatum' 'acer_palmatum' 'chamaecyparis_thyoides'\n",
            " 'chamaecyparis_thyoides' 'chamaecyparis_thyoides'\n",
            " 'chamaecyparis_thyoides' 'chamaecyparis_thyoides' 'gleditsia_triacanthos'\n",
            " 'gleditsia_triacanthos' 'gleditsia_triacanthos' 'gleditsia_triacanthos'\n",
            " 'gleditsia_triacanthos' 'gleditsia_triacanthos' 'catalpa_speciosa'\n",
            " 'catalpa_speciosa' 'catalpa_speciosa' 'catalpa_speciosa'\n",
            " 'catalpa_speciosa' 'styrax_japonica' 'catalpa_speciosa'\n",
            " 'catalpa_speciosa' 'carya_tomentosa' 'carya_tomentosa'\n",
            " 'carya_cordiformis' 'carya_tomentosa' 'carya_tomentosa' 'carya_tomentosa'\n",
            " 'ilex_opaca' 'crataegus_phaenopyrum' 'populus_grandidentata'\n",
            " 'populus_grandidentata' 'populus_grandidentata' 'populus_grandidentata'\n",
            " 'quercus_montana' 'cercidiphyllum_japonicum' 'cercidiphyllum_japonicum'\n",
            " 'tilia_europaea' 'prunus_sargentii' 'prunus_sargentii' 'prunus_sargentii'\n",
            " 'prunus_sargentii' 'quercus_muehlenbergii' 'prunus_sargentii'\n",
            " 'quercus_muehlenbergii' 'prunus_sargentii' 'prunus_sargentii'\n",
            " 'prunus_sargentii' 'prunus_sargentii' 'prunus_sargentii'\n",
            " 'castanea_dentata' 'prunus_sargentii' 'quercus_muehlenbergii'\n",
            " 'quercus_muehlenbergii' 'quercus_muehlenbergii' 'quercus_muehlenbergii'\n",
            " 'quercus_muehlenbergii' 'prunus_sargentii' 'prunus_sargentii'\n",
            " 'prunus_sargentii' 'quercus_muehlenbergii' 'prunus_sargentii'\n",
            " 'prunus_sargentii' 'quercus_muehlenbergii' 'quercus_muehlenbergii'\n",
            " 'quercus_muehlenbergii' 'prunus_sargentii' 'quercus_muehlenbergii'\n",
            " 'broussonettia_papyrifera' 'salix_nigra' 'crataegus_viridis'\n",
            " 'crataegus_viridis' 'salix_nigra' 'salix_babylonica' 'salix_babylonica'\n",
            " 'salix_babylonica' 'abies_nordmanniana' 'salix_babylonica'\n",
            " 'salix_babylonica' 'quercus_velutina' 'quercus_velutina' 'aesculus_pavi'\n",
            " 'quercus_velutina' 'acer_negundo' 'quercus_velutina' 'betula_populifolia'\n",
            " 'betula_populifolia' 'betula_populifolia' 'prunus_sargentii'\n",
            " 'pyrus_calleryana' 'fraxinus_nigra' 'prunus_subhirtella'\n",
            " 'malus_angustifolia' 'picea_pungens' 'tsuga_canadensis'\n",
            " 'tsuga_canadensis' 'tsuga_canadensis' 'tsuga_canadensis'\n",
            " 'tsuga_canadensis' 'tsuga_canadensis' 'tsuga_canadensis' 'acer_campestre'\n",
            " 'styrax_obassia' 'pyrus_calleryana' 'malus_baccata' 'cornus_mas'\n",
            " 'phellodendron_amurense' 'phellodendron_amurense'\n",
            " 'phellodendron_amurense' 'phellodendron_amurense' 'prunus_pensylvanica'\n",
            " 'prunus_pensylvanica' 'prunus_pensylvanica' 'acer_saccharum'\n",
            " 'ginkgo_biloba' 'platanus_occidentalis' 'magnolia_acuminata'\n",
            " 'magnolia_acuminata' 'magnolia_acuminata' 'styrax_obassia'\n",
            " 'malus_coronaria' 'malus_hupehensis' 'malus_coronaria' 'malus_coronaria'\n",
            " 'liriodendron_tulipifera' 'liriodendron_tulipifera'\n",
            " 'liriodendron_tulipifera' 'liriodendron_tulipifera'\n",
            " 'liriodendron_tulipifera' 'liriodendron_tulipifera' 'picea_orientalis'\n",
            " 'picea_orientalis' 'picea_orientalis' 'picea_orientalis'\n",
            " 'picea_orientalis' 'acer_campestre' 'acer_campestre' 'acer_campestre'\n",
            " 'acer_campestre' 'acer_campestre' 'pseudolarix_amabilis'\n",
            " 'pseudolarix_amabilis' 'pseudolarix_amabilis' 'pseudolarix_amabilis'\n",
            " 'pseudolarix_amabilis' 'tilia_tomentosa' 'tilia_tomentosa'\n",
            " 'tilia_europaea' 'tilia_cordata' 'acer_negundo' 'acer_negundo'\n",
            " 'acer_negundo' 'larix_decidua' 'pseudolarix_amabilis' 'larix_decidua'\n",
            " 'cedrus_libani' 'cedrus_libani' 'cedrus_libani' 'tsuga_canadensis'\n",
            " 'cedrus_libani' 'cedrus_libani' 'quercus_cerris' 'maclura_pomifera'\n",
            " 'quercus_cerris' 'ficus_carica' 'ficus_carica' 'ficus_carica'\n",
            " 'catalpa_bignonioides' 'ficus_carica' 'cladrastis_lutea'\n",
            " 'cladrastis_lutea' 'cladrastis_lutea' 'cladrastis_lutea'\n",
            " 'cladrastis_lutea' 'cladrastis_lutea' 'betula_nigra' 'tilia_europaea'\n",
            " 'quercus_montana' 'crataegus_viridis' 'quercus_montana' 'quercus_montana'\n",
            " 'quercus_montana' 'ulmus_pumila' 'quercus_montana' 'quercus_rubra'\n",
            " 'fraxinus_americana' 'pinus_sylvestris' 'pinus_sylvestris'\n",
            " 'pinus_sylvestris' 'pinus_sylvestris' 'acer_griseum' 'acer_griseum'\n",
            " 'acer_griseum' 'acer_griseum' 'acer_griseum' 'nyssa_sylvatica'\n",
            " 'styrax_japonica' 'magnolia_stellata' 'magnolia_stellata'\n",
            " 'magnolia_stellata' 'pinus_nigra' 'juniperus_virginiana'\n",
            " 'juniperus_virginiana' 'juniperus_virginiana' 'juniperus_virginiana'\n",
            " 'juniperus_virginiana' 'juniperus_virginiana' 'pinus_nigra'\n",
            " 'pinus_virginiana' 'pinus_cembra' 'pinus_cembra' 'pinus_nigra'\n",
            " 'pinus_bungeana' 'pinus_cembra' 'chionanthus_virginicus'\n",
            " 'chionanthus_virginicus' 'chionanthus_virginicus' 'staphylea_trifolia'\n",
            " 'chionanthus_virginicus' 'ulmus_americana' 'paulownia_tomentosa'\n",
            " 'magnolia_grandiflora' 'quercus_imbricaria' 'ilex_opaca' 'ilex_opaca'\n",
            " 'acer_negundo' 'fraxinus_americana' 'salix_caroliniana'\n",
            " 'salix_caroliniana' 'salix_caroliniana' 'salix_caroliniana'\n",
            " 'salix_caroliniana' 'morus_alba' 'morus_alba' 'magnolia_denudata'\n",
            " 'cornus_kousa' 'magnolia_denudata' 'magnolia_denudata' 'styrax_japonica'\n",
            " 'magnolia_denudata' 'picea_abies' 'picea_abies' 'picea_abies'\n",
            " 'picea_abies' 'picea_abies' 'picea_abies' 'pinus_strobus' 'picea_pungens'\n",
            " 'picea_pungens' 'picea_pungens' 'picea_pungens' 'picea_pungens'\n",
            " 'picea_pungens' 'picea_pungens' 'styrax_japonica' 'ulmus_rubra'\n",
            " 'ulmus_rubra' 'ulmus_rubra' 'ulmus_rubra' 'ulmus_rubra'\n",
            " 'pinus_wallichiana' 'pinus_taeda' 'pinus_taeda' 'pinus_taeda'\n",
            " 'pinus_taeda' 'ulmus_parvifolia' 'fagus_grandifolia' 'malus_coronaria'\n",
            " 'populus_tremuloides' 'malus_coronaria' 'staphylea_trifolia'\n",
            " 'staphylea_trifolia' 'staphylea_trifolia' 'quercus_marilandica'\n",
            " 'staphylea_trifolia' 'amelanchier_laevis' 'amelanchier_laevis'\n",
            " 'amelanchier_laevis' 'amelanchier_laevis' 'aesculus_glabra'\n",
            " 'aesculus_glabra' 'aesculus_glabra' 'aesculus_glabra' 'aesculus_glabra'\n",
            " 'cryptomeria_japonica' 'cryptomeria_japonica' 'cryptomeria_japonica'\n",
            " 'cryptomeria_japonica' 'cryptomeria_japonica' 'cryptomeria_japonica'\n",
            " 'cryptomeria_japonica' 'cryptomeria_japonica' 'cryptomeria_japonica'\n",
            " 'cryptomeria_japonica' 'cryptomeria_japonica' 'cryptomeria_japonica'\n",
            " 'cryptomeria_japonica' 'cryptomeria_japonica' 'magnolia_denudata'\n",
            " 'diospyros_virginiana' 'diospyros_virginiana' 'diospyros_virginiana'\n",
            " 'betula_jacqemontii' 'styrax_japonica' 'quercus_imbricaria'\n",
            " 'quercus_imbricaria' 'crataegus_crus-galli' 'prunus_serotina'\n",
            " 'acer_palmatum' 'quercus_rubra' 'quercus_rubra' 'quercus_rubra'\n",
            " 'acer_campestre' 'acer_campestre' 'quercus_marilandica'\n",
            " 'quercus_marilandica' 'quercus_marilandica' 'quercus_marilandica'\n",
            " 'quercus_marilandica' 'malus_baccata' 'malus_baccata' 'malus_baccata'\n",
            " 'malus_baccata' 'juglans_cinerea' 'fraxinus_nigra' 'fraxinus_nigra'\n",
            " 'fraxinus_nigra' 'fraxinus_nigra' 'fraxinus_nigra' 'fraxinus_nigra'\n",
            " 'fraxinus_nigra' 'amelanchier_laevis' 'ulmus_parvifolia'\n",
            " 'syringa_reticulata' 'ulmus_pumila' 'amelanchier_arborea'\n",
            " 'prunus_pensylvanica' 'prunus_virginiana' 'prunus_virginiana'\n",
            " 'prunus_virginiana' 'prunus_virginiana' 'prunus_virginiana'\n",
            " 'crataegus_laevigata' 'crataegus_laevigata' 'crataegus_laevigata'\n",
            " 'pinus_bungeana' 'ulmus_rubra' 'chionanthus_retusus'\n",
            " 'chionanthus_retusus' 'fagus_grandifolia' 'fagus_grandifolia'\n",
            " 'ulmus_pumila' 'prunus_virginiana' 'malus_coronaria' 'quercus_falcata'\n",
            " 'quercus_falcata' 'quercus_falcata' 'quercus_velutina' 'quercus_falcata'\n",
            " 'quercus_falcata' 'celtis_occidentalis' 'ilex_opaca'\n",
            " 'celtis_occidentalis' 'quercus_coccinea' 'quercus_coccinea'\n",
            " 'quercus_coccinea' 'acer_pensylvanicum' 'acer_pensylvanicum'\n",
            " 'acer_pensylvanicum' 'juglans_cinerea' 'ulmus_americana'\n",
            " 'ulmus_americana' 'liquidambar_styraciflua' 'liquidambar_styraciflua'\n",
            " 'liquidambar_styraciflua' 'liquidambar_styraciflua'\n",
            " 'liquidambar_styraciflua' 'acer_palmatum' 'pinus_nigra' 'pinus_nigra'\n",
            " 'pinus_nigra' 'pinus_nigra' 'pinus_flexilis' 'populus_deltoides'\n",
            " 'populus_deltoides' 'populus_deltoides' 'populus_deltoides' 'acer_rubrum'\n",
            " 'populus_deltoides' 'prunus_serrulata' 'crataegus_phaenopyrum'\n",
            " 'celtis_occidentalis' 'pinus_wallichiana' 'pinus_wallichiana'\n",
            " 'pinus_wallichiana' 'pinus_koraiensis' 'aesculus_glabra'\n",
            " 'taxodium_distichum' 'quercus_phellos' 'taxodium_distichum'\n",
            " 'taxodium_distichum' 'taxodium_distichum' 'pinus_flexilis'\n",
            " 'pinus_parviflora' 'pinus_flexilis' 'pinus_nigra' 'pinus_parviflora'\n",
            " 'pinus_parviflora' 'pinus_flexilis' 'pinus_pungens' 'pinus_flexilis'\n",
            " 'pinus_koraiensis' 'pinus_flexilis' 'pinus_flexilis' 'quercus_virginiana'\n",
            " 'quercus_virginiana' 'quercus_virginiana' 'quercus_virginiana'\n",
            " 'betula_jacqemontii' 'robinia_pseudo-acacia' 'gleditsia_triacanthos'\n",
            " 'robinia_pseudo-acacia' 'prunus_virginiana' 'prunus_virginiana'\n",
            " 'prunus_virginiana' 'prunus_virginiana' 'prunus_virginiana'\n",
            " 'prunus_virginiana' 'quercus_macrocarpa' 'quercus_macrocarpa'\n",
            " 'quercus_macrocarpa' 'quercus_macrocarpa' 'acer_rubrum'\n",
            " 'evodia_daniellii' 'quercus_velutina' 'fraxinus_nigra' 'evodia_daniellii'\n",
            " 'ulmus_pumila' 'ulmus_pumila' 'ulmus_pumila' 'ulmus_pumila'\n",
            " 'ulmus_pumila' 'ulmus_pumila' 'ulmus_pumila' 'ulmus_pumila'\n",
            " 'ulmus_pumila' 'ulmus_pumila' 'ulmus_pumila' 'ulmus_pumila'\n",
            " 'ulmus_pumila' 'ulmus_pumila' 'ulmus_pumila' 'acer_rubrum'\n",
            " 'liriodendron_tulipifera' 'acer_rubrum' 'acer_palmatum' 'tilia_cordata'\n",
            " 'castanea_dentata' 'castanea_dentata' 'quercus_montana'\n",
            " 'castanea_dentata' 'pyrus_calleryana' 'quercus_muehlenbergii'\n",
            " 'oxydendrum_arboreum' 'oxydendrum_arboreum' 'oxydendrum_arboreum'\n",
            " 'oxydendrum_arboreum' 'oxydendrum_arboreum' 'magnolia_grandiflora'\n",
            " 'magnolia_soulangiana' 'quercus_michauxii' 'quercus_michauxii'\n",
            " 'quercus_michauxii' 'quercus_michauxii' 'quercus_michauxii'\n",
            " 'quercus_michauxii' 'quercus_shumardii' 'quercus_shumardii'\n",
            " 'quercus_shumardii' 'acer_pensylvanicum' 'quercus_shumardii'\n",
            " 'cedrus_atlantica' 'cedrus_atlantica' 'cedrus_atlantica'\n",
            " 'cedrus_atlantica' 'cedrus_atlantica' 'cedrus_libani' 'cedrus_atlantica'\n",
            " 'cedrus_atlantica' 'cedrus_atlantica' 'abies_nordmanniana'\n",
            " 'abies_nordmanniana' 'abies_nordmanniana' 'metasequoia_glyptostroboides'\n",
            " 'toona_sinensis' 'toona_sinensis' 'toona_sinensis' 'quercus_stellata'\n",
            " 'quercus_stellata' 'quercus_stellata' 'ptelea_trifoliata'\n",
            " 'quercus_stellata' 'quercus_stellata' 'malus_floribunda'\n",
            " 'malus_floribunda' 'prunus_subhirtella' 'malus_floribunda'\n",
            " 'cornus_florida' 'prunus_yedoensis' 'prunus_yedoensis'\n",
            " 'betula_populifolia' 'prunus_sargentii' 'carpinus_caroliniana'\n",
            " 'carpinus_caroliniana' 'acer_palmatum' 'acer_platanoides'\n",
            " 'crataegus_crus-galli' 'quercus_imbricaria' 'ptelea_trifoliata'\n",
            " 'acer_griseum' 'broussonettia_papyrifera' 'ptelea_trifoliata'\n",
            " 'ptelea_trifoliata' 'cercis_canadensis' 'cercis_canadensis'\n",
            " 'cercis_canadensis' 'catalpa_speciosa' 'cercis_canadensis'\n",
            " 'pinus_echinata' 'pinus_echinata' 'pinus_echinata' 'picea_pungens'\n",
            " 'pinus_echinata' 'ostrya_virginiana' 'ostrya_virginiana'\n",
            " 'asimina_triloba' 'crataegus_viridis' 'magnolia_tripetala'\n",
            " 'magnolia_tripetala' 'magnolia_stellata' 'magnolia_tripetala'\n",
            " 'magnolia_tripetala' 'celtis_tenuifolia' 'celtis_tenuifolia'\n",
            " 'celtis_tenuifolia' 'celtis_tenuifolia' 'tilia_cordata'\n",
            " 'populus_deltoides' 'tilia_cordata' 'tilia_cordata' 'tilia_cordata'\n",
            " 'tilia_cordata' 'tilia_cordata' 'tilia_cordata' 'tilia_cordata'\n",
            " 'salix_nigra' 'magnolia_virginiana' 'styrax_japonica' 'zelkova_serrata'\n",
            " 'pinus_taeda' 'ostrya_virginiana' 'magnolia_virginiana' 'morus_alba'\n",
            " 'tilia_americana' 'salix_nigra' 'salix_nigra' 'salix_nigra' 'salix_nigra'\n",
            " 'salix_nigra' 'salix_nigra' 'salix_nigra' 'salix_nigra' 'salix_nigra'\n",
            " 'carya_ovata' 'carya_ovata' 'carya_ovata' 'carya_ovata'\n",
            " 'prunus_yedoensis' 'prunus_yedoensis' 'prunus_serrulata'\n",
            " 'magnolia_soulangiana' 'celtis_occidentalis' 'celtis_occidentalis'\n",
            " 'betula_jacqemontii' 'tilia_tomentosa' 'quercus_nigra'\n",
            " 'prunus_virginiana' 'aesculus_pavi' 'quercus_nigra' 'quercus_nigra'\n",
            " 'metasequoia_glyptostroboides' 'metasequoia_glyptostroboides'\n",
            " 'metasequoia_glyptostroboides' 'metasequoia_glyptostroboides'\n",
            " 'abies_nordmanniana' 'metasequoia_glyptostroboides' 'albizia_julibrissin'\n",
            " 'albizia_julibrissin' 'albizia_julibrissin' 'albizia_julibrissin'\n",
            " 'juglans_cinerea' 'amelanchier_arborea' 'malus_baccata' 'malus_baccata'\n",
            " 'amelanchier_arborea' 'aesculus_pavi' 'aesculus_pavi' 'aesculus_pavi'\n",
            " 'aesculus_pavi' 'aesculus_pavi' 'aesculus_pavi' 'aesculus_pavi'\n",
            " 'aesculus_pavi' 'aesculus_pavi' 'aesculus_pavi' 'aesculus_pavi'\n",
            " 'malus_pumila' 'cornus_florida' 'malus_pumila' 'betula_populifolia'\n",
            " 'malus_baccata' 'acer_negundo' 'ulmus_parvifolia' 'styrax_japonica'\n",
            " 'styrax_japonica' 'quercus_phellos' 'cornus_florida'\n",
            " 'magnolia_grandiflora' 'betula_jacqemontii' 'prunus_serrulata'\n",
            " 'betula_jacqemontii' 'broussonettia_papyrifera' 'betula_populifolia'\n",
            " 'broussonettia_papyrifera' 'broussonettia_papyrifera'\n",
            " 'broussonettia_papyrifera' 'acer_pensylvanicum'\n",
            " 'stewartia_pseudocamellia' 'stewartia_pseudocamellia'\n",
            " 'stewartia_pseudocamellia' 'stewartia_pseudocamellia'\n",
            " 'catalpa_bignonioides' 'zelkova_serrata' 'nyssa_sylvatica'\n",
            " 'nyssa_sylvatica' 'nyssa_sylvatica' 'zelkova_serrata' 'salix_nigra'\n",
            " 'quercus_phellos' 'sassafras_albidum' 'acer_pensylvanicum' 'ulmus_glabra'\n",
            " 'ulmus_glabra' 'ulmus_glabra' 'betula_alleghaniensis' 'juglans_cinerea'\n",
            " 'ulmus_glabra' 'acer_pensylvanicum' 'quercus_marilandica'\n",
            " 'quercus_shumardii' 'acer_ginnala' 'acer_ginnala' 'cedrus_deodara'\n",
            " 'cedrus_deodara' 'cedrus_deodara' 'cedrus_deodara' 'oxydendrum_arboreum'\n",
            " 'oxydendrum_arboreum' 'magnolia_stellata' 'quercus_bicolor'\n",
            " 'tilia_europaea' 'quercus_bicolor' 'platanus_occidentalis'\n",
            " 'platanus_occidentalis' 'crataegus_viridis' 'crataegus_pruinosa'\n",
            " 'crataegus_pruinosa' 'crataegus_pruinosa' 'corylus_colurna'\n",
            " 'corylus_colurna' 'corylus_colurna' 'corylus_colurna' 'corylus_colurna'\n",
            " 'pinus_parviflora' 'pinus_pungens' 'pinus_koraiensis' 'pinus_pungens'\n",
            " 'chamaecyparis_pisifera' 'fraxinus_nigra' 'asimina_triloba'\n",
            " 'asimina_triloba' 'asimina_triloba' 'asimina_triloba'\n",
            " 'quercus_virginiana' 'picea_pungens' 'pinus_flexilis' 'pinus_resinosa'\n",
            " 'pinus_resinosa' 'pinus_flexilis' 'styrax_obassia' 'styrax_obassia'\n",
            " 'styrax_obassia' 'styrax_japonica' 'styrax_obassia'\n",
            " 'amelanchier_canadensis' 'malus_coronaria' 'malus_coronaria'\n",
            " 'malus_coronaria']\n"
          ]
        },
        {
          "output_type": "execute_result",
          "data": {
            "text/plain": [
              "(917,)"
            ]
          },
          "metadata": {},
          "execution_count": 17
        }
      ]
    },
    {
      "cell_type": "markdown",
      "source": [
        "**Confusion Matrix**"
      ],
      "metadata": {
        "id": "Hh6_IkjtWccK"
      }
    },
    {
      "cell_type": "code",
      "source": [
        "from sklearn.metrics import confusion_matrix\n",
        "confusion_matrix(y_test,y_pred)"
      ],
      "metadata": {
        "id": "dnytOR3AWfRx",
        "colab": {
          "base_uri": "https://localhost:8080/"
        },
        "outputId": "6803214f-263c-4b84-bcac-746495313e09"
      },
      "execution_count": null,
      "outputs": [
        {
          "output_type": "execute_result",
          "data": {
            "text/plain": [
              "array([[ 6,  0,  0, ...,  0,  0,  0],\n",
              "       [ 0,  3,  0, ...,  0,  0,  0],\n",
              "       [ 0,  0,  5, ...,  0,  0,  0],\n",
              "       ...,\n",
              "       [ 0,  0,  0, ..., 15,  0,  0],\n",
              "       [ 0,  0,  0, ...,  0,  5,  0],\n",
              "       [ 0,  0,  0, ...,  0,  0,  6]])"
            ]
          },
          "metadata": {},
          "execution_count": 18
        }
      ]
    },
    {
      "cell_type": "markdown",
      "source": [
        "**Calculating the Accuracy of the Model**"
      ],
      "metadata": {
        "id": "39zQ9wPGWl14"
      }
    },
    {
      "cell_type": "code",
      "source": [
        "from sklearn.metrics import classification_report\n",
        "print(classification_report(y_test,y_pred))"
      ],
      "metadata": {
        "id": "UJLdXHlGWquA",
        "colab": {
          "base_uri": "https://localhost:8080/"
        },
        "outputId": "d80d0cbf-506b-4f91-f663-ef1fae23c0e2"
      },
      "execution_count": null,
      "outputs": [
        {
          "output_type": "stream",
          "name": "stdout",
          "text": [
            "                              precision    recall  f1-score   support\n",
            "\n",
            "              abies_concolor       1.00      1.00      1.00         6\n",
            "          abies_nordmanniana       0.60      0.75      0.67         4\n",
            "              acer_campestre       0.62      1.00      0.77         5\n",
            "                acer_ginnala       1.00      0.50      0.67         4\n",
            "                acer_griseum       0.83      0.83      0.83         6\n",
            "                acer_negundo       0.43      0.75      0.55         4\n",
            "               acer_palmatum       0.64      0.90      0.75        10\n",
            "          acer_pensylvanicum       0.43      0.75      0.55         4\n",
            "            acer_platanoides       1.00      0.50      0.67         2\n",
            "         acer_pseudoplatanus       0.00      0.00      0.00         2\n",
            "                 acer_rubrum       0.50      0.40      0.44         5\n",
            "            acer_saccharinum       1.00      1.00      1.00         5\n",
            "              acer_saccharum       1.00      0.33      0.50         3\n",
            "              aesculus_flava       0.00      0.00      0.00         2\n",
            "             aesculus_glabra       0.71      1.00      0.83         5\n",
            "      aesculus_hippocastamon       0.67      0.67      0.67         3\n",
            "               aesculus_pavi       0.85      1.00      0.92        11\n",
            "         ailanthus_altissima       0.00      0.00      0.00         3\n",
            "         albizia_julibrissin       1.00      1.00      1.00         4\n",
            "         amelanchier_arborea       0.67      0.40      0.50         5\n",
            "      amelanchier_canadensis       0.75      0.75      0.75         4\n",
            "          amelanchier_laevis       0.80      1.00      0.89         4\n",
            "             asimina_triloba       0.67      0.67      0.67         6\n",
            "       betula_alleghaniensis       0.80      1.00      0.89         4\n",
            "          betula_jacqemontii       0.40      0.67      0.50         3\n",
            "                betula_lenta       0.00      0.00      0.00         2\n",
            "                betula_nigra       0.50      0.50      0.50         2\n",
            "          betula_populifolia       0.43      0.75      0.55         4\n",
            "    broussonettia_papyrifera       0.67      0.67      0.67         6\n",
            "            carpinus_betulus       0.00      0.00      0.00         2\n",
            "        carpinus_caroliniana       1.00      0.50      0.67         4\n",
            "           carya_cordiformis       0.50      0.67      0.57         6\n",
            "                carya_glabra       1.00      0.89      0.94         9\n",
            "                 carya_ovata       1.00      1.00      1.00         4\n",
            "             carya_tomentosa       1.00      0.83      0.91         6\n",
            "            castanea_dentata       0.75      0.60      0.67         5\n",
            "        catalpa_bignonioides       0.50      0.40      0.44         5\n",
            "            catalpa_speciosa       0.88      0.88      0.88         8\n",
            "            cedrus_atlantica       1.00      0.89      0.94         9\n",
            "              cedrus_deodara       1.00      1.00      1.00         4\n",
            "               cedrus_libani       0.83      0.83      0.83         6\n",
            "         celtis_occidentalis       0.33      0.67      0.44         3\n",
            "           celtis_tenuifolia       1.00      1.00      1.00         4\n",
            "    cercidiphyllum_japonicum       1.00      0.67      0.80         3\n",
            "           cercis_canadensis       0.80      0.80      0.80         5\n",
            "      chamaecyparis_pisifera       0.75      0.50      0.60         6\n",
            "      chamaecyparis_thyoides       1.00      1.00      1.00         5\n",
            "         chionanthus_retusus       1.00      0.67      0.80         3\n",
            "      chionanthus_virginicus       0.67      0.80      0.73         5\n",
            "            cladrastis_lutea       1.00      1.00      1.00         6\n",
            "              cornus_florida       0.33      0.17      0.22         6\n",
            "                cornus_kousa       0.50      0.50      0.50         2\n",
            "                  cornus_mas       1.00      0.20      0.33         5\n",
            "             corylus_colurna       1.00      1.00      1.00         5\n",
            "        crataegus_crus-galli       0.50      0.50      0.50         2\n",
            "         crataegus_laevigata       1.00      1.00      1.00         3\n",
            "       crataegus_phaenopyrum       0.50      0.33      0.40         3\n",
            "          crataegus_pruinosa       1.00      0.75      0.86         4\n",
            "           crataegus_viridis       0.33      0.40      0.36         5\n",
            "        cryptomeria_japonica       0.88      1.00      0.93        14\n",
            "        diospyros_virginiana       0.75      0.50      0.60         6\n",
            "           eucommia_ulmoides       0.67      0.50      0.57         8\n",
            "            evodia_daniellii       1.00      0.50      0.67         4\n",
            "           fagus_grandifolia       0.33      0.40      0.36         5\n",
            "                ficus_carica       1.00      0.80      0.89         5\n",
            "          fraxinus_americana       0.50      0.50      0.50         2\n",
            "              fraxinus_nigra       0.54      0.78      0.64         9\n",
            "      fraxinus_pennsylvanica       0.00      0.00      0.00         2\n",
            "               ginkgo_biloba       0.00      0.00      0.00         3\n",
            "       gleditsia_triacanthos       0.86      1.00      0.92         6\n",
            "         gymnocladus_dioicus       1.00      1.00      1.00         4\n",
            "          halesia_tetraptera       0.00      0.00      0.00         3\n",
            "                  ilex_opaca       0.50      0.50      0.50         4\n",
            "             juglans_cinerea       0.60      0.55      0.57        11\n",
            "               juglans_nigra       1.00      0.50      0.67         2\n",
            "        juniperus_virginiana       1.00      0.86      0.92         7\n",
            "     koelreuteria_paniculata       0.88      0.88      0.88         8\n",
            "               larix_decidua       1.00      0.67      0.80         3\n",
            "     liquidambar_styraciflua       1.00      0.83      0.91         6\n",
            "     liriodendron_tulipifera       0.75      1.00      0.86         6\n",
            "            maclura_pomifera       0.00      0.00      0.00         3\n",
            "          magnolia_acuminata       1.00      0.75      0.86         4\n",
            "           magnolia_denudata       0.80      0.67      0.73         6\n",
            "        magnolia_grandiflora       0.25      0.50      0.33         2\n",
            "        magnolia_macrophylla       0.75      1.00      0.86         3\n",
            "        magnolia_soulangiana       0.33      0.33      0.33         3\n",
            "           magnolia_stellata       0.17      0.17      0.17         6\n",
            "          magnolia_tripetala       0.00      0.00      0.00         4\n",
            "         magnolia_virginiana       1.00      0.29      0.44         7\n",
            "          malus_angustifolia       0.50      0.25      0.33         4\n",
            "               malus_baccata       0.44      1.00      0.62         4\n",
            "             malus_coronaria       0.33      0.75      0.46         4\n",
            "            malus_floribunda       1.00      0.75      0.86         4\n",
            "            malus_hupehensis       1.00      0.25      0.40         4\n",
            "                malus_pumila       1.00      0.33      0.50         6\n",
            "metasequoia_glyptostroboides       0.83      0.83      0.83         6\n",
            "                  morus_alba       0.00      0.00      0.00         2\n",
            "                 morus_rubra       0.00      0.00      0.00         2\n",
            "             nyssa_sylvatica       0.60      0.60      0.60         5\n",
            "           ostrya_virginiana       0.40      0.67      0.50         3\n",
            "         oxydendrum_arboreum       0.71      0.83      0.77         6\n",
            "         paulownia_tomentosa       0.00      0.00      0.00         3\n",
            "      phellodendron_amurense       1.00      1.00      1.00         4\n",
            "                 picea_abies       1.00      1.00      1.00         6\n",
            "            picea_orientalis       1.00      1.00      1.00         5\n",
            "               picea_pungens       0.60      1.00      0.75         6\n",
            "              pinus_bungeana       0.67      1.00      0.80         6\n",
            "                pinus_cembra       0.75      0.43      0.55         7\n",
            "            pinus_densiflora       1.00      0.80      0.89         5\n",
            "              pinus_echinata       1.00      0.80      0.89         5\n",
            "              pinus_flexilis       0.44      0.67      0.53         6\n",
            "            pinus_koraiensis       0.33      0.20      0.25         5\n",
            "                 pinus_nigra       0.31      0.80      0.44         5\n",
            "            pinus_parviflora       0.75      0.50      0.60         6\n",
            "                pinus_peucea       1.00      0.80      0.89         5\n",
            "               pinus_pungens       0.50      0.60      0.55         5\n",
            "              pinus_resinosa       1.00      0.40      0.57         5\n",
            "                pinus_rigida       1.00      0.60      0.75         5\n",
            "               pinus_strobus       1.00      0.50      0.67         2\n",
            "            pinus_sylvestris       1.00      1.00      1.00         4\n",
            "                 pinus_taeda       0.80      0.80      0.80         5\n",
            "            pinus_thunbergii       0.00      0.00      0.00         1\n",
            "            pinus_virginiana       0.00      0.00      0.00         5\n",
            "           pinus_wallichiana       0.75      0.75      0.75         4\n",
            "         platanus_acerifolia       0.25      0.50      0.33         2\n",
            "       platanus_occidentalis       0.20      0.50      0.29         2\n",
            "           populus_deltoides       0.83      0.83      0.83         6\n",
            "       populus_grandidentata       1.00      0.80      0.89         5\n",
            "         populus_tremuloides       1.00      0.20      0.33         5\n",
            "         prunus_pensylvanica       0.75      1.00      0.86         3\n",
            "            prunus_sargentii       0.37      0.39      0.38        18\n",
            "             prunus_serotina       0.50      0.33      0.40         3\n",
            "            prunus_serrulata       0.00      0.00      0.00         2\n",
            "          prunus_subhirtella       0.00      0.00      0.00         6\n",
            "           prunus_virginiana       0.41      0.47      0.44        19\n",
            "            prunus_yedoensis       0.50      0.67      0.57         3\n",
            "        pseudolarix_amabilis       0.83      1.00      0.91         5\n",
            "           ptelea_trifoliata       0.75      0.60      0.67         5\n",
            "            pyrus_calleryana       0.67      1.00      0.80         6\n",
            "          quercus_acutissima       1.00      1.00      1.00         6\n",
            "                quercus_alba       0.00      0.00      0.00         2\n",
            "             quercus_bicolor       1.00      0.67      0.80         3\n",
            "              quercus_cerris       1.00      0.67      0.80         3\n",
            "            quercus_coccinea       1.00      1.00      1.00         3\n",
            "             quercus_falcata       1.00      0.83      0.91         6\n",
            "          quercus_imbricaria       0.50      0.50      0.50         4\n",
            "          quercus_macrocarpa       1.00      0.80      0.89         5\n",
            "         quercus_marilandica       0.71      0.71      0.71         7\n",
            "           quercus_michauxii       0.86      1.00      0.92         6\n",
            "             quercus_montana       0.71      0.71      0.71         7\n",
            "       quercus_muehlenbergii       0.15      0.17      0.16        12\n",
            "               quercus_nigra       1.00      0.60      0.75         5\n",
            "           quercus_palustris       0.00      0.00      0.00         2\n",
            "             quercus_phellos       0.25      0.50      0.33         2\n",
            "               quercus_robur       1.00      0.75      0.86         4\n",
            "               quercus_rubra       0.43      0.75      0.55         4\n",
            "           quercus_shumardii       0.80      0.80      0.80         5\n",
            "            quercus_stellata       1.00      0.83      0.91         6\n",
            "            quercus_velutina       0.67      0.67      0.67         6\n",
            "          quercus_virginiana       0.80      0.80      0.80         5\n",
            "       robinia_pseudo-acacia       0.50      0.67      0.57         3\n",
            "            salix_babylonica       1.00      0.83      0.91         6\n",
            "           salix_caroliniana       1.00      1.00      1.00         5\n",
            "             salix_matsudana       1.00      0.80      0.89         5\n",
            "                 salix_nigra       0.64      1.00      0.78         9\n",
            "           sassafras_albidum       0.50      0.50      0.50         2\n",
            "          staphylea_trifolia       0.80      0.80      0.80         5\n",
            "    stewartia_pseudocamellia       0.80      0.80      0.80         5\n",
            "             styrax_japonica       0.25      0.33      0.29        12\n",
            "              styrax_obassia       0.67      0.80      0.73         5\n",
            "          syringa_reticulata       0.75      0.60      0.67         5\n",
            "          taxodium_distichum       1.00      0.67      0.80         6\n",
            "             tilia_americana       1.00      0.50      0.67         2\n",
            "               tilia_cordata       0.80      0.89      0.84         9\n",
            "              tilia_europaea       0.00      0.00      0.00         2\n",
            "             tilia_tomentosa       0.67      0.67      0.67         3\n",
            "              toona_sinensis       1.00      1.00      1.00         3\n",
            "            tsuga_canadensis       0.88      0.88      0.88         8\n",
            "             ulmus_americana       0.67      1.00      0.80         2\n",
            "                ulmus_glabra       1.00      0.57      0.73         7\n",
            "            ulmus_parvifolia       0.33      0.20      0.25         5\n",
            "                ulmus_pumila       0.83      1.00      0.91        15\n",
            "                 ulmus_rubra       0.83      0.83      0.83         6\n",
            "             zelkova_serrata       0.50      0.86      0.63         7\n",
            "\n",
            "                    accuracy                           0.67       917\n",
            "                   macro avg       0.67      0.63      0.63       917\n",
            "                weighted avg       0.70      0.67      0.66       917\n",
            "\n"
          ]
        },
        {
          "output_type": "stream",
          "name": "stderr",
          "text": [
            "/usr/local/lib/python3.7/dist-packages/sklearn/metrics/_classification.py:1318: UndefinedMetricWarning: Precision and F-score are ill-defined and being set to 0.0 in labels with no predicted samples. Use `zero_division` parameter to control this behavior.\n",
            "  _warn_prf(average, modifier, msg_start, len(result))\n",
            "/usr/local/lib/python3.7/dist-packages/sklearn/metrics/_classification.py:1318: UndefinedMetricWarning: Precision and F-score are ill-defined and being set to 0.0 in labels with no predicted samples. Use `zero_division` parameter to control this behavior.\n",
            "  _warn_prf(average, modifier, msg_start, len(result))\n",
            "/usr/local/lib/python3.7/dist-packages/sklearn/metrics/_classification.py:1318: UndefinedMetricWarning: Precision and F-score are ill-defined and being set to 0.0 in labels with no predicted samples. Use `zero_division` parameter to control this behavior.\n",
            "  _warn_prf(average, modifier, msg_start, len(result))\n"
          ]
        }
      ]
    },
    {
      "cell_type": "code",
      "source": [
        "from sklearn.metrics import accuracy_score\n",
        "mlp = accuracy_score(y_test, y_pred)\n",
        "mlp"
      ],
      "metadata": {
        "id": "pThHbjIfZUDL",
        "colab": {
          "base_uri": "https://localhost:8080/"
        },
        "outputId": "5aa8cd25-62ab-4785-da74-8b67563d7627"
      },
      "execution_count": null,
      "outputs": [
        {
          "output_type": "execute_result",
          "data": {
            "text/plain": [
              "0.6717557251908397"
            ]
          },
          "metadata": {},
          "execution_count": 20
        }
      ]
    },
    {
      "cell_type": "markdown",
      "source": [
        "# **Naive-Bays Model**"
      ],
      "metadata": {
        "id": "zoc9oVerXwxN"
      }
    },
    {
      "cell_type": "code",
      "source": [
        "from sklearn.naive_bayes import GaussianNB\n",
        "clf = GaussianNB()\n",
        "clf.fit(x_train, y_train)"
      ],
      "metadata": {
        "colab": {
          "base_uri": "https://localhost:8080/"
        },
        "id": "zMgebDUcX0HQ",
        "outputId": "e5d1968e-f53f-476c-e136-4d5c5a24dc49"
      },
      "execution_count": null,
      "outputs": [
        {
          "output_type": "execute_result",
          "data": {
            "text/plain": [
              "GaussianNB()"
            ]
          },
          "metadata": {},
          "execution_count": 21
        }
      ]
    },
    {
      "cell_type": "code",
      "source": [
        "y_pred = clf.predict(x_test)"
      ],
      "metadata": {
        "id": "eQeoSbq3X9ki"
      },
      "execution_count": null,
      "outputs": []
    },
    {
      "cell_type": "code",
      "source": [
        "from sklearn.metrics import confusion_matrix, accuracy_score\n",
        "cm = confusion_matrix(y_test, y_pred)\n",
        "print(cm)\n",
        "naive = accuracy_score(y_test, y_pred)\n",
        "naive"
      ],
      "metadata": {
        "id": "j83IlSrKYGr4",
        "colab": {
          "base_uri": "https://localhost:8080/"
        },
        "outputId": "897ce826-0bf2-4241-a710-099eb4491483"
      },
      "execution_count": null,
      "outputs": [
        {
          "output_type": "stream",
          "name": "stdout",
          "text": [
            "[[ 4  0  0 ...  0  0  0]\n",
            " [ 0  1  0 ...  0  0  0]\n",
            " [ 0  0  3 ...  0  0  0]\n",
            " ...\n",
            " [ 0  0  0 ... 10  0  0]\n",
            " [ 0  0  0 ...  0  2  0]\n",
            " [ 0  0  0 ...  0  0  2]]\n"
          ]
        },
        {
          "output_type": "execute_result",
          "data": {
            "text/plain": [
              "0.4143947655398037"
            ]
          },
          "metadata": {},
          "execution_count": 23
        }
      ]
    },
    {
      "cell_type": "code",
      "source": [
        "from sklearn.metrics import classification_report\n",
        "print(classification_report(y_test,y_pred))"
      ],
      "metadata": {
        "id": "lFf4yUNPYLxD",
        "colab": {
          "base_uri": "https://localhost:8080/"
        },
        "outputId": "e850e03b-e610-43f1-b191-fdad4e6add77"
      },
      "execution_count": null,
      "outputs": [
        {
          "output_type": "stream",
          "name": "stdout",
          "text": [
            "                              precision    recall  f1-score   support\n",
            "\n",
            "              abies_concolor       1.00      0.67      0.80         6\n",
            "          abies_nordmanniana       1.00      0.25      0.40         4\n",
            "              acer_campestre       0.50      0.60      0.55         5\n",
            "                acer_ginnala       0.60      0.75      0.67         4\n",
            "                acer_griseum       0.00      0.00      0.00         6\n",
            "                acer_negundo       0.40      0.50      0.44         4\n",
            "               acer_palmatum       0.07      0.10      0.08        10\n",
            "          acer_pensylvanicum       0.25      0.50      0.33         4\n",
            "            acer_platanoides       1.00      1.00      1.00         2\n",
            "         acer_pseudoplatanus       1.00      0.50      0.67         2\n",
            "                 acer_rubrum       0.17      0.40      0.24         5\n",
            "            acer_saccharinum       0.50      0.80      0.62         5\n",
            "              acer_saccharum       0.00      0.00      0.00         3\n",
            "              aesculus_flava       0.00      0.00      0.00         2\n",
            "             aesculus_glabra       0.50      0.20      0.29         5\n",
            "      aesculus_hippocastamon       0.50      0.33      0.40         3\n",
            "               aesculus_pavi       0.33      0.09      0.14        11\n",
            "         ailanthus_altissima       0.00      0.00      0.00         3\n",
            "         albizia_julibrissin       1.00      0.50      0.67         4\n",
            "         amelanchier_arborea       0.50      0.20      0.29         5\n",
            "      amelanchier_canadensis       0.50      0.25      0.33         4\n",
            "          amelanchier_laevis       1.00      1.00      1.00         4\n",
            "             asimina_triloba       0.33      0.17      0.22         6\n",
            "       betula_alleghaniensis       0.75      0.75      0.75         4\n",
            "          betula_jacqemontii       0.00      0.00      0.00         3\n",
            "                betula_lenta       1.00      0.50      0.67         2\n",
            "                betula_nigra       0.00      0.00      0.00         2\n",
            "          betula_populifolia       0.43      0.75      0.55         4\n",
            "    broussonettia_papyrifera       0.20      0.17      0.18         6\n",
            "            carpinus_betulus       0.00      0.00      0.00         2\n",
            "        carpinus_caroliniana       0.00      0.00      0.00         4\n",
            "           carya_cordiformis       0.57      0.67      0.62         6\n",
            "                carya_glabra       0.33      0.33      0.33         9\n",
            "                 carya_ovata       1.00      0.25      0.40         4\n",
            "             carya_tomentosa       0.75      0.50      0.60         6\n",
            "            castanea_dentata       0.50      0.60      0.55         5\n",
            "        catalpa_bignonioides       0.25      0.20      0.22         5\n",
            "            catalpa_speciosa       0.11      0.12      0.12         8\n",
            "            cedrus_atlantica       0.44      0.44      0.44         9\n",
            "              cedrus_deodara       1.00      0.75      0.86         4\n",
            "               cedrus_libani       1.00      1.00      1.00         6\n",
            "         celtis_occidentalis       0.12      0.33      0.18         3\n",
            "           celtis_tenuifolia       1.00      1.00      1.00         4\n",
            "    cercidiphyllum_japonicum       0.75      1.00      0.86         3\n",
            "           cercis_canadensis       0.43      0.60      0.50         5\n",
            "      chamaecyparis_pisifera       0.67      0.33      0.44         6\n",
            "      chamaecyparis_thyoides       1.00      1.00      1.00         5\n",
            "         chionanthus_retusus       1.00      0.67      0.80         3\n",
            "      chionanthus_virginicus       0.40      0.80      0.53         5\n",
            "            cladrastis_lutea       1.00      0.33      0.50         6\n",
            "              cornus_florida       0.00      0.00      0.00         6\n",
            "                cornus_kousa       1.00      0.50      0.67         2\n",
            "                  cornus_mas       0.33      0.20      0.25         5\n",
            "             corylus_colurna       0.50      0.80      0.62         5\n",
            "        crataegus_crus-galli       0.29      1.00      0.44         2\n",
            "         crataegus_laevigata       1.00      1.00      1.00         3\n",
            "       crataegus_phaenopyrum       0.00      0.00      0.00         3\n",
            "          crataegus_pruinosa       0.29      0.50      0.36         4\n",
            "           crataegus_viridis       0.50      0.40      0.44         5\n",
            "        cryptomeria_japonica       0.69      0.79      0.73        14\n",
            "        diospyros_virginiana       0.20      0.17      0.18         6\n",
            "           eucommia_ulmoides       0.09      0.12      0.11         8\n",
            "            evodia_daniellii       0.18      0.50      0.27         4\n",
            "           fagus_grandifolia       0.33      0.20      0.25         5\n",
            "                ficus_carica       0.80      0.80      0.80         5\n",
            "          fraxinus_americana       0.00      0.00      0.00         2\n",
            "              fraxinus_nigra       0.55      0.67      0.60         9\n",
            "      fraxinus_pennsylvanica       0.00      0.00      0.00         2\n",
            "               ginkgo_biloba       0.00      0.00      0.00         3\n",
            "       gleditsia_triacanthos       1.00      0.67      0.80         6\n",
            "         gymnocladus_dioicus       1.00      1.00      1.00         4\n",
            "          halesia_tetraptera       0.00      0.00      0.00         3\n",
            "                  ilex_opaca       0.00      0.00      0.00         4\n",
            "             juglans_cinerea       0.09      0.09      0.09        11\n",
            "               juglans_nigra       0.00      0.00      0.00         2\n",
            "        juniperus_virginiana       0.75      0.43      0.55         7\n",
            "     koelreuteria_paniculata       0.86      0.75      0.80         8\n",
            "               larix_decidua       0.50      0.67      0.57         3\n",
            "     liquidambar_styraciflua       1.00      0.83      0.91         6\n",
            "     liriodendron_tulipifera       0.00      0.00      0.00         6\n",
            "            maclura_pomifera       0.00      0.00      0.00         3\n",
            "          magnolia_acuminata       1.00      0.25      0.40         4\n",
            "           magnolia_denudata       0.62      0.83      0.71         6\n",
            "        magnolia_grandiflora       0.00      0.00      0.00         2\n",
            "        magnolia_macrophylla       0.50      0.67      0.57         3\n",
            "        magnolia_soulangiana       0.00      0.00      0.00         3\n",
            "           magnolia_stellata       0.00      0.00      0.00         6\n",
            "          magnolia_tripetala       0.07      0.25      0.11         4\n",
            "         magnolia_virginiana       0.40      0.29      0.33         7\n",
            "          malus_angustifolia       0.00      0.00      0.00         4\n",
            "               malus_baccata       0.29      0.50      0.36         4\n",
            "             malus_coronaria       0.67      0.50      0.57         4\n",
            "            malus_floribunda       0.67      0.50      0.57         4\n",
            "            malus_hupehensis       0.25      0.25      0.25         4\n",
            "                malus_pumila       0.50      0.17      0.25         6\n",
            "metasequoia_glyptostroboides       0.71      0.83      0.77         6\n",
            "                  morus_alba       0.33      0.50      0.40         2\n",
            "                 morus_rubra       0.00      0.00      0.00         2\n",
            "             nyssa_sylvatica       0.00      0.00      0.00         5\n",
            "           ostrya_virginiana       1.00      0.33      0.50         3\n",
            "         oxydendrum_arboreum       0.50      0.33      0.40         6\n",
            "         paulownia_tomentosa       1.00      0.33      0.50         3\n",
            "      phellodendron_amurense       1.00      0.75      0.86         4\n",
            "                 picea_abies       0.86      1.00      0.92         6\n",
            "            picea_orientalis       0.75      0.60      0.67         5\n",
            "               picea_pungens       1.00      0.50      0.67         6\n",
            "              pinus_bungeana       1.00      0.50      0.67         6\n",
            "                pinus_cembra       0.40      0.29      0.33         7\n",
            "            pinus_densiflora       1.00      0.60      0.75         5\n",
            "              pinus_echinata       1.00      0.80      0.89         5\n",
            "              pinus_flexilis       0.44      0.67      0.53         6\n",
            "            pinus_koraiensis       0.00      0.00      0.00         5\n",
            "                 pinus_nigra       0.14      0.20      0.17         5\n",
            "            pinus_parviflora       0.40      0.33      0.36         6\n",
            "                pinus_peucea       1.00      0.40      0.57         5\n",
            "               pinus_pungens       0.57      0.80      0.67         5\n",
            "              pinus_resinosa       0.80      0.80      0.80         5\n",
            "                pinus_rigida       1.00      0.20      0.33         5\n",
            "               pinus_strobus       1.00      0.50      0.67         2\n",
            "            pinus_sylvestris       1.00      1.00      1.00         4\n",
            "                 pinus_taeda       1.00      0.60      0.75         5\n",
            "            pinus_thunbergii       0.00      0.00      0.00         1\n",
            "            pinus_virginiana       0.25      0.40      0.31         5\n",
            "           pinus_wallichiana       1.00      0.50      0.67         4\n",
            "         platanus_acerifolia       0.33      0.50      0.40         2\n",
            "       platanus_occidentalis       0.00      0.00      0.00         2\n",
            "           populus_deltoides       0.67      0.67      0.67         6\n",
            "       populus_grandidentata       0.33      0.20      0.25         5\n",
            "         populus_tremuloides       0.50      0.40      0.44         5\n",
            "         prunus_pensylvanica       0.00      0.00      0.00         3\n",
            "            prunus_sargentii       0.00      0.00      0.00        18\n",
            "             prunus_serotina       0.00      0.00      0.00         3\n",
            "            prunus_serrulata       0.00      0.00      0.00         2\n",
            "          prunus_subhirtella       0.36      0.67      0.47         6\n",
            "           prunus_virginiana       0.05      0.21      0.08        19\n",
            "            prunus_yedoensis       0.00      0.00      0.00         3\n",
            "        pseudolarix_amabilis       0.80      0.80      0.80         5\n",
            "           ptelea_trifoliata       0.00      0.00      0.00         5\n",
            "            pyrus_calleryana       0.40      0.33      0.36         6\n",
            "          quercus_acutissima       1.00      0.83      0.91         6\n",
            "                quercus_alba       0.00      0.00      0.00         2\n",
            "             quercus_bicolor       0.60      1.00      0.75         3\n",
            "              quercus_cerris       0.33      0.67      0.44         3\n",
            "            quercus_coccinea       0.60      1.00      0.75         3\n",
            "             quercus_falcata       0.50      0.17      0.25         6\n",
            "          quercus_imbricaria       0.12      0.25      0.17         4\n",
            "          quercus_macrocarpa       1.00      0.80      0.89         5\n",
            "         quercus_marilandica       0.25      0.43      0.32         7\n",
            "           quercus_michauxii       0.50      0.33      0.40         6\n",
            "             quercus_montana       0.20      0.14      0.17         7\n",
            "       quercus_muehlenbergii       0.35      0.58      0.44        12\n",
            "               quercus_nigra       0.50      0.80      0.62         5\n",
            "           quercus_palustris       0.00      0.00      0.00         2\n",
            "             quercus_phellos       0.00      0.00      0.00         2\n",
            "               quercus_robur       1.00      0.75      0.86         4\n",
            "               quercus_rubra       0.25      0.25      0.25         4\n",
            "           quercus_shumardii       1.00      0.40      0.57         5\n",
            "            quercus_stellata       0.57      0.67      0.62         6\n",
            "            quercus_velutina       0.67      0.33      0.44         6\n",
            "          quercus_virginiana       0.33      0.40      0.36         5\n",
            "       robinia_pseudo-acacia       0.00      0.00      0.00         3\n",
            "            salix_babylonica       1.00      0.50      0.67         6\n",
            "           salix_caroliniana       0.50      0.60      0.55         5\n",
            "             salix_matsudana       0.50      0.60      0.55         5\n",
            "                 salix_nigra       1.00      0.56      0.71         9\n",
            "           sassafras_albidum       0.00      0.00      0.00         2\n",
            "          staphylea_trifolia       0.50      0.60      0.55         5\n",
            "    stewartia_pseudocamellia       0.00      0.00      0.00         5\n",
            "             styrax_japonica       0.13      0.17      0.15        12\n",
            "              styrax_obassia       0.25      0.20      0.22         5\n",
            "          syringa_reticulata       1.00      0.20      0.33         5\n",
            "          taxodium_distichum       0.75      0.50      0.60         6\n",
            "             tilia_americana       0.67      1.00      0.80         2\n",
            "               tilia_cordata       0.50      0.22      0.31         9\n",
            "              tilia_europaea       0.33      0.50      0.40         2\n",
            "             tilia_tomentosa       0.00      0.00      0.00         3\n",
            "              toona_sinensis       1.00      0.67      0.80         3\n",
            "            tsuga_canadensis       0.46      0.75      0.57         8\n",
            "             ulmus_americana       0.00      0.00      0.00         2\n",
            "                ulmus_glabra       0.50      0.71      0.59         7\n",
            "            ulmus_parvifolia       0.00      0.00      0.00         5\n",
            "                ulmus_pumila       0.71      0.67      0.69        15\n",
            "                 ulmus_rubra       1.00      0.33      0.50         6\n",
            "             zelkova_serrata       0.40      0.29      0.33         7\n",
            "\n",
            "                    accuracy                           0.41       917\n",
            "                   macro avg       0.47      0.41      0.41       917\n",
            "                weighted avg       0.48      0.41      0.42       917\n",
            "\n"
          ]
        },
        {
          "output_type": "stream",
          "name": "stderr",
          "text": [
            "/usr/local/lib/python3.7/dist-packages/sklearn/metrics/_classification.py:1318: UndefinedMetricWarning: Precision and F-score are ill-defined and being set to 0.0 in labels with no predicted samples. Use `zero_division` parameter to control this behavior.\n",
            "  _warn_prf(average, modifier, msg_start, len(result))\n",
            "/usr/local/lib/python3.7/dist-packages/sklearn/metrics/_classification.py:1318: UndefinedMetricWarning: Precision and F-score are ill-defined and being set to 0.0 in labels with no predicted samples. Use `zero_division` parameter to control this behavior.\n",
            "  _warn_prf(average, modifier, msg_start, len(result))\n",
            "/usr/local/lib/python3.7/dist-packages/sklearn/metrics/_classification.py:1318: UndefinedMetricWarning: Precision and F-score are ill-defined and being set to 0.0 in labels with no predicted samples. Use `zero_division` parameter to control this behavior.\n",
            "  _warn_prf(average, modifier, msg_start, len(result))\n"
          ]
        }
      ]
    },
    {
      "cell_type": "markdown",
      "source": [
        "# **Random Forest Classification**"
      ],
      "metadata": {
        "id": "bC4Hdr-BYOUd"
      }
    },
    {
      "cell_type": "code",
      "source": [
        "from sklearn.ensemble import RandomForestClassifier\n",
        "clf1 = RandomForestClassifier(n_estimators = 70, oob_score = True, n_jobs = -1,max_features = None, min_samples_leaf = 30)\n",
        "clf1.fit(x_train, y_train)"
      ],
      "metadata": {
        "id": "4F-Og9aHYRoU",
        "colab": {
          "base_uri": "https://localhost:8080/"
        },
        "outputId": "8fd6b07d-8537-4db3-f91c-fb2f6f01de42"
      },
      "execution_count": null,
      "outputs": [
        {
          "output_type": "execute_result",
          "data": {
            "text/plain": [
              "RandomForestClassifier(max_features=None, min_samples_leaf=30, n_estimators=70,\n",
              "                       n_jobs=-1, oob_score=True)"
            ]
          },
          "metadata": {},
          "execution_count": 50
        }
      ]
    },
    {
      "cell_type": "code",
      "source": [
        "y_pred = clf1.predict(x_test)"
      ],
      "metadata": {
        "id": "zQtnAn3mYj6P"
      },
      "execution_count": null,
      "outputs": []
    },
    {
      "cell_type": "code",
      "source": [
        "from sklearn.metrics import confusion_matrix, accuracy_score\n",
        "cm = confusion_matrix(y_test, y_pred)\n",
        "print(cm)\n",
        "rand = accuracy_score(y_test, y_pred)\n",
        "rand"
      ],
      "metadata": {
        "id": "yVVXb8XTYntv",
        "colab": {
          "base_uri": "https://localhost:8080/"
        },
        "outputId": "79c0a996-fd70-4422-d60e-22d24a351d6b"
      },
      "execution_count": null,
      "outputs": [
        {
          "output_type": "stream",
          "name": "stdout",
          "text": [
            "[[ 6  0  0 ...  0  0  0]\n",
            " [ 0  1  0 ...  0  0  0]\n",
            " [ 0  0  3 ...  0  0  0]\n",
            " ...\n",
            " [ 0  0  0 ... 13  0  0]\n",
            " [ 0  0  0 ...  1  1  0]\n",
            " [ 0  0  0 ...  0  0  1]]\n"
          ]
        },
        {
          "output_type": "execute_result",
          "data": {
            "text/plain": [
              "0.4776444929116685"
            ]
          },
          "metadata": {},
          "execution_count": 52
        }
      ]
    },
    {
      "cell_type": "code",
      "source": [
        "from sklearn.metrics import classification_report\n",
        "print(classification_report(y_test,y_pred))"
      ],
      "metadata": {
        "id": "QNwsS_e0YwGS",
        "colab": {
          "base_uri": "https://localhost:8080/"
        },
        "outputId": "6c29e989-6b7f-4815-8173-c3b559567635"
      },
      "execution_count": null,
      "outputs": [
        {
          "output_type": "stream",
          "name": "stdout",
          "text": [
            "                              precision    recall  f1-score   support\n",
            "\n",
            "              abies_concolor       0.75      1.00      0.86         6\n",
            "          abies_nordmanniana       0.50      0.25      0.33         4\n",
            "              acer_campestre       0.60      0.60      0.60         5\n",
            "                acer_ginnala       1.00      0.25      0.40         4\n",
            "                acer_griseum       0.50      0.17      0.25         6\n",
            "                acer_negundo       0.00      0.00      0.00         4\n",
            "               acer_palmatum       0.26      0.80      0.39        10\n",
            "          acer_pensylvanicum       0.40      0.50      0.44         4\n",
            "            acer_platanoides       0.00      0.00      0.00         2\n",
            "         acer_pseudoplatanus       0.00      0.00      0.00         2\n",
            "                 acer_rubrum       0.38      0.60      0.46         5\n",
            "            acer_saccharinum       1.00      0.20      0.33         5\n",
            "              acer_saccharum       0.38      1.00      0.55         3\n",
            "              aesculus_flava       0.00      0.00      0.00         2\n",
            "             aesculus_glabra       0.44      0.80      0.57         5\n",
            "      aesculus_hippocastamon       0.00      0.00      0.00         3\n",
            "               aesculus_pavi       0.53      0.73      0.62        11\n",
            "         ailanthus_altissima       0.00      0.00      0.00         3\n",
            "         albizia_julibrissin       1.00      0.75      0.86         4\n",
            "         amelanchier_arborea       0.20      0.20      0.20         5\n",
            "      amelanchier_canadensis       0.33      0.25      0.29         4\n",
            "          amelanchier_laevis       1.00      1.00      1.00         4\n",
            "             asimina_triloba       0.80      0.67      0.73         6\n",
            "       betula_alleghaniensis       1.00      0.25      0.40         4\n",
            "          betula_jacqemontii       0.25      0.33      0.29         3\n",
            "                betula_lenta       0.00      0.00      0.00         2\n",
            "                betula_nigra       0.00      0.00      0.00         2\n",
            "          betula_populifolia       1.00      0.25      0.40         4\n",
            "    broussonettia_papyrifera       0.33      0.17      0.22         6\n",
            "            carpinus_betulus       0.00      0.00      0.00         2\n",
            "        carpinus_caroliniana       1.00      0.50      0.67         4\n",
            "           carya_cordiformis       1.00      0.17      0.29         6\n",
            "                carya_glabra       0.47      0.89      0.62         9\n",
            "                 carya_ovata       1.00      0.50      0.67         4\n",
            "             carya_tomentosa       1.00      0.83      0.91         6\n",
            "            castanea_dentata       0.00      0.00      0.00         5\n",
            "        catalpa_bignonioides       0.00      0.00      0.00         5\n",
            "            catalpa_speciosa       0.36      0.62      0.45         8\n",
            "            cedrus_atlantica       0.67      0.67      0.67         9\n",
            "              cedrus_deodara       0.00      0.00      0.00         4\n",
            "               cedrus_libani       1.00      0.83      0.91         6\n",
            "         celtis_occidentalis       0.00      0.00      0.00         3\n",
            "           celtis_tenuifolia       1.00      0.25      0.40         4\n",
            "    cercidiphyllum_japonicum       0.50      0.67      0.57         3\n",
            "           cercis_canadensis       0.29      0.80      0.42         5\n",
            "      chamaecyparis_pisifera       1.00      0.50      0.67         6\n",
            "      chamaecyparis_thyoides       1.00      0.80      0.89         5\n",
            "         chionanthus_retusus       0.00      0.00      0.00         3\n",
            "      chionanthus_virginicus       0.33      0.60      0.43         5\n",
            "            cladrastis_lutea       0.67      0.67      0.67         6\n",
            "              cornus_florida       0.12      0.17      0.14         6\n",
            "                cornus_kousa       0.00      0.00      0.00         2\n",
            "                  cornus_mas       0.33      0.40      0.36         5\n",
            "             corylus_colurna       0.40      0.80      0.53         5\n",
            "        crataegus_crus-galli       0.00      0.00      0.00         2\n",
            "         crataegus_laevigata       1.00      1.00      1.00         3\n",
            "       crataegus_phaenopyrum       0.00      0.00      0.00         3\n",
            "          crataegus_pruinosa       0.50      0.25      0.33         4\n",
            "           crataegus_viridis       0.00      0.00      0.00         5\n",
            "        cryptomeria_japonica       0.57      0.93      0.70        14\n",
            "        diospyros_virginiana       0.00      0.00      0.00         6\n",
            "           eucommia_ulmoides       0.38      0.62      0.48         8\n",
            "            evodia_daniellii       0.67      0.50      0.57         4\n",
            "           fagus_grandifolia       0.20      0.40      0.27         5\n",
            "                ficus_carica       0.33      0.20      0.25         5\n",
            "          fraxinus_americana       0.00      0.00      0.00         2\n",
            "              fraxinus_nigra       0.42      0.56      0.48         9\n",
            "      fraxinus_pennsylvanica       0.00      0.00      0.00         2\n",
            "               ginkgo_biloba       0.20      0.33      0.25         3\n",
            "       gleditsia_triacanthos       0.80      0.67      0.73         6\n",
            "         gymnocladus_dioicus       1.00      0.75      0.86         4\n",
            "          halesia_tetraptera       0.00      0.00      0.00         3\n",
            "                  ilex_opaca       0.00      0.00      0.00         4\n",
            "             juglans_cinerea       0.32      0.55      0.40        11\n",
            "               juglans_nigra       0.00      0.00      0.00         2\n",
            "        juniperus_virginiana       0.67      0.86      0.75         7\n",
            "     koelreuteria_paniculata       0.57      1.00      0.73         8\n",
            "               larix_decidua       0.00      0.00      0.00         3\n",
            "     liquidambar_styraciflua       0.44      0.67      0.53         6\n",
            "     liriodendron_tulipifera       0.33      0.17      0.22         6\n",
            "            maclura_pomifera       0.00      0.00      0.00         3\n",
            "          magnolia_acuminata       1.00      1.00      1.00         4\n",
            "           magnolia_denudata       0.60      0.50      0.55         6\n",
            "        magnolia_grandiflora       0.00      0.00      0.00         2\n",
            "        magnolia_macrophylla       0.00      0.00      0.00         3\n",
            "        magnolia_soulangiana       0.00      0.00      0.00         3\n",
            "           magnolia_stellata       0.00      0.00      0.00         6\n",
            "          magnolia_tripetala       0.00      0.00      0.00         4\n",
            "         magnolia_virginiana       0.33      0.14      0.20         7\n",
            "          malus_angustifolia       0.00      0.00      0.00         4\n",
            "               malus_baccata       0.00      0.00      0.00         4\n",
            "             malus_coronaria       1.00      0.25      0.40         4\n",
            "            malus_floribunda       0.75      0.75      0.75         4\n",
            "            malus_hupehensis       0.80      1.00      0.89         4\n",
            "                malus_pumila       1.00      0.50      0.67         6\n",
            "metasequoia_glyptostroboides       0.00      0.00      0.00         6\n",
            "                  morus_alba       0.00      0.00      0.00         2\n",
            "                 morus_rubra       0.00      0.00      0.00         2\n",
            "             nyssa_sylvatica       0.00      0.00      0.00         5\n",
            "           ostrya_virginiana       0.25      0.33      0.29         3\n",
            "         oxydendrum_arboreum       0.27      0.50      0.35         6\n",
            "         paulownia_tomentosa       0.00      0.00      0.00         3\n",
            "      phellodendron_amurense       1.00      0.75      0.86         4\n",
            "                 picea_abies       0.67      0.67      0.67         6\n",
            "            picea_orientalis       0.56      1.00      0.71         5\n",
            "               picea_pungens       0.67      1.00      0.80         6\n",
            "              pinus_bungeana       0.67      0.33      0.44         6\n",
            "                pinus_cembra       0.50      0.43      0.46         7\n",
            "            pinus_densiflora       0.83      1.00      0.91         5\n",
            "              pinus_echinata       1.00      0.40      0.57         5\n",
            "              pinus_flexilis       0.45      0.83      0.59         6\n",
            "            pinus_koraiensis       1.00      0.40      0.57         5\n",
            "                 pinus_nigra       0.33      0.20      0.25         5\n",
            "            pinus_parviflora       0.75      0.50      0.60         6\n",
            "                pinus_peucea       0.80      0.80      0.80         5\n",
            "               pinus_pungens       0.43      0.60      0.50         5\n",
            "              pinus_resinosa       1.00      1.00      1.00         5\n",
            "                pinus_rigida       0.57      0.80      0.67         5\n",
            "               pinus_strobus       1.00      0.50      0.67         2\n",
            "            pinus_sylvestris       1.00      1.00      1.00         4\n",
            "                 pinus_taeda       1.00      1.00      1.00         5\n",
            "            pinus_thunbergii       0.00      0.00      0.00         1\n",
            "            pinus_virginiana       0.00      0.00      0.00         5\n",
            "           pinus_wallichiana       0.80      1.00      0.89         4\n",
            "         platanus_acerifolia       0.33      0.50      0.40         2\n",
            "       platanus_occidentalis       0.00      0.00      0.00         2\n",
            "           populus_deltoides       0.71      0.83      0.77         6\n",
            "       populus_grandidentata       0.00      0.00      0.00         5\n",
            "         populus_tremuloides       0.33      0.60      0.43         5\n",
            "         prunus_pensylvanica       0.50      0.33      0.40         3\n",
            "            prunus_sargentii       0.31      0.56      0.40        18\n",
            "             prunus_serotina       0.00      0.00      0.00         3\n",
            "            prunus_serrulata       0.00      0.00      0.00         2\n",
            "          prunus_subhirtella       0.00      0.00      0.00         6\n",
            "           prunus_virginiana       0.34      0.74      0.47        19\n",
            "            prunus_yedoensis       0.00      0.00      0.00         3\n",
            "        pseudolarix_amabilis       0.62      1.00      0.77         5\n",
            "           ptelea_trifoliata       0.60      0.60      0.60         5\n",
            "            pyrus_calleryana       0.50      0.67      0.57         6\n",
            "          quercus_acutissima       0.86      1.00      0.92         6\n",
            "                quercus_alba       0.00      0.00      0.00         2\n",
            "             quercus_bicolor       0.50      0.67      0.57         3\n",
            "              quercus_cerris       0.00      0.00      0.00         3\n",
            "            quercus_coccinea       0.00      0.00      0.00         3\n",
            "             quercus_falcata       0.67      0.33      0.44         6\n",
            "          quercus_imbricaria       0.25      0.25      0.25         4\n",
            "          quercus_macrocarpa       0.33      0.60      0.43         5\n",
            "         quercus_marilandica       0.33      0.43      0.38         7\n",
            "           quercus_michauxii       0.50      0.33      0.40         6\n",
            "             quercus_montana       0.40      0.57      0.47         7\n",
            "       quercus_muehlenbergii       0.20      0.17      0.18        12\n",
            "               quercus_nigra       0.50      0.20      0.29         5\n",
            "           quercus_palustris       0.00      0.00      0.00         2\n",
            "             quercus_phellos       0.00      0.00      0.00         2\n",
            "               quercus_robur       0.00      0.00      0.00         4\n",
            "               quercus_rubra       0.14      0.25      0.18         4\n",
            "           quercus_shumardii       0.50      0.40      0.44         5\n",
            "            quercus_stellata       0.44      0.67      0.53         6\n",
            "            quercus_velutina       1.00      0.17      0.29         6\n",
            "          quercus_virginiana       1.00      0.20      0.33         5\n",
            "       robinia_pseudo-acacia       1.00      0.33      0.50         3\n",
            "            salix_babylonica       1.00      0.83      0.91         6\n",
            "           salix_caroliniana       0.38      0.60      0.46         5\n",
            "             salix_matsudana       0.57      0.80      0.67         5\n",
            "                 salix_nigra       0.64      1.00      0.78         9\n",
            "           sassafras_albidum       0.00      0.00      0.00         2\n",
            "          staphylea_trifolia       1.00      0.80      0.89         5\n",
            "    stewartia_pseudocamellia       0.25      0.20      0.22         5\n",
            "             styrax_japonica       0.26      0.67      0.37        12\n",
            "              styrax_obassia       0.00      0.00      0.00         5\n",
            "          syringa_reticulata       1.00      0.20      0.33         5\n",
            "          taxodium_distichum       0.50      0.50      0.50         6\n",
            "             tilia_americana       0.00      0.00      0.00         2\n",
            "               tilia_cordata       0.40      0.89      0.55         9\n",
            "              tilia_europaea       0.00      0.00      0.00         2\n",
            "             tilia_tomentosa       0.18      0.67      0.29         3\n",
            "              toona_sinensis       0.50      0.67      0.57         3\n",
            "            tsuga_canadensis       0.58      0.88      0.70         8\n",
            "             ulmus_americana       0.00      0.00      0.00         2\n",
            "                ulmus_glabra       0.33      0.71      0.45         7\n",
            "            ulmus_parvifolia       0.00      0.00      0.00         5\n",
            "                ulmus_pumila       0.57      0.87      0.68        15\n",
            "                 ulmus_rubra       0.50      0.17      0.25         6\n",
            "             zelkova_serrata       0.33      0.14      0.20         7\n",
            "\n",
            "                    accuracy                           0.48       917\n",
            "                   macro avg       0.41      0.40      0.37       917\n",
            "                weighted avg       0.46      0.48      0.43       917\n",
            "\n"
          ]
        },
        {
          "output_type": "stream",
          "name": "stderr",
          "text": [
            "/usr/local/lib/python3.7/dist-packages/sklearn/metrics/_classification.py:1318: UndefinedMetricWarning: Precision and F-score are ill-defined and being set to 0.0 in labels with no predicted samples. Use `zero_division` parameter to control this behavior.\n",
            "  _warn_prf(average, modifier, msg_start, len(result))\n",
            "/usr/local/lib/python3.7/dist-packages/sklearn/metrics/_classification.py:1318: UndefinedMetricWarning: Precision and F-score are ill-defined and being set to 0.0 in labels with no predicted samples. Use `zero_division` parameter to control this behavior.\n",
            "  _warn_prf(average, modifier, msg_start, len(result))\n",
            "/usr/local/lib/python3.7/dist-packages/sklearn/metrics/_classification.py:1318: UndefinedMetricWarning: Precision and F-score are ill-defined and being set to 0.0 in labels with no predicted samples. Use `zero_division` parameter to control this behavior.\n",
            "  _warn_prf(average, modifier, msg_start, len(result))\n"
          ]
        }
      ]
    },
    {
      "cell_type": "markdown",
      "source": [
        "# **K-NN**"
      ],
      "metadata": {
        "id": "9B7XqvX9Yx6w"
      }
    },
    {
      "cell_type": "code",
      "source": [
        "from sklearn.neighbors import KNeighborsClassifier\n",
        "kn = KNeighborsClassifier(n_neighbors = 15, metric = 'minkowski', p = 2)\n",
        "kn.fit(x_train, y_train)"
      ],
      "metadata": {
        "id": "VPX932IJY7s7",
        "colab": {
          "base_uri": "https://localhost:8080/"
        },
        "outputId": "cebdc6ba-635b-420b-8234-894c1ea8bb0e"
      },
      "execution_count": null,
      "outputs": [
        {
          "output_type": "execute_result",
          "data": {
            "text/plain": [
              "KNeighborsClassifier(n_neighbors=15)"
            ]
          },
          "metadata": {},
          "execution_count": 25
        }
      ]
    },
    {
      "cell_type": "code",
      "source": [
        "y_pred = kn.predict(x_test)"
      ],
      "metadata": {
        "id": "ZZVhai57ZAie"
      },
      "execution_count": null,
      "outputs": []
    },
    {
      "cell_type": "code",
      "source": [
        "from sklearn.metrics import confusion_matrix, accuracy_score\n",
        "cm = confusion_matrix(y_test, y_pred)\n",
        "print(cm)\n",
        "knn = accuracy_score(y_test, y_pred)\n",
        "knn"
      ],
      "metadata": {
        "id": "RBdKFKKwZEYy",
        "colab": {
          "base_uri": "https://localhost:8080/"
        },
        "outputId": "997768a6-146a-4499-9712-9b3a16ced8be"
      },
      "execution_count": null,
      "outputs": [
        {
          "output_type": "stream",
          "name": "stdout",
          "text": [
            "[[ 6  0  0 ...  0  0  0]\n",
            " [ 0  2  0 ...  0  0  0]\n",
            " [ 0  0  5 ...  0  0  0]\n",
            " ...\n",
            " [ 0  0  0 ... 14  0  0]\n",
            " [ 0  0  0 ...  0  4  0]\n",
            " [ 0  0  0 ...  0  0  2]]\n"
          ]
        },
        {
          "output_type": "execute_result",
          "data": {
            "text/plain": [
              "0.5605234460196292"
            ]
          },
          "metadata": {},
          "execution_count": 27
        }
      ]
    },
    {
      "cell_type": "code",
      "source": [
        "from sklearn.metrics import classification_report\n",
        "print(classification_report(y_test,y_pred))"
      ],
      "metadata": {
        "id": "9XC1fWYCZKQi",
        "colab": {
          "base_uri": "https://localhost:8080/"
        },
        "outputId": "0872c61c-0632-44b8-d90c-c4737de793aa"
      },
      "execution_count": null,
      "outputs": [
        {
          "output_type": "stream",
          "name": "stdout",
          "text": [
            "                              precision    recall  f1-score   support\n",
            "\n",
            "              abies_concolor       0.60      1.00      0.75         6\n",
            "          abies_nordmanniana       0.67      0.50      0.57         4\n",
            "              acer_campestre       0.56      1.00      0.71         5\n",
            "                acer_ginnala       0.67      0.50      0.57         4\n",
            "                acer_griseum       0.75      0.50      0.60         6\n",
            "                acer_negundo       1.00      0.50      0.67         4\n",
            "               acer_palmatum       0.43      1.00      0.61        10\n",
            "          acer_pensylvanicum       0.40      0.50      0.44         4\n",
            "            acer_platanoides       0.00      0.00      0.00         2\n",
            "         acer_pseudoplatanus       0.20      0.50      0.29         2\n",
            "                 acer_rubrum       0.33      0.60      0.43         5\n",
            "            acer_saccharinum       1.00      1.00      1.00         5\n",
            "              acer_saccharum       0.50      0.33      0.40         3\n",
            "              aesculus_flava       0.00      0.00      0.00         2\n",
            "             aesculus_glabra       0.71      1.00      0.83         5\n",
            "      aesculus_hippocastamon       0.40      0.67      0.50         3\n",
            "               aesculus_pavi       0.62      0.91      0.74        11\n",
            "         ailanthus_altissima       1.00      0.33      0.50         3\n",
            "         albizia_julibrissin       1.00      1.00      1.00         4\n",
            "         amelanchier_arborea       0.20      0.20      0.20         5\n",
            "      amelanchier_canadensis       0.11      0.25      0.15         4\n",
            "          amelanchier_laevis       1.00      1.00      1.00         4\n",
            "             asimina_triloba       0.57      0.67      0.62         6\n",
            "       betula_alleghaniensis       0.50      0.75      0.60         4\n",
            "          betula_jacqemontii       0.20      0.33      0.25         3\n",
            "                betula_lenta       0.00      0.00      0.00         2\n",
            "                betula_nigra       0.20      0.50      0.29         2\n",
            "          betula_populifolia       0.50      0.50      0.50         4\n",
            "    broussonettia_papyrifera       0.40      0.33      0.36         6\n",
            "            carpinus_betulus       0.00      0.00      0.00         2\n",
            "        carpinus_caroliniana       0.75      0.75      0.75         4\n",
            "           carya_cordiformis       0.60      0.50      0.55         6\n",
            "                carya_glabra       0.57      0.44      0.50         9\n",
            "                 carya_ovata       0.75      0.75      0.75         4\n",
            "             carya_tomentosa       0.50      1.00      0.67         6\n",
            "            castanea_dentata       0.40      0.40      0.40         5\n",
            "        catalpa_bignonioides       0.67      0.40      0.50         5\n",
            "            catalpa_speciosa       0.42      0.62      0.50         8\n",
            "            cedrus_atlantica       0.67      0.89      0.76         9\n",
            "              cedrus_deodara       0.67      0.50      0.57         4\n",
            "               cedrus_libani       0.86      1.00      0.92         6\n",
            "         celtis_occidentalis       0.67      0.67      0.67         3\n",
            "           celtis_tenuifolia       1.00      0.75      0.86         4\n",
            "    cercidiphyllum_japonicum       1.00      0.33      0.50         3\n",
            "           cercis_canadensis       0.50      0.60      0.55         5\n",
            "      chamaecyparis_pisifera       1.00      0.50      0.67         6\n",
            "      chamaecyparis_thyoides       1.00      1.00      1.00         5\n",
            "         chionanthus_retusus       0.50      0.67      0.57         3\n",
            "      chionanthus_virginicus       0.43      0.60      0.50         5\n",
            "            cladrastis_lutea       0.67      0.33      0.44         6\n",
            "              cornus_florida       0.29      0.33      0.31         6\n",
            "                cornus_kousa       0.00      0.00      0.00         2\n",
            "                  cornus_mas       0.22      0.40      0.29         5\n",
            "             corylus_colurna       0.67      0.80      0.73         5\n",
            "        crataegus_crus-galli       0.00      0.00      0.00         2\n",
            "         crataegus_laevigata       0.75      1.00      0.86         3\n",
            "       crataegus_phaenopyrum       0.00      0.00      0.00         3\n",
            "          crataegus_pruinosa       1.00      0.50      0.67         4\n",
            "           crataegus_viridis       0.00      0.00      0.00         5\n",
            "        cryptomeria_japonica       0.48      0.93      0.63        14\n",
            "        diospyros_virginiana       0.25      0.33      0.29         6\n",
            "           eucommia_ulmoides       0.78      0.88      0.82         8\n",
            "            evodia_daniellii       1.00      0.75      0.86         4\n",
            "           fagus_grandifolia       0.00      0.00      0.00         5\n",
            "                ficus_carica       1.00      0.60      0.75         5\n",
            "          fraxinus_americana       0.00      0.00      0.00         2\n",
            "              fraxinus_nigra       0.55      0.67      0.60         9\n",
            "      fraxinus_pennsylvanica       0.00      0.00      0.00         2\n",
            "               ginkgo_biloba       0.50      0.33      0.40         3\n",
            "       gleditsia_triacanthos       1.00      1.00      1.00         6\n",
            "         gymnocladus_dioicus       1.00      0.75      0.86         4\n",
            "          halesia_tetraptera       0.00      0.00      0.00         3\n",
            "                  ilex_opaca       0.50      0.50      0.50         4\n",
            "             juglans_cinerea       0.50      0.36      0.42        11\n",
            "               juglans_nigra       0.00      0.00      0.00         2\n",
            "        juniperus_virginiana       0.75      0.86      0.80         7\n",
            "     koelreuteria_paniculata       0.88      0.88      0.88         8\n",
            "               larix_decidua       0.00      0.00      0.00         3\n",
            "     liquidambar_styraciflua       0.71      0.83      0.77         6\n",
            "     liriodendron_tulipifera       0.50      0.17      0.25         6\n",
            "            maclura_pomifera       0.00      0.00      0.00         3\n",
            "          magnolia_acuminata       0.80      1.00      0.89         4\n",
            "           magnolia_denudata       0.50      0.50      0.50         6\n",
            "        magnolia_grandiflora       0.00      0.00      0.00         2\n",
            "        magnolia_macrophylla       1.00      0.33      0.50         3\n",
            "        magnolia_soulangiana       0.00      0.00      0.00         3\n",
            "           magnolia_stellata       1.00      0.17      0.29         6\n",
            "          magnolia_tripetala       0.00      0.00      0.00         4\n",
            "         magnolia_virginiana       1.00      0.14      0.25         7\n",
            "          malus_angustifolia       0.00      0.00      0.00         4\n",
            "               malus_baccata       0.27      0.75      0.40         4\n",
            "             malus_coronaria       0.25      0.25      0.25         4\n",
            "            malus_floribunda       1.00      1.00      1.00         4\n",
            "            malus_hupehensis       1.00      1.00      1.00         4\n",
            "                malus_pumila       0.75      0.50      0.60         6\n",
            "metasequoia_glyptostroboides       0.75      0.50      0.60         6\n",
            "                  morus_alba       0.00      0.00      0.00         2\n",
            "                 morus_rubra       0.00      0.00      0.00         2\n",
            "             nyssa_sylvatica       0.00      0.00      0.00         5\n",
            "           ostrya_virginiana       0.50      0.67      0.57         3\n",
            "         oxydendrum_arboreum       0.36      0.83      0.50         6\n",
            "         paulownia_tomentosa       0.33      0.33      0.33         3\n",
            "      phellodendron_amurense       0.80      1.00      0.89         4\n",
            "                 picea_abies       0.67      0.67      0.67         6\n",
            "            picea_orientalis       0.75      0.60      0.67         5\n",
            "               picea_pungens       0.60      1.00      0.75         6\n",
            "              pinus_bungeana       0.75      0.50      0.60         6\n",
            "                pinus_cembra       0.43      0.43      0.43         7\n",
            "            pinus_densiflora       0.83      1.00      0.91         5\n",
            "              pinus_echinata       0.50      0.20      0.29         5\n",
            "              pinus_flexilis       0.67      0.67      0.67         6\n",
            "            pinus_koraiensis       0.67      0.40      0.50         5\n",
            "                 pinus_nigra       0.38      0.60      0.46         5\n",
            "            pinus_parviflora       1.00      0.50      0.67         6\n",
            "                pinus_peucea       1.00      0.80      0.89         5\n",
            "               pinus_pungens       0.33      0.60      0.43         5\n",
            "              pinus_resinosa       0.80      0.80      0.80         5\n",
            "                pinus_rigida       0.75      0.60      0.67         5\n",
            "               pinus_strobus       1.00      0.50      0.67         2\n",
            "            pinus_sylvestris       1.00      1.00      1.00         4\n",
            "                 pinus_taeda       1.00      0.80      0.89         5\n",
            "            pinus_thunbergii       0.00      0.00      0.00         1\n",
            "            pinus_virginiana       0.00      0.00      0.00         5\n",
            "           pinus_wallichiana       0.60      0.75      0.67         4\n",
            "         platanus_acerifolia       0.25      0.50      0.33         2\n",
            "       platanus_occidentalis       0.33      0.50      0.40         2\n",
            "           populus_deltoides       0.62      0.83      0.71         6\n",
            "       populus_grandidentata       0.75      0.60      0.67         5\n",
            "         populus_tremuloides       0.33      0.40      0.36         5\n",
            "         prunus_pensylvanica       0.33      0.33      0.33         3\n",
            "            prunus_sargentii       0.43      0.50      0.46        18\n",
            "             prunus_serotina       0.00      0.00      0.00         3\n",
            "            prunus_serrulata       0.00      0.00      0.00         2\n",
            "          prunus_subhirtella       0.00      0.00      0.00         6\n",
            "           prunus_virginiana       0.44      0.63      0.52        19\n",
            "            prunus_yedoensis       0.67      0.67      0.67         3\n",
            "        pseudolarix_amabilis       0.71      1.00      0.83         5\n",
            "           ptelea_trifoliata       0.50      0.80      0.62         5\n",
            "            pyrus_calleryana       0.50      0.33      0.40         6\n",
            "          quercus_acutissima       1.00      1.00      1.00         6\n",
            "                quercus_alba       0.00      0.00      0.00         2\n",
            "             quercus_bicolor       1.00      1.00      1.00         3\n",
            "              quercus_cerris       0.50      0.33      0.40         3\n",
            "            quercus_coccinea       0.00      0.00      0.00         3\n",
            "             quercus_falcata       0.00      0.00      0.00         6\n",
            "          quercus_imbricaria       0.00      0.00      0.00         4\n",
            "          quercus_macrocarpa       0.83      1.00      0.91         5\n",
            "         quercus_marilandica       0.67      0.29      0.40         7\n",
            "           quercus_michauxii       0.50      0.83      0.62         6\n",
            "             quercus_montana       0.50      0.29      0.36         7\n",
            "       quercus_muehlenbergii       0.43      0.50      0.46        12\n",
            "               quercus_nigra       0.75      0.60      0.67         5\n",
            "           quercus_palustris       0.00      0.00      0.00         2\n",
            "             quercus_phellos       0.00      0.00      0.00         2\n",
            "               quercus_robur       1.00      0.50      0.67         4\n",
            "               quercus_rubra       0.00      0.00      0.00         4\n",
            "           quercus_shumardii       0.50      0.80      0.62         5\n",
            "            quercus_stellata       1.00      0.83      0.91         6\n",
            "            quercus_velutina       0.67      0.33      0.44         6\n",
            "          quercus_virginiana       0.33      0.40      0.36         5\n",
            "       robinia_pseudo-acacia       0.67      0.67      0.67         3\n",
            "            salix_babylonica       0.71      0.83      0.77         6\n",
            "           salix_caroliniana       0.80      0.80      0.80         5\n",
            "             salix_matsudana       0.62      1.00      0.77         5\n",
            "                 salix_nigra       0.88      0.78      0.82         9\n",
            "           sassafras_albidum       0.00      0.00      0.00         2\n",
            "          staphylea_trifolia       1.00      0.60      0.75         5\n",
            "    stewartia_pseudocamellia       0.40      0.40      0.40         5\n",
            "             styrax_japonica       0.50      0.50      0.50        12\n",
            "              styrax_obassia       1.00      0.20      0.33         5\n",
            "          syringa_reticulata       0.67      0.40      0.50         5\n",
            "          taxodium_distichum       0.67      0.33      0.44         6\n",
            "             tilia_americana       0.00      0.00      0.00         2\n",
            "               tilia_cordata       0.67      0.89      0.76         9\n",
            "              tilia_europaea       0.00      0.00      0.00         2\n",
            "             tilia_tomentosa       0.11      0.33      0.17         3\n",
            "              toona_sinensis       1.00      1.00      1.00         3\n",
            "            tsuga_canadensis       0.89      1.00      0.94         8\n",
            "             ulmus_americana       1.00      1.00      1.00         2\n",
            "                ulmus_glabra       0.50      0.29      0.36         7\n",
            "            ulmus_parvifolia       0.00      0.00      0.00         5\n",
            "                ulmus_pumila       0.58      0.93      0.72        15\n",
            "                 ulmus_rubra       0.80      0.67      0.73         6\n",
            "             zelkova_serrata       0.25      0.29      0.27         7\n",
            "\n",
            "                    accuracy                           0.56       917\n",
            "                   macro avg       0.51      0.50      0.48       917\n",
            "                weighted avg       0.56      0.56      0.53       917\n",
            "\n"
          ]
        },
        {
          "output_type": "stream",
          "name": "stderr",
          "text": [
            "/usr/local/lib/python3.7/dist-packages/sklearn/metrics/_classification.py:1318: UndefinedMetricWarning: Precision and F-score are ill-defined and being set to 0.0 in labels with no predicted samples. Use `zero_division` parameter to control this behavior.\n",
            "  _warn_prf(average, modifier, msg_start, len(result))\n",
            "/usr/local/lib/python3.7/dist-packages/sklearn/metrics/_classification.py:1318: UndefinedMetricWarning: Precision and F-score are ill-defined and being set to 0.0 in labels with no predicted samples. Use `zero_division` parameter to control this behavior.\n",
            "  _warn_prf(average, modifier, msg_start, len(result))\n",
            "/usr/local/lib/python3.7/dist-packages/sklearn/metrics/_classification.py:1318: UndefinedMetricWarning: Precision and F-score are ill-defined and being set to 0.0 in labels with no predicted samples. Use `zero_division` parameter to control this behavior.\n",
            "  _warn_prf(average, modifier, msg_start, len(result))\n"
          ]
        }
      ]
    },
    {
      "cell_type": "markdown",
      "source": [
        "# **Decision Tree**"
      ],
      "metadata": {
        "id": "5fXcMm-_ZgDd"
      }
    },
    {
      "cell_type": "code",
      "source": [
        "from sklearn.tree import DecisionTreeClassifier\n",
        "clf2 = DecisionTreeClassifier(max_depth = 10, random_state = 101, max_features = None, min_samples_leaf = 15)\n",
        "clf2.fit(x_train, y_train)"
      ],
      "metadata": {
        "id": "zurBYOxfZlCZ",
        "colab": {
          "base_uri": "https://localhost:8080/"
        },
        "outputId": "7bdde9d2-e9ea-42ed-a9d3-50f66b6dc8d0"
      },
      "execution_count": null,
      "outputs": [
        {
          "output_type": "execute_result",
          "data": {
            "text/plain": [
              "DecisionTreeClassifier(max_depth=10, min_samples_leaf=15, random_state=101)"
            ]
          },
          "metadata": {},
          "execution_count": 46
        }
      ]
    },
    {
      "cell_type": "code",
      "source": [
        "y_pred = clf2.predict(x_test)"
      ],
      "metadata": {
        "id": "UCvi0HunZq1b"
      },
      "execution_count": null,
      "outputs": []
    },
    {
      "cell_type": "code",
      "source": [
        "from sklearn.metrics import confusion_matrix, accuracy_score\n",
        "cm = confusion_matrix(y_test, y_pred)\n",
        "print(cm)\n",
        "desc = accuracy_score(y_test, y_pred)\n",
        "desc"
      ],
      "metadata": {
        "id": "oEVwQcPWZ3MM",
        "colab": {
          "base_uri": "https://localhost:8080/"
        },
        "outputId": "5e378917-1b8e-4c1c-a5d7-371d52391720"
      },
      "execution_count": null,
      "outputs": [
        {
          "output_type": "stream",
          "name": "stdout",
          "text": [
            "[[1 0 0 ... 0 0 0]\n",
            " [0 0 0 ... 0 0 0]\n",
            " [0 0 0 ... 0 0 0]\n",
            " ...\n",
            " [0 0 0 ... 9 0 0]\n",
            " [0 0 0 ... 0 0 0]\n",
            " [0 0 0 ... 0 0 0]]\n"
          ]
        },
        {
          "output_type": "execute_result",
          "data": {
            "text/plain": [
              "0.23991275899672845"
            ]
          },
          "metadata": {},
          "execution_count": 48
        }
      ]
    },
    {
      "cell_type": "code",
      "source": [
        "from sklearn.metrics import classification_report\n",
        "print(classification_report(y_test,y_pred))"
      ],
      "metadata": {
        "id": "N81FO-JlZ8HT",
        "colab": {
          "base_uri": "https://localhost:8080/"
        },
        "outputId": "e9c9f287-e084-4fd0-bec5-8c74dc762035"
      },
      "execution_count": null,
      "outputs": [
        {
          "output_type": "stream",
          "name": "stdout",
          "text": [
            "                              precision    recall  f1-score   support\n",
            "\n",
            "              abies_concolor       0.33      0.17      0.22         6\n",
            "          abies_nordmanniana       0.00      0.00      0.00         4\n",
            "              acer_campestre       0.00      0.00      0.00         5\n",
            "                acer_ginnala       0.00      0.00      0.00         4\n",
            "                acer_griseum       0.00      0.00      0.00         6\n",
            "                acer_negundo       0.00      0.00      0.00         4\n",
            "               acer_palmatum       0.24      0.80      0.37        10\n",
            "          acer_pensylvanicum       0.00      0.00      0.00         4\n",
            "            acer_platanoides       0.00      0.00      0.00         2\n",
            "         acer_pseudoplatanus       0.00      0.00      0.00         2\n",
            "                 acer_rubrum       0.00      0.00      0.00         5\n",
            "            acer_saccharinum       0.00      0.00      0.00         5\n",
            "              acer_saccharum       0.00      0.00      0.00         3\n",
            "              aesculus_flava       0.00      0.00      0.00         2\n",
            "             aesculus_glabra       0.00      0.00      0.00         5\n",
            "      aesculus_hippocastamon       0.00      0.00      0.00         3\n",
            "               aesculus_pavi       0.88      0.64      0.74        11\n",
            "         ailanthus_altissima       0.00      0.00      0.00         3\n",
            "         albizia_julibrissin       1.00      0.50      0.67         4\n",
            "         amelanchier_arborea       0.07      0.60      0.12         5\n",
            "      amelanchier_canadensis       0.00      0.00      0.00         4\n",
            "          amelanchier_laevis       1.00      1.00      1.00         4\n",
            "             asimina_triloba       0.00      0.00      0.00         6\n",
            "       betula_alleghaniensis       0.00      0.00      0.00         4\n",
            "          betula_jacqemontii       0.00      0.00      0.00         3\n",
            "                betula_lenta       0.00      0.00      0.00         2\n",
            "                betula_nigra       0.00      0.00      0.00         2\n",
            "          betula_populifolia       0.00      0.00      0.00         4\n",
            "    broussonettia_papyrifera       0.00      0.00      0.00         6\n",
            "            carpinus_betulus       0.00      0.00      0.00         2\n",
            "        carpinus_caroliniana       0.00      0.00      0.00         4\n",
            "           carya_cordiformis       0.00      0.00      0.00         6\n",
            "                carya_glabra       0.24      0.56      0.33         9\n",
            "                 carya_ovata       0.05      0.50      0.10         4\n",
            "             carya_tomentosa       0.67      0.67      0.67         6\n",
            "            castanea_dentata       0.00      0.00      0.00         5\n",
            "        catalpa_bignonioides       0.00      0.00      0.00         5\n",
            "            catalpa_speciosa       0.00      0.00      0.00         8\n",
            "            cedrus_atlantica       0.60      0.33      0.43         9\n",
            "              cedrus_deodara       0.33      0.50      0.40         4\n",
            "               cedrus_libani       0.67      0.33      0.44         6\n",
            "         celtis_occidentalis       0.00      0.00      0.00         3\n",
            "           celtis_tenuifolia       0.00      0.00      0.00         4\n",
            "    cercidiphyllum_japonicum       0.00      0.00      0.00         3\n",
            "           cercis_canadensis       0.00      0.00      0.00         5\n",
            "      chamaecyparis_pisifera       0.17      0.50      0.25         6\n",
            "      chamaecyparis_thyoides       0.75      0.60      0.67         5\n",
            "         chionanthus_retusus       0.00      0.00      0.00         3\n",
            "      chionanthus_virginicus       0.60      0.60      0.60         5\n",
            "            cladrastis_lutea       0.33      0.50      0.40         6\n",
            "              cornus_florida       0.00      0.00      0.00         6\n",
            "                cornus_kousa       0.00      0.00      0.00         2\n",
            "                  cornus_mas       0.00      0.00      0.00         5\n",
            "             corylus_colurna       0.00      0.00      0.00         5\n",
            "        crataegus_crus-galli       0.00      0.00      0.00         2\n",
            "         crataegus_laevigata       1.00      1.00      1.00         3\n",
            "       crataegus_phaenopyrum       0.00      0.00      0.00         3\n",
            "          crataegus_pruinosa       0.00      0.00      0.00         4\n",
            "           crataegus_viridis       0.00      0.00      0.00         5\n",
            "        cryptomeria_japonica       0.50      0.57      0.53        14\n",
            "        diospyros_virginiana       0.00      0.00      0.00         6\n",
            "           eucommia_ulmoides       0.06      0.62      0.11         8\n",
            "            evodia_daniellii       0.43      0.75      0.55         4\n",
            "           fagus_grandifolia       0.00      0.00      0.00         5\n",
            "                ficus_carica       1.00      0.20      0.33         5\n",
            "          fraxinus_americana       0.00      0.00      0.00         2\n",
            "              fraxinus_nigra       0.25      0.11      0.15         9\n",
            "      fraxinus_pennsylvanica       0.00      0.00      0.00         2\n",
            "               ginkgo_biloba       0.00      0.00      0.00         3\n",
            "       gleditsia_triacanthos       0.44      0.67      0.53         6\n",
            "         gymnocladus_dioicus       1.00      0.50      0.67         4\n",
            "          halesia_tetraptera       0.00      0.00      0.00         3\n",
            "                  ilex_opaca       0.00      0.00      0.00         4\n",
            "             juglans_cinerea       0.00      0.00      0.00        11\n",
            "               juglans_nigra       0.00      0.00      0.00         2\n",
            "        juniperus_virginiana       0.71      0.71      0.71         7\n",
            "     koelreuteria_paniculata       0.67      0.25      0.36         8\n",
            "               larix_decidua       0.00      0.00      0.00         3\n",
            "     liquidambar_styraciflua       0.75      0.50      0.60         6\n",
            "     liriodendron_tulipifera       0.00      0.00      0.00         6\n",
            "            maclura_pomifera       0.00      0.00      0.00         3\n",
            "          magnolia_acuminata       0.00      0.00      0.00         4\n",
            "           magnolia_denudata       0.00      0.00      0.00         6\n",
            "        magnolia_grandiflora       0.00      0.00      0.00         2\n",
            "        magnolia_macrophylla       0.00      0.00      0.00         3\n",
            "        magnolia_soulangiana       0.00      0.00      0.00         3\n",
            "           magnolia_stellata       0.00      0.00      0.00         6\n",
            "          magnolia_tripetala       0.00      0.00      0.00         4\n",
            "         magnolia_virginiana       0.67      0.57      0.62         7\n",
            "          malus_angustifolia       0.00      0.00      0.00         4\n",
            "               malus_baccata       0.00      0.00      0.00         4\n",
            "             malus_coronaria       0.00      0.00      0.00         4\n",
            "            malus_floribunda       0.00      0.00      0.00         4\n",
            "            malus_hupehensis       0.00      0.00      0.00         4\n",
            "                malus_pumila       0.00      0.00      0.00         6\n",
            "metasequoia_glyptostroboides       0.50      0.33      0.40         6\n",
            "                  morus_alba       0.00      0.00      0.00         2\n",
            "                 morus_rubra       0.00      0.00      0.00         2\n",
            "             nyssa_sylvatica       0.00      0.00      0.00         5\n",
            "           ostrya_virginiana       0.00      0.00      0.00         3\n",
            "         oxydendrum_arboreum       0.00      0.00      0.00         6\n",
            "         paulownia_tomentosa       0.00      0.00      0.00         3\n",
            "      phellodendron_amurense       0.33      0.25      0.29         4\n",
            "                 picea_abies       0.00      0.00      0.00         6\n",
            "            picea_orientalis       0.67      0.40      0.50         5\n",
            "               picea_pungens       0.75      0.50      0.60         6\n",
            "              pinus_bungeana       0.33      0.17      0.22         6\n",
            "                pinus_cembra       0.60      0.43      0.50         7\n",
            "            pinus_densiflora       0.60      0.60      0.60         5\n",
            "              pinus_echinata       0.50      0.20      0.29         5\n",
            "              pinus_flexilis       0.26      1.00      0.41         6\n",
            "            pinus_koraiensis       1.00      0.40      0.57         5\n",
            "                 pinus_nigra       0.00      0.00      0.00         5\n",
            "            pinus_parviflora       1.00      0.33      0.50         6\n",
            "                pinus_peucea       0.67      0.80      0.73         5\n",
            "               pinus_pungens       0.00      0.00      0.00         5\n",
            "              pinus_resinosa       0.50      0.60      0.55         5\n",
            "                pinus_rigida       1.00      0.20      0.33         5\n",
            "               pinus_strobus       0.00      0.00      0.00         2\n",
            "            pinus_sylvestris       1.00      0.50      0.67         4\n",
            "                 pinus_taeda       0.14      0.20      0.17         5\n",
            "            pinus_thunbergii       0.00      0.00      0.00         1\n",
            "            pinus_virginiana       0.00      0.00      0.00         5\n",
            "           pinus_wallichiana       0.60      0.75      0.67         4\n",
            "         platanus_acerifolia       0.00      0.00      0.00         2\n",
            "       platanus_occidentalis       0.00      0.00      0.00         2\n",
            "           populus_deltoides       0.00      0.00      0.00         6\n",
            "       populus_grandidentata       0.00      0.00      0.00         5\n",
            "         populus_tremuloides       0.00      0.00      0.00         5\n",
            "         prunus_pensylvanica       0.00      0.00      0.00         3\n",
            "            prunus_sargentii       0.23      0.33      0.27        18\n",
            "             prunus_serotina       0.00      0.00      0.00         3\n",
            "            prunus_serrulata       0.00      0.00      0.00         2\n",
            "          prunus_subhirtella       0.00      0.00      0.00         6\n",
            "           prunus_virginiana       0.15      0.47      0.22        19\n",
            "            prunus_yedoensis       0.00      0.00      0.00         3\n",
            "        pseudolarix_amabilis       0.27      0.80      0.40         5\n",
            "           ptelea_trifoliata       0.25      0.20      0.22         5\n",
            "            pyrus_calleryana       0.00      0.00      0.00         6\n",
            "          quercus_acutissima       0.56      0.83      0.67         6\n",
            "                quercus_alba       0.00      0.00      0.00         2\n",
            "             quercus_bicolor       0.00      0.00      0.00         3\n",
            "              quercus_cerris       0.00      0.00      0.00         3\n",
            "            quercus_coccinea       0.00      0.00      0.00         3\n",
            "             quercus_falcata       0.25      0.17      0.20         6\n",
            "          quercus_imbricaria       0.00      0.00      0.00         4\n",
            "          quercus_macrocarpa       0.67      0.40      0.50         5\n",
            "         quercus_marilandica       0.00      0.00      0.00         7\n",
            "           quercus_michauxii       0.00      0.00      0.00         6\n",
            "             quercus_montana       0.13      0.71      0.22         7\n",
            "       quercus_muehlenbergii       0.00      0.00      0.00        12\n",
            "               quercus_nigra       0.00      0.00      0.00         5\n",
            "           quercus_palustris       0.00      0.00      0.00         2\n",
            "             quercus_phellos       0.00      0.00      0.00         2\n",
            "               quercus_robur       0.00      0.00      0.00         4\n",
            "               quercus_rubra       0.00      0.00      0.00         4\n",
            "           quercus_shumardii       0.00      0.00      0.00         5\n",
            "            quercus_stellata       0.40      0.33      0.36         6\n",
            "            quercus_velutina       0.00      0.00      0.00         6\n",
            "          quercus_virginiana       0.00      0.00      0.00         5\n",
            "       robinia_pseudo-acacia       0.00      0.00      0.00         3\n",
            "            salix_babylonica       1.00      0.83      0.91         6\n",
            "           salix_caroliniana       0.00      0.00      0.00         5\n",
            "             salix_matsudana       0.50      0.20      0.29         5\n",
            "                 salix_nigra       0.86      0.67      0.75         9\n",
            "           sassafras_albidum       0.00      0.00      0.00         2\n",
            "          staphylea_trifolia       0.50      0.80      0.62         5\n",
            "    stewartia_pseudocamellia       0.00      0.00      0.00         5\n",
            "             styrax_japonica       0.00      0.00      0.00        12\n",
            "              styrax_obassia       0.00      0.00      0.00         5\n",
            "          syringa_reticulata       0.00      0.00      0.00         5\n",
            "          taxodium_distichum       0.50      0.17      0.25         6\n",
            "             tilia_americana       0.00      0.00      0.00         2\n",
            "               tilia_cordata       0.04      0.78      0.08         9\n",
            "              tilia_europaea       0.00      0.00      0.00         2\n",
            "             tilia_tomentosa       0.00      0.00      0.00         3\n",
            "              toona_sinensis       1.00      1.00      1.00         3\n",
            "            tsuga_canadensis       0.80      0.50      0.62         8\n",
            "             ulmus_americana       0.00      0.00      0.00         2\n",
            "                ulmus_glabra       0.09      1.00      0.16         7\n",
            "            ulmus_parvifolia       0.20      0.40      0.27         5\n",
            "                ulmus_pumila       0.90      0.60      0.72        15\n",
            "                 ulmus_rubra       0.00      0.00      0.00         6\n",
            "             zelkova_serrata       0.00      0.00      0.00         7\n",
            "\n",
            "                    accuracy                           0.24       917\n",
            "                   macro avg       0.19      0.19      0.16       917\n",
            "                weighted avg       0.24      0.24      0.21       917\n",
            "\n"
          ]
        },
        {
          "output_type": "stream",
          "name": "stderr",
          "text": [
            "/usr/local/lib/python3.7/dist-packages/sklearn/metrics/_classification.py:1318: UndefinedMetricWarning: Precision and F-score are ill-defined and being set to 0.0 in labels with no predicted samples. Use `zero_division` parameter to control this behavior.\n",
            "  _warn_prf(average, modifier, msg_start, len(result))\n",
            "/usr/local/lib/python3.7/dist-packages/sklearn/metrics/_classification.py:1318: UndefinedMetricWarning: Precision and F-score are ill-defined and being set to 0.0 in labels with no predicted samples. Use `zero_division` parameter to control this behavior.\n",
            "  _warn_prf(average, modifier, msg_start, len(result))\n",
            "/usr/local/lib/python3.7/dist-packages/sklearn/metrics/_classification.py:1318: UndefinedMetricWarning: Precision and F-score are ill-defined and being set to 0.0 in labels with no predicted samples. Use `zero_division` parameter to control this behavior.\n",
            "  _warn_prf(average, modifier, msg_start, len(result))\n"
          ]
        }
      ]
    },
    {
      "cell_type": "markdown",
      "source": [
        "# **Kernel SVM**"
      ],
      "metadata": {
        "id": "a50Vdm7zaPfu"
      }
    },
    {
      "cell_type": "code",
      "source": [
        "from sklearn.svm import SVC\n",
        "classifier1 = SVC(kernel = 'linear', C =  1,  random_state = 101)\n",
        "classifier1.fit(x_train, y_train)"
      ],
      "metadata": {
        "id": "lvIY-If-aRmS",
        "colab": {
          "base_uri": "https://localhost:8080/"
        },
        "outputId": "1f594fd0-04ea-424e-af98-0abc196b7212"
      },
      "execution_count": null,
      "outputs": [
        {
          "output_type": "execute_result",
          "data": {
            "text/plain": [
              "SVC(C=1, kernel='linear', random_state=101)"
            ]
          },
          "metadata": {},
          "execution_count": 30
        }
      ]
    },
    {
      "cell_type": "code",
      "source": [
        "y_pred = classifier1.predict(x_test)"
      ],
      "metadata": {
        "id": "fYwMiz4Paa2V"
      },
      "execution_count": null,
      "outputs": []
    },
    {
      "cell_type": "code",
      "source": [
        "from sklearn.metrics import confusion_matrix, accuracy_score\n",
        "cm = confusion_matrix(y_test, y_pred)\n",
        "print(cm)\n",
        "svm = accuracy_score(y_test, y_pred)\n",
        "svm"
      ],
      "metadata": {
        "id": "maeJvdCRajei",
        "colab": {
          "base_uri": "https://localhost:8080/"
        },
        "outputId": "1bd96819-8645-4c67-c356-f7f6c831215f"
      },
      "execution_count": null,
      "outputs": [
        {
          "output_type": "stream",
          "name": "stdout",
          "text": [
            "[[ 6  0  0 ...  0  0  0]\n",
            " [ 0  4  0 ...  0  0  0]\n",
            " [ 0  0  5 ...  0  0  0]\n",
            " ...\n",
            " [ 0  0  0 ... 15  0  0]\n",
            " [ 0  0  0 ...  0  4  0]\n",
            " [ 0  0  0 ...  0  0  6]]\n"
          ]
        },
        {
          "output_type": "execute_result",
          "data": {
            "text/plain": [
              "0.7175572519083969"
            ]
          },
          "metadata": {},
          "execution_count": 32
        }
      ]
    },
    {
      "cell_type": "code",
      "source": [
        "from sklearn.metrics import classification_report\n",
        "print(classification_report(y_test,y_pred))"
      ],
      "metadata": {
        "id": "-ln8Ozhea4TU",
        "colab": {
          "base_uri": "https://localhost:8080/"
        },
        "outputId": "23d4fc23-537a-41ea-e6cf-f07dd2642cba"
      },
      "execution_count": null,
      "outputs": [
        {
          "output_type": "stream",
          "name": "stdout",
          "text": [
            "                              precision    recall  f1-score   support\n",
            "\n",
            "              abies_concolor       1.00      1.00      1.00         6\n",
            "          abies_nordmanniana       0.80      1.00      0.89         4\n",
            "              acer_campestre       0.71      1.00      0.83         5\n",
            "                acer_ginnala       0.67      0.50      0.57         4\n",
            "                acer_griseum       0.86      1.00      0.92         6\n",
            "                acer_negundo       0.67      0.50      0.57         4\n",
            "               acer_palmatum       0.83      1.00      0.91        10\n",
            "          acer_pensylvanicum       0.50      1.00      0.67         4\n",
            "            acer_platanoides       1.00      1.00      1.00         2\n",
            "         acer_pseudoplatanus       1.00      0.50      0.67         2\n",
            "                 acer_rubrum       0.50      0.60      0.55         5\n",
            "            acer_saccharinum       1.00      1.00      1.00         5\n",
            "              acer_saccharum       1.00      0.67      0.80         3\n",
            "              aesculus_flava       0.50      0.50      0.50         2\n",
            "             aesculus_glabra       0.62      1.00      0.77         5\n",
            "      aesculus_hippocastamon       0.50      1.00      0.67         3\n",
            "               aesculus_pavi       0.92      1.00      0.96        11\n",
            "         ailanthus_altissima       0.50      0.33      0.40         3\n",
            "         albizia_julibrissin       1.00      1.00      1.00         4\n",
            "         amelanchier_arborea       0.33      0.40      0.36         5\n",
            "      amelanchier_canadensis       0.50      0.50      0.50         4\n",
            "          amelanchier_laevis       1.00      1.00      1.00         4\n",
            "             asimina_triloba       0.67      0.67      0.67         6\n",
            "       betula_alleghaniensis       0.67      1.00      0.80         4\n",
            "          betula_jacqemontii       0.40      0.67      0.50         3\n",
            "                betula_lenta       0.50      0.50      0.50         2\n",
            "                betula_nigra       0.67      1.00      0.80         2\n",
            "          betula_populifolia       0.67      1.00      0.80         4\n",
            "    broussonettia_papyrifera       0.62      0.83      0.71         6\n",
            "            carpinus_betulus       0.00      0.00      0.00         2\n",
            "        carpinus_caroliniana       1.00      0.75      0.86         4\n",
            "           carya_cordiformis       0.71      0.83      0.77         6\n",
            "                carya_glabra       0.78      0.78      0.78         9\n",
            "                 carya_ovata       1.00      1.00      1.00         4\n",
            "             carya_tomentosa       1.00      1.00      1.00         6\n",
            "            castanea_dentata       1.00      0.80      0.89         5\n",
            "        catalpa_bignonioides       0.33      0.40      0.36         5\n",
            "            catalpa_speciosa       0.54      0.88      0.67         8\n",
            "            cedrus_atlantica       0.90      1.00      0.95         9\n",
            "              cedrus_deodara       1.00      0.75      0.86         4\n",
            "               cedrus_libani       1.00      0.83      0.91         6\n",
            "         celtis_occidentalis       0.40      0.67      0.50         3\n",
            "           celtis_tenuifolia       1.00      1.00      1.00         4\n",
            "    cercidiphyllum_japonicum       0.67      0.67      0.67         3\n",
            "           cercis_canadensis       0.67      0.80      0.73         5\n",
            "      chamaecyparis_pisifera       1.00      0.67      0.80         6\n",
            "      chamaecyparis_thyoides       1.00      1.00      1.00         5\n",
            "         chionanthus_retusus       1.00      0.67      0.80         3\n",
            "      chionanthus_virginicus       0.80      0.80      0.80         5\n",
            "            cladrastis_lutea       0.83      0.83      0.83         6\n",
            "              cornus_florida       0.33      0.17      0.22         6\n",
            "                cornus_kousa       0.00      0.00      0.00         2\n",
            "                  cornus_mas       0.33      0.20      0.25         5\n",
            "             corylus_colurna       1.00      0.80      0.89         5\n",
            "        crataegus_crus-galli       0.40      1.00      0.57         2\n",
            "         crataegus_laevigata       1.00      1.00      1.00         3\n",
            "       crataegus_phaenopyrum       0.50      0.33      0.40         3\n",
            "          crataegus_pruinosa       1.00      0.75      0.86         4\n",
            "           crataegus_viridis       0.50      0.40      0.44         5\n",
            "        cryptomeria_japonica       0.82      1.00      0.90        14\n",
            "        diospyros_virginiana       0.57      0.67      0.62         6\n",
            "           eucommia_ulmoides       0.67      0.75      0.71         8\n",
            "            evodia_daniellii       1.00      1.00      1.00         4\n",
            "           fagus_grandifolia       0.60      0.60      0.60         5\n",
            "                ficus_carica       1.00      0.80      0.89         5\n",
            "          fraxinus_americana       1.00      0.50      0.67         2\n",
            "              fraxinus_nigra       0.73      0.89      0.80         9\n",
            "      fraxinus_pennsylvanica       0.00      0.00      0.00         2\n",
            "               ginkgo_biloba       0.00      0.00      0.00         3\n",
            "       gleditsia_triacanthos       1.00      1.00      1.00         6\n",
            "         gymnocladus_dioicus       1.00      1.00      1.00         4\n",
            "          halesia_tetraptera       0.00      0.00      0.00         3\n",
            "                  ilex_opaca       0.50      0.50      0.50         4\n",
            "             juglans_cinerea       0.75      0.82      0.78        11\n",
            "               juglans_nigra       0.00      0.00      0.00         2\n",
            "        juniperus_virginiana       1.00      0.86      0.92         7\n",
            "     koelreuteria_paniculata       0.89      1.00      0.94         8\n",
            "               larix_decidua       1.00      1.00      1.00         3\n",
            "     liquidambar_styraciflua       0.83      0.83      0.83         6\n",
            "     liriodendron_tulipifera       1.00      0.67      0.80         6\n",
            "            maclura_pomifera       1.00      0.33      0.50         3\n",
            "          magnolia_acuminata       0.80      1.00      0.89         4\n",
            "           magnolia_denudata       0.83      0.83      0.83         6\n",
            "        magnolia_grandiflora       1.00      0.50      0.67         2\n",
            "        magnolia_macrophylla       1.00      0.67      0.80         3\n",
            "        magnolia_soulangiana       0.60      1.00      0.75         3\n",
            "           magnolia_stellata       0.20      0.17      0.18         6\n",
            "          magnolia_tripetala       0.00      0.00      0.00         4\n",
            "         magnolia_virginiana       0.75      0.43      0.55         7\n",
            "          malus_angustifolia       0.00      0.00      0.00         4\n",
            "               malus_baccata       0.50      1.00      0.67         4\n",
            "             malus_coronaria       0.50      0.75      0.60         4\n",
            "            malus_floribunda       0.75      0.75      0.75         4\n",
            "            malus_hupehensis       0.75      0.75      0.75         4\n",
            "                malus_pumila       1.00      0.67      0.80         6\n",
            "metasequoia_glyptostroboides       1.00      0.83      0.91         6\n",
            "                  morus_alba       0.00      0.00      0.00         2\n",
            "                 morus_rubra       0.00      0.00      0.00         2\n",
            "             nyssa_sylvatica       0.75      0.60      0.67         5\n",
            "           ostrya_virginiana       0.50      0.67      0.57         3\n",
            "         oxydendrum_arboreum       0.71      0.83      0.77         6\n",
            "         paulownia_tomentosa       1.00      0.33      0.50         3\n",
            "      phellodendron_amurense       1.00      1.00      1.00         4\n",
            "                 picea_abies       1.00      1.00      1.00         6\n",
            "            picea_orientalis       1.00      1.00      1.00         5\n",
            "               picea_pungens       0.75      1.00      0.86         6\n",
            "              pinus_bungeana       0.75      0.50      0.60         6\n",
            "                pinus_cembra       0.44      0.57      0.50         7\n",
            "            pinus_densiflora       0.83      1.00      0.91         5\n",
            "              pinus_echinata       1.00      0.80      0.89         5\n",
            "              pinus_flexilis       0.40      0.67      0.50         6\n",
            "            pinus_koraiensis       0.50      0.20      0.29         5\n",
            "                 pinus_nigra       0.33      0.60      0.43         5\n",
            "            pinus_parviflora       0.80      0.67      0.73         6\n",
            "                pinus_peucea       1.00      0.80      0.89         5\n",
            "               pinus_pungens       0.60      0.60      0.60         5\n",
            "              pinus_resinosa       1.00      1.00      1.00         5\n",
            "                pinus_rigida       1.00      0.60      0.75         5\n",
            "               pinus_strobus       1.00      0.50      0.67         2\n",
            "            pinus_sylvestris       1.00      1.00      1.00         4\n",
            "                 pinus_taeda       1.00      1.00      1.00         5\n",
            "            pinus_thunbergii       0.00      0.00      0.00         1\n",
            "            pinus_virginiana       0.00      0.00      0.00         5\n",
            "           pinus_wallichiana       0.80      1.00      0.89         4\n",
            "         platanus_acerifolia       0.20      0.50      0.29         2\n",
            "       platanus_occidentalis       0.50      0.50      0.50         2\n",
            "           populus_deltoides       1.00      0.83      0.91         6\n",
            "       populus_grandidentata       1.00      0.80      0.89         5\n",
            "         populus_tremuloides       0.50      0.20      0.29         5\n",
            "         prunus_pensylvanica       1.00      1.00      1.00         3\n",
            "            prunus_sargentii       0.37      0.39      0.38        18\n",
            "             prunus_serotina       1.00      0.67      0.80         3\n",
            "            prunus_serrulata       0.00      0.00      0.00         2\n",
            "          prunus_subhirtella       0.00      0.00      0.00         6\n",
            "           prunus_virginiana       0.54      0.79      0.64        19\n",
            "            prunus_yedoensis       0.00      0.00      0.00         3\n",
            "        pseudolarix_amabilis       1.00      1.00      1.00         5\n",
            "           ptelea_trifoliata       0.60      0.60      0.60         5\n",
            "            pyrus_calleryana       0.62      0.83      0.71         6\n",
            "          quercus_acutissima       1.00      1.00      1.00         6\n",
            "                quercus_alba       0.00      0.00      0.00         2\n",
            "             quercus_bicolor       0.60      1.00      0.75         3\n",
            "              quercus_cerris       0.75      1.00      0.86         3\n",
            "            quercus_coccinea       1.00      1.00      1.00         3\n",
            "             quercus_falcata       0.83      0.83      0.83         6\n",
            "          quercus_imbricaria       1.00      0.50      0.67         4\n",
            "          quercus_macrocarpa       1.00      0.80      0.89         5\n",
            "         quercus_marilandica       0.71      0.71      0.71         7\n",
            "           quercus_michauxii       1.00      1.00      1.00         6\n",
            "             quercus_montana       1.00      0.71      0.83         7\n",
            "       quercus_muehlenbergii       0.00      0.00      0.00        12\n",
            "               quercus_nigra       1.00      0.60      0.75         5\n",
            "           quercus_palustris       1.00      1.00      1.00         2\n",
            "             quercus_phellos       0.67      1.00      0.80         2\n",
            "               quercus_robur       1.00      0.75      0.86         4\n",
            "               quercus_rubra       0.67      0.50      0.57         4\n",
            "           quercus_shumardii       1.00      0.80      0.89         5\n",
            "            quercus_stellata       1.00      0.83      0.91         6\n",
            "            quercus_velutina       0.80      0.67      0.73         6\n",
            "          quercus_virginiana       0.60      0.60      0.60         5\n",
            "       robinia_pseudo-acacia       0.67      0.67      0.67         3\n",
            "            salix_babylonica       1.00      1.00      1.00         6\n",
            "           salix_caroliniana       0.83      1.00      0.91         5\n",
            "             salix_matsudana       0.80      0.80      0.80         5\n",
            "                 salix_nigra       0.88      0.78      0.82         9\n",
            "           sassafras_albidum       0.20      0.50      0.29         2\n",
            "          staphylea_trifolia       0.60      0.60      0.60         5\n",
            "    stewartia_pseudocamellia       0.80      0.80      0.80         5\n",
            "             styrax_japonica       0.70      0.58      0.64        12\n",
            "              styrax_obassia       0.67      0.40      0.50         5\n",
            "          syringa_reticulata       1.00      0.60      0.75         5\n",
            "          taxodium_distichum       1.00      0.67      0.80         6\n",
            "             tilia_americana       0.50      1.00      0.67         2\n",
            "               tilia_cordata       0.80      0.89      0.84         9\n",
            "              tilia_europaea       0.00      0.00      0.00         2\n",
            "             tilia_tomentosa       1.00      0.67      0.80         3\n",
            "              toona_sinensis       1.00      1.00      1.00         3\n",
            "            tsuga_canadensis       0.89      1.00      0.94         8\n",
            "             ulmus_americana       1.00      0.50      0.67         2\n",
            "                ulmus_glabra       1.00      0.43      0.60         7\n",
            "            ulmus_parvifolia       0.75      0.60      0.67         5\n",
            "                ulmus_pumila       0.83      1.00      0.91        15\n",
            "                 ulmus_rubra       0.80      0.67      0.73         6\n",
            "             zelkova_serrata       0.55      0.86      0.67         7\n",
            "\n",
            "                    accuracy                           0.72       917\n",
            "                   macro avg       0.71      0.68      0.68       917\n",
            "                weighted avg       0.73      0.72      0.71       917\n",
            "\n"
          ]
        },
        {
          "output_type": "stream",
          "name": "stderr",
          "text": [
            "/usr/local/lib/python3.7/dist-packages/sklearn/metrics/_classification.py:1318: UndefinedMetricWarning: Precision and F-score are ill-defined and being set to 0.0 in labels with no predicted samples. Use `zero_division` parameter to control this behavior.\n",
            "  _warn_prf(average, modifier, msg_start, len(result))\n",
            "/usr/local/lib/python3.7/dist-packages/sklearn/metrics/_classification.py:1318: UndefinedMetricWarning: Precision and F-score are ill-defined and being set to 0.0 in labels with no predicted samples. Use `zero_division` parameter to control this behavior.\n",
            "  _warn_prf(average, modifier, msg_start, len(result))\n",
            "/usr/local/lib/python3.7/dist-packages/sklearn/metrics/_classification.py:1318: UndefinedMetricWarning: Precision and F-score are ill-defined and being set to 0.0 in labels with no predicted samples. Use `zero_division` parameter to control this behavior.\n",
            "  _warn_prf(average, modifier, msg_start, len(result))\n"
          ]
        }
      ]
    },
    {
      "cell_type": "markdown",
      "source": [
        "# **Linear SVC**"
      ],
      "metadata": {
        "id": "k2Gs3nfUeH6e"
      }
    },
    {
      "cell_type": "code",
      "source": [
        "from sklearn.svm import LinearSVC\n",
        "class3 = LinearSVC(random_state=0, tol=1e-5)\n",
        "class3.fit(x_train, y_train)"
      ],
      "metadata": {
        "id": "-u4a6K9edUo8",
        "colab": {
          "base_uri": "https://localhost:8080/"
        },
        "outputId": "de91d2c5-80c6-4b80-b78c-4c71b00c997c"
      },
      "execution_count": null,
      "outputs": [
        {
          "output_type": "stream",
          "name": "stderr",
          "text": [
            "/usr/local/lib/python3.7/dist-packages/sklearn/svm/_base.py:1208: ConvergenceWarning: Liblinear failed to converge, increase the number of iterations.\n",
            "  ConvergenceWarning,\n"
          ]
        },
        {
          "output_type": "execute_result",
          "data": {
            "text/plain": [
              "LinearSVC(random_state=0, tol=1e-05)"
            ]
          },
          "metadata": {},
          "execution_count": 34
        }
      ]
    },
    {
      "cell_type": "code",
      "source": [
        "y_pred = class3.predict(x_test)"
      ],
      "metadata": {
        "id": "G9xocQMQeKex"
      },
      "execution_count": null,
      "outputs": []
    },
    {
      "cell_type": "code",
      "source": [
        "from sklearn.metrics import confusion_matrix, accuracy_score\n",
        "cm = confusion_matrix(y_test, y_pred)\n",
        "print(cm)\n",
        "svc = accuracy_score(y_test, y_pred)\n",
        "svc"
      ],
      "metadata": {
        "id": "zMul4WybePmt",
        "colab": {
          "base_uri": "https://localhost:8080/"
        },
        "outputId": "9d17f7c3-4ecb-4435-cc06-cd0f12f6e417"
      },
      "execution_count": null,
      "outputs": [
        {
          "output_type": "stream",
          "name": "stdout",
          "text": [
            "[[ 6  0  0 ...  0  0  0]\n",
            " [ 0  3  0 ...  0  0  0]\n",
            " [ 0  0  5 ...  0  0  0]\n",
            " ...\n",
            " [ 0  0  0 ... 15  0  0]\n",
            " [ 0  0  0 ...  0  5  0]\n",
            " [ 0  0  0 ...  0  0  6]]\n"
          ]
        },
        {
          "output_type": "execute_result",
          "data": {
            "text/plain": [
              "0.7404580152671756"
            ]
          },
          "metadata": {},
          "execution_count": 36
        }
      ]
    },
    {
      "cell_type": "code",
      "source": [
        "from sklearn.metrics import classification_report\n",
        "print(classification_report(y_test,y_pred))"
      ],
      "metadata": {
        "id": "1nb7ZQ4GeRis",
        "colab": {
          "base_uri": "https://localhost:8080/"
        },
        "outputId": "db30a5fc-ee1a-458b-8276-bb364c2454bf"
      },
      "execution_count": null,
      "outputs": [
        {
          "output_type": "stream",
          "name": "stdout",
          "text": [
            "                              precision    recall  f1-score   support\n",
            "\n",
            "              abies_concolor       1.00      1.00      1.00         6\n",
            "          abies_nordmanniana       0.75      0.75      0.75         4\n",
            "              acer_campestre       0.83      1.00      0.91         5\n",
            "                acer_ginnala       0.50      0.75      0.60         4\n",
            "                acer_griseum       1.00      0.83      0.91         6\n",
            "                acer_negundo       0.67      0.50      0.57         4\n",
            "               acer_palmatum       0.83      1.00      0.91        10\n",
            "          acer_pensylvanicum       0.57      1.00      0.73         4\n",
            "            acer_platanoides       1.00      1.00      1.00         2\n",
            "         acer_pseudoplatanus       1.00      0.50      0.67         2\n",
            "                 acer_rubrum       0.67      0.80      0.73         5\n",
            "            acer_saccharinum       1.00      1.00      1.00         5\n",
            "              acer_saccharum       1.00      0.67      0.80         3\n",
            "              aesculus_flava       0.50      0.50      0.50         2\n",
            "             aesculus_glabra       0.83      1.00      0.91         5\n",
            "      aesculus_hippocastamon       0.67      0.67      0.67         3\n",
            "               aesculus_pavi       1.00      1.00      1.00        11\n",
            "         ailanthus_altissima       0.50      0.33      0.40         3\n",
            "         albizia_julibrissin       0.80      1.00      0.89         4\n",
            "         amelanchier_arborea       0.67      0.40      0.50         5\n",
            "      amelanchier_canadensis       1.00      0.75      0.86         4\n",
            "          amelanchier_laevis       1.00      1.00      1.00         4\n",
            "             asimina_triloba       0.83      0.83      0.83         6\n",
            "       betula_alleghaniensis       0.80      1.00      0.89         4\n",
            "          betula_jacqemontii       0.67      0.67      0.67         3\n",
            "                betula_lenta       0.33      0.50      0.40         2\n",
            "                betula_nigra       0.50      0.50      0.50         2\n",
            "          betula_populifolia       0.80      1.00      0.89         4\n",
            "    broussonettia_papyrifera       0.71      0.83      0.77         6\n",
            "            carpinus_betulus       0.00      0.00      0.00         2\n",
            "        carpinus_caroliniana       0.75      0.75      0.75         4\n",
            "           carya_cordiformis       0.75      1.00      0.86         6\n",
            "                carya_glabra       0.80      0.89      0.84         9\n",
            "                 carya_ovata       1.00      1.00      1.00         4\n",
            "             carya_tomentosa       1.00      0.83      0.91         6\n",
            "            castanea_dentata       1.00      0.40      0.57         5\n",
            "        catalpa_bignonioides       0.67      0.40      0.50         5\n",
            "            catalpa_speciosa       0.57      0.50      0.53         8\n",
            "            cedrus_atlantica       1.00      0.89      0.94         9\n",
            "              cedrus_deodara       1.00      1.00      1.00         4\n",
            "               cedrus_libani       1.00      1.00      1.00         6\n",
            "         celtis_occidentalis       0.60      1.00      0.75         3\n",
            "           celtis_tenuifolia       1.00      1.00      1.00         4\n",
            "    cercidiphyllum_japonicum       0.67      0.67      0.67         3\n",
            "           cercis_canadensis       0.75      0.60      0.67         5\n",
            "      chamaecyparis_pisifera       1.00      0.67      0.80         6\n",
            "      chamaecyparis_thyoides       1.00      1.00      1.00         5\n",
            "         chionanthus_retusus       1.00      0.67      0.80         3\n",
            "      chionanthus_virginicus       0.75      0.60      0.67         5\n",
            "            cladrastis_lutea       0.86      1.00      0.92         6\n",
            "              cornus_florida       1.00      0.33      0.50         6\n",
            "                cornus_kousa       0.00      0.00      0.00         2\n",
            "                  cornus_mas       0.60      0.60      0.60         5\n",
            "             corylus_colurna       0.80      0.80      0.80         5\n",
            "        crataegus_crus-galli       1.00      0.50      0.67         2\n",
            "         crataegus_laevigata       1.00      0.67      0.80         3\n",
            "       crataegus_phaenopyrum       0.00      0.00      0.00         3\n",
            "          crataegus_pruinosa       0.75      0.75      0.75         4\n",
            "           crataegus_viridis       0.57      0.80      0.67         5\n",
            "        cryptomeria_japonica       0.88      1.00      0.93        14\n",
            "        diospyros_virginiana       0.83      0.83      0.83         6\n",
            "           eucommia_ulmoides       0.70      0.88      0.78         8\n",
            "            evodia_daniellii       1.00      1.00      1.00         4\n",
            "           fagus_grandifolia       0.40      0.40      0.40         5\n",
            "                ficus_carica       1.00      1.00      1.00         5\n",
            "          fraxinus_americana       1.00      0.50      0.67         2\n",
            "              fraxinus_nigra       0.70      0.78      0.74         9\n",
            "      fraxinus_pennsylvanica       0.00      0.00      0.00         2\n",
            "               ginkgo_biloba       0.00      0.00      0.00         3\n",
            "       gleditsia_triacanthos       1.00      1.00      1.00         6\n",
            "         gymnocladus_dioicus       1.00      1.00      1.00         4\n",
            "          halesia_tetraptera       1.00      0.33      0.50         3\n",
            "                  ilex_opaca       1.00      0.75      0.86         4\n",
            "             juglans_cinerea       0.50      0.55      0.52        11\n",
            "               juglans_nigra       0.00      0.00      0.00         2\n",
            "        juniperus_virginiana       1.00      0.71      0.83         7\n",
            "     koelreuteria_paniculata       0.89      1.00      0.94         8\n",
            "               larix_decidua       1.00      0.33      0.50         3\n",
            "     liquidambar_styraciflua       1.00      0.83      0.91         6\n",
            "     liriodendron_tulipifera       1.00      0.83      0.91         6\n",
            "            maclura_pomifera       0.67      0.67      0.67         3\n",
            "          magnolia_acuminata       0.75      0.75      0.75         4\n",
            "           magnolia_denudata       0.80      0.67      0.73         6\n",
            "        magnolia_grandiflora       0.50      0.50      0.50         2\n",
            "        magnolia_macrophylla       1.00      0.67      0.80         3\n",
            "        magnolia_soulangiana       0.60      1.00      0.75         3\n",
            "           magnolia_stellata       0.14      0.17      0.15         6\n",
            "          magnolia_tripetala       0.00      0.00      0.00         4\n",
            "         magnolia_virginiana       1.00      0.43      0.60         7\n",
            "          malus_angustifolia       1.00      0.25      0.40         4\n",
            "               malus_baccata       0.50      1.00      0.67         4\n",
            "             malus_coronaria       0.67      0.50      0.57         4\n",
            "            malus_floribunda       1.00      0.75      0.86         4\n",
            "            malus_hupehensis       0.80      1.00      0.89         4\n",
            "                malus_pumila       0.80      0.67      0.73         6\n",
            "metasequoia_glyptostroboides       0.83      0.83      0.83         6\n",
            "                  morus_alba       0.00      0.00      0.00         2\n",
            "                 morus_rubra       0.00      0.00      0.00         2\n",
            "             nyssa_sylvatica       0.43      0.60      0.50         5\n",
            "           ostrya_virginiana       0.50      0.67      0.57         3\n",
            "         oxydendrum_arboreum       0.83      0.83      0.83         6\n",
            "         paulownia_tomentosa       0.43      1.00      0.60         3\n",
            "      phellodendron_amurense       1.00      1.00      1.00         4\n",
            "                 picea_abies       1.00      1.00      1.00         6\n",
            "            picea_orientalis       1.00      1.00      1.00         5\n",
            "               picea_pungens       0.86      1.00      0.92         6\n",
            "              pinus_bungeana       0.60      0.50      0.55         6\n",
            "                pinus_cembra       0.50      0.57      0.53         7\n",
            "            pinus_densiflora       0.80      0.80      0.80         5\n",
            "              pinus_echinata       0.80      0.80      0.80         5\n",
            "              pinus_flexilis       0.50      0.67      0.57         6\n",
            "            pinus_koraiensis       0.50      0.40      0.44         5\n",
            "                 pinus_nigra       0.38      0.60      0.46         5\n",
            "            pinus_parviflora       1.00      0.67      0.80         6\n",
            "                pinus_peucea       1.00      0.80      0.89         5\n",
            "               pinus_pungens       0.67      0.80      0.73         5\n",
            "              pinus_resinosa       1.00      1.00      1.00         5\n",
            "                pinus_rigida       1.00      0.60      0.75         5\n",
            "               pinus_strobus       0.50      0.50      0.50         2\n",
            "            pinus_sylvestris       1.00      1.00      1.00         4\n",
            "                 pinus_taeda       1.00      1.00      1.00         5\n",
            "            pinus_thunbergii       0.00      0.00      0.00         1\n",
            "            pinus_virginiana       0.00      0.00      0.00         5\n",
            "           pinus_wallichiana       0.75      0.75      0.75         4\n",
            "         platanus_acerifolia       0.25      0.50      0.33         2\n",
            "       platanus_occidentalis       0.50      0.50      0.50         2\n",
            "           populus_deltoides       1.00      1.00      1.00         6\n",
            "       populus_grandidentata       1.00      0.80      0.89         5\n",
            "         populus_tremuloides       1.00      0.40      0.57         5\n",
            "         prunus_pensylvanica       0.60      1.00      0.75         3\n",
            "            prunus_sargentii       0.39      0.61      0.48        18\n",
            "             prunus_serotina       0.33      0.67      0.44         3\n",
            "            prunus_serrulata       0.00      0.00      0.00         2\n",
            "          prunus_subhirtella       0.00      0.00      0.00         6\n",
            "           prunus_virginiana       0.48      0.68      0.57        19\n",
            "            prunus_yedoensis       0.50      0.67      0.57         3\n",
            "        pseudolarix_amabilis       0.56      1.00      0.71         5\n",
            "           ptelea_trifoliata       0.80      0.80      0.80         5\n",
            "            pyrus_calleryana       0.71      0.83      0.77         6\n",
            "          quercus_acutissima       1.00      1.00      1.00         6\n",
            "                quercus_alba       0.00      0.00      0.00         2\n",
            "             quercus_bicolor       0.60      1.00      0.75         3\n",
            "              quercus_cerris       0.75      1.00      0.86         3\n",
            "            quercus_coccinea       1.00      1.00      1.00         3\n",
            "             quercus_falcata       1.00      0.67      0.80         6\n",
            "          quercus_imbricaria       1.00      0.50      0.67         4\n",
            "          quercus_macrocarpa       1.00      0.80      0.89         5\n",
            "         quercus_marilandica       0.67      0.57      0.62         7\n",
            "           quercus_michauxii       1.00      1.00      1.00         6\n",
            "             quercus_montana       1.00      0.86      0.92         7\n",
            "       quercus_muehlenbergii       0.00      0.00      0.00        12\n",
            "               quercus_nigra       0.67      0.80      0.73         5\n",
            "           quercus_palustris       1.00      1.00      1.00         2\n",
            "             quercus_phellos       0.50      1.00      0.67         2\n",
            "               quercus_robur       1.00      1.00      1.00         4\n",
            "               quercus_rubra       1.00      1.00      1.00         4\n",
            "           quercus_shumardii       1.00      0.80      0.89         5\n",
            "            quercus_stellata       1.00      0.83      0.91         6\n",
            "            quercus_velutina       1.00      0.83      0.91         6\n",
            "          quercus_virginiana       0.67      0.80      0.73         5\n",
            "       robinia_pseudo-acacia       0.67      0.67      0.67         3\n",
            "            salix_babylonica       0.86      1.00      0.92         6\n",
            "           salix_caroliniana       0.83      1.00      0.91         5\n",
            "             salix_matsudana       1.00      1.00      1.00         5\n",
            "                 salix_nigra       1.00      1.00      1.00         9\n",
            "           sassafras_albidum       0.20      0.50      0.29         2\n",
            "          staphylea_trifolia       1.00      0.80      0.89         5\n",
            "    stewartia_pseudocamellia       0.83      1.00      0.91         5\n",
            "             styrax_japonica       0.64      0.58      0.61        12\n",
            "              styrax_obassia       0.75      0.60      0.67         5\n",
            "          syringa_reticulata       1.00      0.80      0.89         5\n",
            "          taxodium_distichum       1.00      0.67      0.80         6\n",
            "             tilia_americana       1.00      1.00      1.00         2\n",
            "               tilia_cordata       0.90      1.00      0.95         9\n",
            "              tilia_europaea       0.33      0.50      0.40         2\n",
            "             tilia_tomentosa       0.67      0.67      0.67         3\n",
            "              toona_sinensis       1.00      1.00      1.00         3\n",
            "            tsuga_canadensis       0.89      1.00      0.94         8\n",
            "             ulmus_americana       1.00      0.50      0.67         2\n",
            "                ulmus_glabra       1.00      0.57      0.73         7\n",
            "            ulmus_parvifolia       0.67      0.40      0.50         5\n",
            "                ulmus_pumila       0.79      1.00      0.88        15\n",
            "                 ulmus_rubra       1.00      0.83      0.91         6\n",
            "             zelkova_serrata       0.60      0.86      0.71         7\n",
            "\n",
            "                    accuracy                           0.74       917\n",
            "                   macro avg       0.73      0.71      0.70       917\n",
            "                weighted avg       0.76      0.74      0.73       917\n",
            "\n"
          ]
        },
        {
          "output_type": "stream",
          "name": "stderr",
          "text": [
            "/usr/local/lib/python3.7/dist-packages/sklearn/metrics/_classification.py:1318: UndefinedMetricWarning: Precision and F-score are ill-defined and being set to 0.0 in labels with no predicted samples. Use `zero_division` parameter to control this behavior.\n",
            "  _warn_prf(average, modifier, msg_start, len(result))\n",
            "/usr/local/lib/python3.7/dist-packages/sklearn/metrics/_classification.py:1318: UndefinedMetricWarning: Precision and F-score are ill-defined and being set to 0.0 in labels with no predicted samples. Use `zero_division` parameter to control this behavior.\n",
            "  _warn_prf(average, modifier, msg_start, len(result))\n",
            "/usr/local/lib/python3.7/dist-packages/sklearn/metrics/_classification.py:1318: UndefinedMetricWarning: Precision and F-score are ill-defined and being set to 0.0 in labels with no predicted samples. Use `zero_division` parameter to control this behavior.\n",
            "  _warn_prf(average, modifier, msg_start, len(result))\n"
          ]
        }
      ]
    },
    {
      "cell_type": "markdown",
      "source": [
        "# **Logistic Regression**"
      ],
      "metadata": {
        "id": "769KZo9tfKwT"
      }
    },
    {
      "cell_type": "code",
      "source": [
        "from sklearn.linear_model import LogisticRegression\n",
        "classifier4 = LogisticRegression(random_state = 0)\n",
        "classifier4.fit(x_train, y_train)"
      ],
      "metadata": {
        "id": "fctRHs56fNiN",
        "colab": {
          "base_uri": "https://localhost:8080/"
        },
        "outputId": "b26ca6ad-cc2c-4505-b56c-efcf35107506"
      },
      "execution_count": null,
      "outputs": [
        {
          "output_type": "stream",
          "name": "stderr",
          "text": [
            "/usr/local/lib/python3.7/dist-packages/sklearn/linear_model/_logistic.py:818: ConvergenceWarning: lbfgs failed to converge (status=1):\n",
            "STOP: TOTAL NO. of ITERATIONS REACHED LIMIT.\n",
            "\n",
            "Increase the number of iterations (max_iter) or scale the data as shown in:\n",
            "    https://scikit-learn.org/stable/modules/preprocessing.html\n",
            "Please also refer to the documentation for alternative solver options:\n",
            "    https://scikit-learn.org/stable/modules/linear_model.html#logistic-regression\n",
            "  extra_warning_msg=_LOGISTIC_SOLVER_CONVERGENCE_MSG,\n"
          ]
        },
        {
          "output_type": "execute_result",
          "data": {
            "text/plain": [
              "LogisticRegression(random_state=0)"
            ]
          },
          "metadata": {},
          "execution_count": 38
        }
      ]
    },
    {
      "cell_type": "code",
      "source": [
        "y_pred = classifier4.predict(x_test)"
      ],
      "metadata": {
        "id": "M6bXOv1EfVVA"
      },
      "execution_count": null,
      "outputs": []
    },
    {
      "cell_type": "code",
      "source": [
        "from sklearn.metrics import confusion_matrix, accuracy_score\n",
        "cm = confusion_matrix(y_test, y_pred)\n",
        "print(cm)\n",
        "logis = accuracy_score(y_test, y_pred)\n",
        "logis"
      ],
      "metadata": {
        "id": "ntsN9C5TfYaO",
        "colab": {
          "base_uri": "https://localhost:8080/"
        },
        "outputId": "0b1a78b9-5dc7-4c19-a7de-435129586dee"
      },
      "execution_count": null,
      "outputs": [
        {
          "output_type": "stream",
          "name": "stdout",
          "text": [
            "[[ 6  0  0 ...  0  0  0]\n",
            " [ 0  3  0 ...  0  0  0]\n",
            " [ 0  0  4 ...  0  0  0]\n",
            " ...\n",
            " [ 0  0  0 ... 15  0  0]\n",
            " [ 0  0  0 ...  0  6  0]\n",
            " [ 0  0  0 ...  0  0  5]]\n"
          ]
        },
        {
          "output_type": "execute_result",
          "data": {
            "text/plain": [
              "0.7142857142857143"
            ]
          },
          "metadata": {},
          "execution_count": 40
        }
      ]
    },
    {
      "cell_type": "code",
      "source": [
        "from sklearn.metrics import classification_report\n",
        "print(classification_report(y_test,y_pred))"
      ],
      "metadata": {
        "id": "QW2zSgT8fhPY",
        "colab": {
          "base_uri": "https://localhost:8080/"
        },
        "outputId": "e781fa4f-91bf-41cf-b6cb-151f7c22a2c4"
      },
      "execution_count": null,
      "outputs": [
        {
          "output_type": "stream",
          "name": "stdout",
          "text": [
            "                              precision    recall  f1-score   support\n",
            "\n",
            "              abies_concolor       1.00      1.00      1.00         6\n",
            "          abies_nordmanniana       0.60      0.75      0.67         4\n",
            "              acer_campestre       0.80      0.80      0.80         5\n",
            "                acer_ginnala       0.57      1.00      0.73         4\n",
            "                acer_griseum       0.71      0.83      0.77         6\n",
            "                acer_negundo       1.00      0.50      0.67         4\n",
            "               acer_palmatum       0.71      1.00      0.83        10\n",
            "          acer_pensylvanicum       0.50      1.00      0.67         4\n",
            "            acer_platanoides       0.67      1.00      0.80         2\n",
            "         acer_pseudoplatanus       1.00      0.50      0.67         2\n",
            "                 acer_rubrum       0.80      0.80      0.80         5\n",
            "            acer_saccharinum       1.00      1.00      1.00         5\n",
            "              acer_saccharum       1.00      0.33      0.50         3\n",
            "              aesculus_flava       0.50      0.50      0.50         2\n",
            "             aesculus_glabra       0.83      1.00      0.91         5\n",
            "      aesculus_hippocastamon       0.40      0.67      0.50         3\n",
            "               aesculus_pavi       1.00      1.00      1.00        11\n",
            "         ailanthus_altissima       1.00      0.33      0.50         3\n",
            "         albizia_julibrissin       1.00      1.00      1.00         4\n",
            "         amelanchier_arborea       0.67      0.40      0.50         5\n",
            "      amelanchier_canadensis       0.50      0.50      0.50         4\n",
            "          amelanchier_laevis       1.00      1.00      1.00         4\n",
            "             asimina_triloba       0.67      0.67      0.67         6\n",
            "       betula_alleghaniensis       0.80      1.00      0.89         4\n",
            "          betula_jacqemontii       0.50      0.67      0.57         3\n",
            "                betula_lenta       0.00      0.00      0.00         2\n",
            "                betula_nigra       0.50      0.50      0.50         2\n",
            "          betula_populifolia       1.00      0.75      0.86         4\n",
            "    broussonettia_papyrifera       0.57      0.67      0.62         6\n",
            "            carpinus_betulus       0.50      0.50      0.50         2\n",
            "        carpinus_caroliniana       1.00      0.50      0.67         4\n",
            "           carya_cordiformis       0.71      0.83      0.77         6\n",
            "                carya_glabra       0.64      0.78      0.70         9\n",
            "                 carya_ovata       1.00      1.00      1.00         4\n",
            "             carya_tomentosa       1.00      0.83      0.91         6\n",
            "            castanea_dentata       0.80      0.80      0.80         5\n",
            "        catalpa_bignonioides       0.67      0.40      0.50         5\n",
            "            catalpa_speciosa       0.70      0.88      0.78         8\n",
            "            cedrus_atlantica       1.00      0.89      0.94         9\n",
            "              cedrus_deodara       1.00      1.00      1.00         4\n",
            "               cedrus_libani       0.83      0.83      0.83         6\n",
            "         celtis_occidentalis       0.33      0.33      0.33         3\n",
            "           celtis_tenuifolia       1.00      1.00      1.00         4\n",
            "    cercidiphyllum_japonicum       0.67      0.67      0.67         3\n",
            "           cercis_canadensis       0.80      0.80      0.80         5\n",
            "      chamaecyparis_pisifera       1.00      0.50      0.67         6\n",
            "      chamaecyparis_thyoides       1.00      1.00      1.00         5\n",
            "         chionanthus_retusus       1.00      0.67      0.80         3\n",
            "      chionanthus_virginicus       0.80      0.80      0.80         5\n",
            "            cladrastis_lutea       0.83      0.83      0.83         6\n",
            "              cornus_florida       1.00      0.17      0.29         6\n",
            "                cornus_kousa       0.00      0.00      0.00         2\n",
            "                  cornus_mas       0.67      0.40      0.50         5\n",
            "             corylus_colurna       0.80      0.80      0.80         5\n",
            "        crataegus_crus-galli       1.00      1.00      1.00         2\n",
            "         crataegus_laevigata       1.00      1.00      1.00         3\n",
            "       crataegus_phaenopyrum       0.50      0.33      0.40         3\n",
            "          crataegus_pruinosa       0.50      0.75      0.60         4\n",
            "           crataegus_viridis       0.57      0.80      0.67         5\n",
            "        cryptomeria_japonica       0.88      1.00      0.93        14\n",
            "        diospyros_virginiana       0.60      0.50      0.55         6\n",
            "           eucommia_ulmoides       0.75      0.75      0.75         8\n",
            "            evodia_daniellii       1.00      1.00      1.00         4\n",
            "           fagus_grandifolia       0.60      0.60      0.60         5\n",
            "                ficus_carica       1.00      1.00      1.00         5\n",
            "          fraxinus_americana       1.00      0.50      0.67         2\n",
            "              fraxinus_nigra       0.70      0.78      0.74         9\n",
            "      fraxinus_pennsylvanica       0.00      0.00      0.00         2\n",
            "               ginkgo_biloba       1.00      0.33      0.50         3\n",
            "       gleditsia_triacanthos       1.00      1.00      1.00         6\n",
            "         gymnocladus_dioicus       1.00      1.00      1.00         4\n",
            "          halesia_tetraptera       0.00      0.00      0.00         3\n",
            "                  ilex_opaca       0.75      0.75      0.75         4\n",
            "             juglans_cinerea       0.55      0.55      0.55        11\n",
            "               juglans_nigra       1.00      0.50      0.67         2\n",
            "        juniperus_virginiana       1.00      1.00      1.00         7\n",
            "     koelreuteria_paniculata       0.89      1.00      0.94         8\n",
            "               larix_decidua       1.00      1.00      1.00         3\n",
            "     liquidambar_styraciflua       1.00      0.83      0.91         6\n",
            "     liriodendron_tulipifera       1.00      0.67      0.80         6\n",
            "            maclura_pomifera       0.50      0.33      0.40         3\n",
            "          magnolia_acuminata       1.00      0.75      0.86         4\n",
            "           magnolia_denudata       1.00      1.00      1.00         6\n",
            "        magnolia_grandiflora       0.50      0.50      0.50         2\n",
            "        magnolia_macrophylla       0.75      1.00      0.86         3\n",
            "        magnolia_soulangiana       0.50      0.67      0.57         3\n",
            "           magnolia_stellata       0.00      0.00      0.00         6\n",
            "          magnolia_tripetala       0.17      0.25      0.20         4\n",
            "         magnolia_virginiana       1.00      0.43      0.60         7\n",
            "          malus_angustifolia       1.00      0.25      0.40         4\n",
            "               malus_baccata       0.44      1.00      0.62         4\n",
            "             malus_coronaria       0.33      0.75      0.46         4\n",
            "            malus_floribunda       1.00      0.75      0.86         4\n",
            "            malus_hupehensis       0.67      0.50      0.57         4\n",
            "                malus_pumila       0.67      0.67      0.67         6\n",
            "metasequoia_glyptostroboides       0.83      0.83      0.83         6\n",
            "                  morus_alba       0.00      0.00      0.00         2\n",
            "                 morus_rubra       0.00      0.00      0.00         2\n",
            "             nyssa_sylvatica       0.60      0.60      0.60         5\n",
            "           ostrya_virginiana       0.67      0.67      0.67         3\n",
            "         oxydendrum_arboreum       0.71      0.83      0.77         6\n",
            "         paulownia_tomentosa       0.00      0.00      0.00         3\n",
            "      phellodendron_amurense       1.00      1.00      1.00         4\n",
            "                 picea_abies       1.00      1.00      1.00         6\n",
            "            picea_orientalis       1.00      1.00      1.00         5\n",
            "               picea_pungens       0.86      1.00      0.92         6\n",
            "              pinus_bungeana       0.71      0.83      0.77         6\n",
            "                pinus_cembra       0.60      0.43      0.50         7\n",
            "            pinus_densiflora       0.80      0.80      0.80         5\n",
            "              pinus_echinata       1.00      0.80      0.89         5\n",
            "              pinus_flexilis       0.50      0.50      0.50         6\n",
            "            pinus_koraiensis       0.50      0.40      0.44         5\n",
            "                 pinus_nigra       0.33      0.80      0.47         5\n",
            "            pinus_parviflora       0.83      0.83      0.83         6\n",
            "                pinus_peucea       0.80      0.80      0.80         5\n",
            "               pinus_pungens       0.60      0.60      0.60         5\n",
            "              pinus_resinosa       1.00      1.00      1.00         5\n",
            "                pinus_rigida       1.00      0.60      0.75         5\n",
            "               pinus_strobus       0.50      0.50      0.50         2\n",
            "            pinus_sylvestris       1.00      1.00      1.00         4\n",
            "                 pinus_taeda       1.00      0.80      0.89         5\n",
            "            pinus_thunbergii       0.00      0.00      0.00         1\n",
            "            pinus_virginiana       0.00      0.00      0.00         5\n",
            "           pinus_wallichiana       0.75      0.75      0.75         4\n",
            "         platanus_acerifolia       0.25      0.50      0.33         2\n",
            "       platanus_occidentalis       0.33      0.50      0.40         2\n",
            "           populus_deltoides       1.00      1.00      1.00         6\n",
            "       populus_grandidentata       0.80      0.80      0.80         5\n",
            "         populus_tremuloides       1.00      0.20      0.33         5\n",
            "         prunus_pensylvanica       1.00      1.00      1.00         3\n",
            "            prunus_sargentii       0.43      0.56      0.49        18\n",
            "             prunus_serotina       0.50      0.67      0.57         3\n",
            "            prunus_serrulata       0.00      0.00      0.00         2\n",
            "          prunus_subhirtella       0.00      0.00      0.00         6\n",
            "           prunus_virginiana       0.50      0.68      0.58        19\n",
            "            prunus_yedoensis       0.67      0.67      0.67         3\n",
            "        pseudolarix_amabilis       1.00      0.80      0.89         5\n",
            "           ptelea_trifoliata       0.60      0.60      0.60         5\n",
            "            pyrus_calleryana       0.83      0.83      0.83         6\n",
            "          quercus_acutissima       1.00      1.00      1.00         6\n",
            "                quercus_alba       0.00      0.00      0.00         2\n",
            "             quercus_bicolor       0.75      1.00      0.86         3\n",
            "              quercus_cerris       1.00      1.00      1.00         3\n",
            "            quercus_coccinea       1.00      0.67      0.80         3\n",
            "             quercus_falcata       0.67      0.33      0.44         6\n",
            "          quercus_imbricaria       0.67      0.50      0.57         4\n",
            "          quercus_macrocarpa       1.00      0.80      0.89         5\n",
            "         quercus_marilandica       0.80      0.57      0.67         7\n",
            "           quercus_michauxii       0.71      0.83      0.77         6\n",
            "             quercus_montana       1.00      0.71      0.83         7\n",
            "       quercus_muehlenbergii       0.00      0.00      0.00        12\n",
            "               quercus_nigra       1.00      0.80      0.89         5\n",
            "           quercus_palustris       0.33      0.50      0.40         2\n",
            "             quercus_phellos       0.25      0.50      0.33         2\n",
            "               quercus_robur       0.75      0.75      0.75         4\n",
            "               quercus_rubra       0.60      0.75      0.67         4\n",
            "           quercus_shumardii       1.00      0.80      0.89         5\n",
            "            quercus_stellata       1.00      0.83      0.91         6\n",
            "            quercus_velutina       1.00      0.67      0.80         6\n",
            "          quercus_virginiana       0.50      0.60      0.55         5\n",
            "       robinia_pseudo-acacia       0.50      0.33      0.40         3\n",
            "            salix_babylonica       0.80      0.67      0.73         6\n",
            "           salix_caroliniana       1.00      1.00      1.00         5\n",
            "             salix_matsudana       1.00      0.80      0.89         5\n",
            "                 salix_nigra       0.82      1.00      0.90         9\n",
            "           sassafras_albidum       0.17      0.50      0.25         2\n",
            "          staphylea_trifolia       0.80      0.80      0.80         5\n",
            "    stewartia_pseudocamellia       0.71      1.00      0.83         5\n",
            "             styrax_japonica       0.50      0.58      0.54        12\n",
            "              styrax_obassia       0.80      0.80      0.80         5\n",
            "          syringa_reticulata       1.00      0.60      0.75         5\n",
            "          taxodium_distichum       1.00      0.83      0.91         6\n",
            "             tilia_americana       0.67      1.00      0.80         2\n",
            "               tilia_cordata       0.90      1.00      0.95         9\n",
            "              tilia_europaea       0.00      0.00      0.00         2\n",
            "             tilia_tomentosa       1.00      0.67      0.80         3\n",
            "              toona_sinensis       1.00      1.00      1.00         3\n",
            "            tsuga_canadensis       0.89      1.00      0.94         8\n",
            "             ulmus_americana       1.00      1.00      1.00         2\n",
            "                ulmus_glabra       1.00      0.57      0.73         7\n",
            "            ulmus_parvifolia       0.67      0.40      0.50         5\n",
            "                ulmus_pumila       0.75      1.00      0.86        15\n",
            "                 ulmus_rubra       0.86      1.00      0.92         6\n",
            "             zelkova_serrata       0.50      0.71      0.59         7\n",
            "\n",
            "                    accuracy                           0.71       917\n",
            "                   macro avg       0.72      0.68      0.68       917\n",
            "                weighted avg       0.74      0.71      0.71       917\n",
            "\n"
          ]
        },
        {
          "output_type": "stream",
          "name": "stderr",
          "text": [
            "/usr/local/lib/python3.7/dist-packages/sklearn/metrics/_classification.py:1318: UndefinedMetricWarning: Precision and F-score are ill-defined and being set to 0.0 in labels with no predicted samples. Use `zero_division` parameter to control this behavior.\n",
            "  _warn_prf(average, modifier, msg_start, len(result))\n",
            "/usr/local/lib/python3.7/dist-packages/sklearn/metrics/_classification.py:1318: UndefinedMetricWarning: Precision and F-score are ill-defined and being set to 0.0 in labels with no predicted samples. Use `zero_division` parameter to control this behavior.\n",
            "  _warn_prf(average, modifier, msg_start, len(result))\n",
            "/usr/local/lib/python3.7/dist-packages/sklearn/metrics/_classification.py:1318: UndefinedMetricWarning: Precision and F-score are ill-defined and being set to 0.0 in labels with no predicted samples. Use `zero_division` parameter to control this behavior.\n",
            "  _warn_prf(average, modifier, msg_start, len(result))\n"
          ]
        }
      ]
    },
    {
      "cell_type": "markdown",
      "source": [
        "# **Stochastic Gradient Descent**"
      ],
      "metadata": {
        "id": "SE6FCEdufxDB"
      }
    },
    {
      "cell_type": "code",
      "source": [
        "from sklearn.linear_model import SGDClassifier\n",
        "sgd = SGDClassifier(loss = 'modified_huber', shuffle = True, random_state = 101)\n",
        "sgd.fit(x_train, y_train)"
      ],
      "metadata": {
        "id": "n194eW8bf0G7",
        "colab": {
          "base_uri": "https://localhost:8080/"
        },
        "outputId": "8f5ecd3b-f9f1-417e-f4d6-0897249cbc6b"
      },
      "execution_count": null,
      "outputs": [
        {
          "output_type": "execute_result",
          "data": {
            "text/plain": [
              "SGDClassifier(loss='modified_huber', random_state=101)"
            ]
          },
          "metadata": {},
          "execution_count": 42
        }
      ]
    },
    {
      "cell_type": "code",
      "source": [
        "y_pred = sgd.predict(x_test)"
      ],
      "metadata": {
        "id": "Xeu90tqxgQ66"
      },
      "execution_count": null,
      "outputs": []
    },
    {
      "cell_type": "code",
      "source": [
        "from sklearn.metrics import confusion_matrix, accuracy_score\n",
        "cm = confusion_matrix(y_test, y_pred)\n",
        "print(cm)\n",
        "stoc = accuracy_score(y_test, y_pred)\n",
        "stoc"
      ],
      "metadata": {
        "id": "BPFcFj62gXQF",
        "colab": {
          "base_uri": "https://localhost:8080/"
        },
        "outputId": "19716965-3c88-47e4-a57c-655419bbceb1"
      },
      "execution_count": null,
      "outputs": [
        {
          "output_type": "stream",
          "name": "stdout",
          "text": [
            "[[ 6  0  0 ...  0  0  0]\n",
            " [ 0  3  0 ...  0  0  0]\n",
            " [ 0  0  1 ...  0  0  0]\n",
            " ...\n",
            " [ 0  0  0 ... 14  0  0]\n",
            " [ 0  0  0 ...  0  4  1]\n",
            " [ 0  0  0 ...  0  0  6]]\n"
          ]
        },
        {
          "output_type": "execute_result",
          "data": {
            "text/plain": [
              "0.6412213740458015"
            ]
          },
          "metadata": {},
          "execution_count": 44
        }
      ]
    },
    {
      "cell_type": "code",
      "source": [
        "from sklearn.metrics import classification_report\n",
        "print(classification_report(y_test,y_pred))"
      ],
      "metadata": {
        "id": "LgO2C4rJggJP",
        "colab": {
          "base_uri": "https://localhost:8080/"
        },
        "outputId": "6b49dd9a-8ab7-4ecb-d5bb-83e66755d847"
      },
      "execution_count": null,
      "outputs": [
        {
          "output_type": "stream",
          "name": "stdout",
          "text": [
            "                              precision    recall  f1-score   support\n",
            "\n",
            "              abies_concolor       1.00      1.00      1.00         6\n",
            "          abies_nordmanniana       0.75      0.75      0.75         4\n",
            "              acer_campestre       0.50      0.20      0.29         5\n",
            "                acer_ginnala       0.00      0.00      0.00         4\n",
            "                acer_griseum       1.00      0.17      0.29         6\n",
            "                acer_negundo       0.00      0.00      0.00         4\n",
            "               acer_palmatum       0.62      1.00      0.77        10\n",
            "          acer_pensylvanicum       0.60      0.75      0.67         4\n",
            "            acer_platanoides       0.00      0.00      0.00         2\n",
            "         acer_pseudoplatanus       0.00      0.00      0.00         2\n",
            "                 acer_rubrum       1.00      0.40      0.57         5\n",
            "            acer_saccharinum       1.00      1.00      1.00         5\n",
            "              acer_saccharum       1.00      0.33      0.50         3\n",
            "              aesculus_flava       0.20      0.50      0.29         2\n",
            "             aesculus_glabra       1.00      1.00      1.00         5\n",
            "      aesculus_hippocastamon       0.43      1.00      0.60         3\n",
            "               aesculus_pavi       1.00      0.91      0.95        11\n",
            "         ailanthus_altissima       0.33      0.33      0.33         3\n",
            "         albizia_julibrissin       0.80      1.00      0.89         4\n",
            "         amelanchier_arborea       0.33      0.40      0.36         5\n",
            "      amelanchier_canadensis       1.00      0.50      0.67         4\n",
            "          amelanchier_laevis       1.00      1.00      1.00         4\n",
            "             asimina_triloba       0.83      0.83      0.83         6\n",
            "       betula_alleghaniensis       0.00      0.00      0.00         4\n",
            "          betula_jacqemontii       0.00      0.00      0.00         3\n",
            "                betula_lenta       0.33      0.50      0.40         2\n",
            "                betula_nigra       0.00      0.00      0.00         2\n",
            "          betula_populifolia       0.80      1.00      0.89         4\n",
            "    broussonettia_papyrifera       0.45      0.83      0.59         6\n",
            "            carpinus_betulus       0.00      0.00      0.00         2\n",
            "        carpinus_caroliniana       1.00      0.50      0.67         4\n",
            "           carya_cordiformis       0.80      0.67      0.73         6\n",
            "                carya_glabra       0.56      1.00      0.72         9\n",
            "                 carya_ovata       1.00      1.00      1.00         4\n",
            "             carya_tomentosa       1.00      0.83      0.91         6\n",
            "            castanea_dentata       1.00      0.60      0.75         5\n",
            "        catalpa_bignonioides       0.67      0.40      0.50         5\n",
            "            catalpa_speciosa       0.64      0.88      0.74         8\n",
            "            cedrus_atlantica       1.00      0.78      0.88         9\n",
            "              cedrus_deodara       1.00      1.00      1.00         4\n",
            "               cedrus_libani       1.00      0.83      0.91         6\n",
            "         celtis_occidentalis       0.50      0.67      0.57         3\n",
            "           celtis_tenuifolia       1.00      1.00      1.00         4\n",
            "    cercidiphyllum_japonicum       0.33      0.67      0.44         3\n",
            "           cercis_canadensis       0.80      0.80      0.80         5\n",
            "      chamaecyparis_pisifera       1.00      0.67      0.80         6\n",
            "      chamaecyparis_thyoides       1.00      1.00      1.00         5\n",
            "         chionanthus_retusus       1.00      0.67      0.80         3\n",
            "      chionanthus_virginicus       0.00      0.00      0.00         5\n",
            "            cladrastis_lutea       0.83      0.83      0.83         6\n",
            "              cornus_florida       0.16      0.50      0.24         6\n",
            "                cornus_kousa       0.00      0.00      0.00         2\n",
            "                  cornus_mas       0.50      0.40      0.44         5\n",
            "             corylus_colurna       1.00      0.20      0.33         5\n",
            "        crataegus_crus-galli       1.00      0.50      0.67         2\n",
            "         crataegus_laevigata       1.00      1.00      1.00         3\n",
            "       crataegus_phaenopyrum       1.00      0.33      0.50         3\n",
            "          crataegus_pruinosa       0.15      0.75      0.25         4\n",
            "           crataegus_viridis       0.00      0.00      0.00         5\n",
            "        cryptomeria_japonica       0.93      0.93      0.93        14\n",
            "        diospyros_virginiana       0.67      0.33      0.44         6\n",
            "           eucommia_ulmoides       0.80      0.50      0.62         8\n",
            "            evodia_daniellii       0.50      1.00      0.67         4\n",
            "           fagus_grandifolia       0.50      0.40      0.44         5\n",
            "                ficus_carica       1.00      0.80      0.89         5\n",
            "          fraxinus_americana       0.00      0.00      0.00         2\n",
            "              fraxinus_nigra       0.58      0.78      0.67         9\n",
            "      fraxinus_pennsylvanica       0.00      0.00      0.00         2\n",
            "               ginkgo_biloba       0.00      0.00      0.00         3\n",
            "       gleditsia_triacanthos       1.00      1.00      1.00         6\n",
            "         gymnocladus_dioicus       1.00      1.00      1.00         4\n",
            "          halesia_tetraptera       0.00      0.00      0.00         3\n",
            "                  ilex_opaca       1.00      0.75      0.86         4\n",
            "             juglans_cinerea       0.33      0.64      0.44        11\n",
            "               juglans_nigra       0.50      0.50      0.50         2\n",
            "        juniperus_virginiana       1.00      0.71      0.83         7\n",
            "     koelreuteria_paniculata       0.88      0.88      0.88         8\n",
            "               larix_decidua       0.38      1.00      0.55         3\n",
            "     liquidambar_styraciflua       1.00      0.83      0.91         6\n",
            "     liriodendron_tulipifera       1.00      0.67      0.80         6\n",
            "            maclura_pomifera       0.00      0.00      0.00         3\n",
            "          magnolia_acuminata       1.00      0.75      0.86         4\n",
            "           magnolia_denudata       1.00      0.50      0.67         6\n",
            "        magnolia_grandiflora       0.25      0.50      0.33         2\n",
            "        magnolia_macrophylla       0.67      0.67      0.67         3\n",
            "        magnolia_soulangiana       0.00      0.00      0.00         3\n",
            "           magnolia_stellata       0.00      0.00      0.00         6\n",
            "          magnolia_tripetala       0.33      1.00      0.50         4\n",
            "         magnolia_virginiana       0.33      0.43      0.38         7\n",
            "          malus_angustifolia       1.00      0.25      0.40         4\n",
            "               malus_baccata       0.00      0.00      0.00         4\n",
            "             malus_coronaria       0.75      0.75      0.75         4\n",
            "            malus_floribunda       1.00      1.00      1.00         4\n",
            "            malus_hupehensis       1.00      0.75      0.86         4\n",
            "                malus_pumila       0.67      0.33      0.44         6\n",
            "metasequoia_glyptostroboides       1.00      0.83      0.91         6\n",
            "                  morus_alba       0.00      0.00      0.00         2\n",
            "                 morus_rubra       0.00      0.00      0.00         2\n",
            "             nyssa_sylvatica       0.50      0.80      0.62         5\n",
            "           ostrya_virginiana       0.67      0.67      0.67         3\n",
            "         oxydendrum_arboreum       1.00      0.83      0.91         6\n",
            "         paulownia_tomentosa       0.00      0.00      0.00         3\n",
            "      phellodendron_amurense       1.00      1.00      1.00         4\n",
            "                 picea_abies       1.00      0.83      0.91         6\n",
            "            picea_orientalis       0.83      1.00      0.91         5\n",
            "               picea_pungens       0.83      0.83      0.83         6\n",
            "              pinus_bungeana       0.43      0.50      0.46         6\n",
            "                pinus_cembra       0.50      0.57      0.53         7\n",
            "            pinus_densiflora       0.80      0.80      0.80         5\n",
            "              pinus_echinata       0.80      0.80      0.80         5\n",
            "              pinus_flexilis       0.67      0.33      0.44         6\n",
            "            pinus_koraiensis       0.67      0.40      0.50         5\n",
            "                 pinus_nigra       0.44      0.80      0.57         5\n",
            "            pinus_parviflora       0.57      0.67      0.62         6\n",
            "                pinus_peucea       1.00      0.60      0.75         5\n",
            "               pinus_pungens       0.44      0.80      0.57         5\n",
            "              pinus_resinosa       1.00      1.00      1.00         5\n",
            "                pinus_rigida       1.00      0.60      0.75         5\n",
            "               pinus_strobus       0.50      0.50      0.50         2\n",
            "            pinus_sylvestris       1.00      1.00      1.00         4\n",
            "                 pinus_taeda       1.00      1.00      1.00         5\n",
            "            pinus_thunbergii       0.00      0.00      0.00         1\n",
            "            pinus_virginiana       0.00      0.00      0.00         5\n",
            "           pinus_wallichiana       1.00      0.75      0.86         4\n",
            "         platanus_acerifolia       0.33      0.50      0.40         2\n",
            "       platanus_occidentalis       0.17      0.50      0.25         2\n",
            "           populus_deltoides       1.00      0.67      0.80         6\n",
            "       populus_grandidentata       0.80      0.80      0.80         5\n",
            "         populus_tremuloides       0.80      0.80      0.80         5\n",
            "         prunus_pensylvanica       1.00      0.33      0.50         3\n",
            "            prunus_sargentii       0.45      0.50      0.47        18\n",
            "             prunus_serotina       1.00      0.33      0.50         3\n",
            "            prunus_serrulata       0.00      0.00      0.00         2\n",
            "          prunus_subhirtella       0.00      0.00      0.00         6\n",
            "           prunus_virginiana       0.36      0.74      0.48        19\n",
            "            prunus_yedoensis       1.00      0.67      0.80         3\n",
            "        pseudolarix_amabilis       1.00      0.60      0.75         5\n",
            "           ptelea_trifoliata       0.56      1.00      0.71         5\n",
            "            pyrus_calleryana       0.75      0.50      0.60         6\n",
            "          quercus_acutissima       1.00      1.00      1.00         6\n",
            "                quercus_alba       0.00      0.00      0.00         2\n",
            "             quercus_bicolor       0.50      1.00      0.67         3\n",
            "              quercus_cerris       1.00      0.33      0.50         3\n",
            "            quercus_coccinea       1.00      0.33      0.50         3\n",
            "             quercus_falcata       0.80      0.67      0.73         6\n",
            "          quercus_imbricaria       0.33      0.75      0.46         4\n",
            "          quercus_macrocarpa       1.00      0.80      0.89         5\n",
            "         quercus_marilandica       0.56      0.71      0.63         7\n",
            "           quercus_michauxii       1.00      0.67      0.80         6\n",
            "             quercus_montana       0.86      0.86      0.86         7\n",
            "       quercus_muehlenbergii       0.00      0.00      0.00        12\n",
            "               quercus_nigra       1.00      0.60      0.75         5\n",
            "           quercus_palustris       0.00      0.00      0.00         2\n",
            "             quercus_phellos       0.00      0.00      0.00         2\n",
            "               quercus_robur       0.44      1.00      0.62         4\n",
            "               quercus_rubra       0.50      0.75      0.60         4\n",
            "           quercus_shumardii       1.00      0.80      0.89         5\n",
            "            quercus_stellata       0.62      0.83      0.71         6\n",
            "            quercus_velutina       1.00      0.50      0.67         6\n",
            "          quercus_virginiana       0.57      0.80      0.67         5\n",
            "       robinia_pseudo-acacia       0.00      0.00      0.00         3\n",
            "            salix_babylonica       0.75      1.00      0.86         6\n",
            "           salix_caroliniana       0.83      1.00      0.91         5\n",
            "             salix_matsudana       0.67      0.80      0.73         5\n",
            "                 salix_nigra       1.00      0.67      0.80         9\n",
            "           sassafras_albidum       0.20      0.50      0.29         2\n",
            "          staphylea_trifolia       1.00      0.60      0.75         5\n",
            "    stewartia_pseudocamellia       0.80      0.80      0.80         5\n",
            "             styrax_japonica       0.29      0.75      0.42        12\n",
            "              styrax_obassia       0.60      0.60      0.60         5\n",
            "          syringa_reticulata       0.00      0.00      0.00         5\n",
            "          taxodium_distichum       1.00      1.00      1.00         6\n",
            "             tilia_americana       1.00      1.00      1.00         2\n",
            "               tilia_cordata       1.00      0.89      0.94         9\n",
            "              tilia_europaea       0.00      0.00      0.00         2\n",
            "             tilia_tomentosa       0.50      0.67      0.57         3\n",
            "              toona_sinensis       1.00      1.00      1.00         3\n",
            "            tsuga_canadensis       0.57      1.00      0.73         8\n",
            "             ulmus_americana       0.00      0.00      0.00         2\n",
            "                ulmus_glabra       0.62      0.71      0.67         7\n",
            "            ulmus_parvifolia       1.00      0.20      0.33         5\n",
            "                ulmus_pumila       0.82      0.93      0.87        15\n",
            "                 ulmus_rubra       0.67      0.67      0.67         6\n",
            "             zelkova_serrata       0.60      0.86      0.71         7\n",
            "\n",
            "                    accuracy                           0.64       917\n",
            "                   macro avg       0.62      0.58      0.57       917\n",
            "                weighted avg       0.66      0.64      0.62       917\n",
            "\n"
          ]
        },
        {
          "output_type": "stream",
          "name": "stderr",
          "text": [
            "/usr/local/lib/python3.7/dist-packages/sklearn/metrics/_classification.py:1318: UndefinedMetricWarning: Precision and F-score are ill-defined and being set to 0.0 in labels with no predicted samples. Use `zero_division` parameter to control this behavior.\n",
            "  _warn_prf(average, modifier, msg_start, len(result))\n",
            "/usr/local/lib/python3.7/dist-packages/sklearn/metrics/_classification.py:1318: UndefinedMetricWarning: Precision and F-score are ill-defined and being set to 0.0 in labels with no predicted samples. Use `zero_division` parameter to control this behavior.\n",
            "  _warn_prf(average, modifier, msg_start, len(result))\n",
            "/usr/local/lib/python3.7/dist-packages/sklearn/metrics/_classification.py:1318: UndefinedMetricWarning: Precision and F-score are ill-defined and being set to 0.0 in labels with no predicted samples. Use `zero_division` parameter to control this behavior.\n",
            "  _warn_prf(average, modifier, msg_start, len(result))\n"
          ]
        }
      ]
    },
    {
      "cell_type": "markdown",
      "source": [
        "# **Final Results**"
      ],
      "metadata": {
        "id": "FMSHwlPuuynD"
      }
    },
    {
      "cell_type": "code",
      "source": [
        "print('Accuracy of MLP Model is {}'.format(mlp))\n",
        "print('Accuracy of Naive-Bays Model is {}'.format(naive))\n",
        "print('Accuracy of Random Forest Model is {}'.format(rand))\n",
        "print('Accuracy of K-NN Model is {}'.format(knn))\n",
        "print('Accuracy of Decision Tree Model is {}'.format(desc))\n",
        "print('Accuracy of Kernel Svm Model is {}'.format(svm))\n",
        "print('Accuracy of Linear SVC Model is {}'.format(svc))\n",
        "print('Accuracy of Logistic Regression Model is {}'.format(logis))\n",
        "print('Accuracy of Stochastic Gradient Descent Model is {}'.format(stoc))"
      ],
      "metadata": {
        "id": "TPLoNVXtu77I",
        "colab": {
          "base_uri": "https://localhost:8080/"
        },
        "outputId": "c2a3fff7-d3a1-459f-9fc9-f1ae8f9564a3"
      },
      "execution_count": null,
      "outputs": [
        {
          "output_type": "stream",
          "name": "stdout",
          "text": [
            "Accuracy of MLP Model is 0.6717557251908397\n",
            "Accuracy of Naive-Bays Model is 0.4143947655398037\n",
            "Accuracy of Random Forest Model is 0.4776444929116685\n",
            "Accuracy of K-NN Model is 0.5605234460196292\n",
            "Accuracy of Decision Tree Model is 0.23991275899672845\n",
            "Accuracy of Kernel Svm Model is 0.7175572519083969\n",
            "Accuracy of Linear SVC Model is 0.7404580152671756\n",
            "Accuracy of Logistic Regression Model is 0.7142857142857143\n",
            "Accuracy of Stochastic Gradient Descent Model is 0.6412213740458015\n"
          ]
        }
      ]
    },
    {
      "cell_type": "code",
      "source": [
        "from sklearn.preprocessing import StandardScaler\n",
        "sc = StandardScaler()\n",
        "x_train = sc.fit_transform(x_train)\n",
        "x_test = sc.transform(x_test)"
      ],
      "metadata": {
        "id": "oXnc-WVILAi6"
      },
      "execution_count": null,
      "outputs": []
    },
    {
      "cell_type": "code",
      "source": [
        "from sklearn.preprocessing import LabelEncoder\n",
        "le = LabelEncoder()\n",
        "x_train[:, 2] = le.fit_transform(x_train[:,2])"
      ],
      "metadata": {
        "id": "bxal01RNLkGU"
      },
      "execution_count": null,
      "outputs": []
    },
    {
      "cell_type": "code",
      "source": [
        "import tensorflow as tf\n",
        "\n",
        "an = tf.keras.models.Sequential()\n",
        "an.add(tf.keras.layers.Dense(units = 1, activation = 'sigmoid'))"
      ],
      "metadata": {
        "id": "Iioqa0JZKGNK"
      },
      "execution_count": null,
      "outputs": []
    },
    {
      "cell_type": "code",
      "source": [
        "an.layers"
      ],
      "metadata": {
        "colab": {
          "base_uri": "https://localhost:8080/"
        },
        "id": "Ir_sUKp9KgCU",
        "outputId": "a762f7d3-1cc0-44ea-8dd0-b34891ec50d3"
      },
      "execution_count": null,
      "outputs": [
        {
          "output_type": "execute_result",
          "data": {
            "text/plain": [
              "[<keras.layers.core.dense.Dense at 0x7efd8787c810>]"
            ]
          },
          "metadata": {},
          "execution_count": 72
        }
      ]
    },
    {
      "cell_type": "code",
      "source": [
        "an.compile(optimizer = 'adam', loss = 'binary_crossentropy', metrics = ['accuracy'])"
      ],
      "metadata": {
        "id": "b0bxPUJBKkWd"
      },
      "execution_count": null,
      "outputs": []
    },
    {
      "cell_type": "code",
      "source": [
        "an.fit(x_train, y_train, batch_size = 32, epochs = 100)"
      ],
      "metadata": {
        "colab": {
          "base_uri": "https://localhost:8080/",
          "height": 1000
        },
        "id": "_1Azpz_GKllr",
        "outputId": "2f5f801c-caf9-4c4b-9926-1aab94e300c2"
      },
      "execution_count": null,
      "outputs": [
        {
          "output_type": "stream",
          "name": "stdout",
          "text": [
            "Epoch 1/100\n"
          ]
        },
        {
          "output_type": "error",
          "ename": "UnimplementedError",
          "evalue": "ignored",
          "traceback": [
            "\u001b[0;31m---------------------------------------------------------------------------\u001b[0m",
            "\u001b[0;31mUnimplementedError\u001b[0m                        Traceback (most recent call last)",
            "\u001b[0;32m<ipython-input-76-e7e9c91787dc>\u001b[0m in \u001b[0;36m<module>\u001b[0;34m()\u001b[0m\n\u001b[0;32m----> 1\u001b[0;31m \u001b[0man\u001b[0m\u001b[0;34m.\u001b[0m\u001b[0mfit\u001b[0m\u001b[0;34m(\u001b[0m\u001b[0mx_train\u001b[0m\u001b[0;34m,\u001b[0m \u001b[0my_train\u001b[0m\u001b[0;34m,\u001b[0m \u001b[0mbatch_size\u001b[0m \u001b[0;34m=\u001b[0m \u001b[0;36m32\u001b[0m\u001b[0;34m,\u001b[0m \u001b[0mepochs\u001b[0m \u001b[0;34m=\u001b[0m \u001b[0;36m100\u001b[0m\u001b[0;34m)\u001b[0m\u001b[0;34m\u001b[0m\u001b[0;34m\u001b[0m\u001b[0m\n\u001b[0m",
            "\u001b[0;32m/usr/local/lib/python3.7/dist-packages/keras/utils/traceback_utils.py\u001b[0m in \u001b[0;36merror_handler\u001b[0;34m(*args, **kwargs)\u001b[0m\n\u001b[1;32m     65\u001b[0m     \u001b[0;32mexcept\u001b[0m \u001b[0mException\u001b[0m \u001b[0;32mas\u001b[0m \u001b[0me\u001b[0m\u001b[0;34m:\u001b[0m  \u001b[0;31m# pylint: disable=broad-except\u001b[0m\u001b[0;34m\u001b[0m\u001b[0;34m\u001b[0m\u001b[0m\n\u001b[1;32m     66\u001b[0m       \u001b[0mfiltered_tb\u001b[0m \u001b[0;34m=\u001b[0m \u001b[0m_process_traceback_frames\u001b[0m\u001b[0;34m(\u001b[0m\u001b[0me\u001b[0m\u001b[0;34m.\u001b[0m\u001b[0m__traceback__\u001b[0m\u001b[0;34m)\u001b[0m\u001b[0;34m\u001b[0m\u001b[0;34m\u001b[0m\u001b[0m\n\u001b[0;32m---> 67\u001b[0;31m       \u001b[0;32mraise\u001b[0m \u001b[0me\u001b[0m\u001b[0;34m.\u001b[0m\u001b[0mwith_traceback\u001b[0m\u001b[0;34m(\u001b[0m\u001b[0mfiltered_tb\u001b[0m\u001b[0;34m)\u001b[0m \u001b[0;32mfrom\u001b[0m \u001b[0;32mNone\u001b[0m\u001b[0;34m\u001b[0m\u001b[0;34m\u001b[0m\u001b[0m\n\u001b[0m\u001b[1;32m     68\u001b[0m     \u001b[0;32mfinally\u001b[0m\u001b[0;34m:\u001b[0m\u001b[0;34m\u001b[0m\u001b[0;34m\u001b[0m\u001b[0m\n\u001b[1;32m     69\u001b[0m       \u001b[0;32mdel\u001b[0m \u001b[0mfiltered_tb\u001b[0m\u001b[0;34m\u001b[0m\u001b[0;34m\u001b[0m\u001b[0m\n",
            "\u001b[0;32m/usr/local/lib/python3.7/dist-packages/tensorflow/python/eager/execute.py\u001b[0m in \u001b[0;36mquick_execute\u001b[0;34m(op_name, num_outputs, inputs, attrs, ctx, name)\u001b[0m\n\u001b[1;32m     53\u001b[0m     \u001b[0mctx\u001b[0m\u001b[0;34m.\u001b[0m\u001b[0mensure_initialized\u001b[0m\u001b[0;34m(\u001b[0m\u001b[0;34m)\u001b[0m\u001b[0;34m\u001b[0m\u001b[0;34m\u001b[0m\u001b[0m\n\u001b[1;32m     54\u001b[0m     tensors = pywrap_tfe.TFE_Py_Execute(ctx._handle, device_name, op_name,\n\u001b[0;32m---> 55\u001b[0;31m                                         inputs, attrs, num_outputs)\n\u001b[0m\u001b[1;32m     56\u001b[0m   \u001b[0;32mexcept\u001b[0m \u001b[0mcore\u001b[0m\u001b[0;34m.\u001b[0m\u001b[0m_NotOkStatusException\u001b[0m \u001b[0;32mas\u001b[0m \u001b[0me\u001b[0m\u001b[0;34m:\u001b[0m\u001b[0;34m\u001b[0m\u001b[0;34m\u001b[0m\u001b[0m\n\u001b[1;32m     57\u001b[0m     \u001b[0;32mif\u001b[0m \u001b[0mname\u001b[0m \u001b[0;32mis\u001b[0m \u001b[0;32mnot\u001b[0m \u001b[0;32mNone\u001b[0m\u001b[0;34m:\u001b[0m\u001b[0;34m\u001b[0m\u001b[0;34m\u001b[0m\u001b[0m\n",
            "\u001b[0;31mUnimplementedError\u001b[0m: Graph execution error:\n\nDetected at node 'binary_crossentropy/Cast' defined at (most recent call last):\n    File \"/usr/lib/python3.7/runpy.py\", line 193, in _run_module_as_main\n      \"__main__\", mod_spec)\n    File \"/usr/lib/python3.7/runpy.py\", line 85, in _run_code\n      exec(code, run_globals)\n    File \"/usr/local/lib/python3.7/dist-packages/ipykernel_launcher.py\", line 16, in <module>\n      app.launch_new_instance()\n    File \"/usr/local/lib/python3.7/dist-packages/traitlets/config/application.py\", line 846, in launch_instance\n      app.start()\n    File \"/usr/local/lib/python3.7/dist-packages/ipykernel/kernelapp.py\", line 499, in start\n      self.io_loop.start()\n    File \"/usr/local/lib/python3.7/dist-packages/tornado/platform/asyncio.py\", line 132, in start\n      self.asyncio_loop.run_forever()\n    File \"/usr/lib/python3.7/asyncio/base_events.py\", line 541, in run_forever\n      self._run_once()\n    File \"/usr/lib/python3.7/asyncio/base_events.py\", line 1786, in _run_once\n      handle._run()\n    File \"/usr/lib/python3.7/asyncio/events.py\", line 88, in _run\n      self._context.run(self._callback, *self._args)\n    File \"/usr/local/lib/python3.7/dist-packages/tornado/ioloop.py\", line 758, in _run_callback\n      ret = callback()\n    File \"/usr/local/lib/python3.7/dist-packages/tornado/stack_context.py\", line 300, in null_wrapper\n      return fn(*args, **kwargs)\n    File \"/usr/local/lib/python3.7/dist-packages/zmq/eventloop/zmqstream.py\", line 536, in <lambda>\n      self.io_loop.add_callback(lambda: self._handle_events(self.socket, 0))\n    File \"/usr/local/lib/python3.7/dist-packages/zmq/eventloop/zmqstream.py\", line 452, in _handle_events\n      self._handle_recv()\n    File \"/usr/local/lib/python3.7/dist-packages/zmq/eventloop/zmqstream.py\", line 481, in _handle_recv\n      self._run_callback(callback, msg)\n    File \"/usr/local/lib/python3.7/dist-packages/zmq/eventloop/zmqstream.py\", line 431, in _run_callback\n      callback(*args, **kwargs)\n    File \"/usr/local/lib/python3.7/dist-packages/tornado/stack_context.py\", line 300, in null_wrapper\n      return fn(*args, **kwargs)\n    File \"/usr/local/lib/python3.7/dist-packages/ipykernel/kernelbase.py\", line 283, in dispatcher\n      return self.dispatch_shell(stream, msg)\n    File \"/usr/local/lib/python3.7/dist-packages/ipykernel/kernelbase.py\", line 233, in dispatch_shell\n      handler(stream, idents, msg)\n    File \"/usr/local/lib/python3.7/dist-packages/ipykernel/kernelbase.py\", line 399, in execute_request\n      user_expressions, allow_stdin)\n    File \"/usr/local/lib/python3.7/dist-packages/ipykernel/ipkernel.py\", line 208, in do_execute\n      res = shell.run_cell(code, store_history=store_history, silent=silent)\n    File \"/usr/local/lib/python3.7/dist-packages/ipykernel/zmqshell.py\", line 537, in run_cell\n      return super(ZMQInteractiveShell, self).run_cell(*args, **kwargs)\n    File \"/usr/local/lib/python3.7/dist-packages/IPython/core/interactiveshell.py\", line 2718, in run_cell\n      interactivity=interactivity, compiler=compiler, result=result)\n    File \"/usr/local/lib/python3.7/dist-packages/IPython/core/interactiveshell.py\", line 2828, in run_ast_nodes\n      if self.run_code(code, result):\n    File \"/usr/local/lib/python3.7/dist-packages/IPython/core/interactiveshell.py\", line 2882, in run_code\n      exec(code_obj, self.user_global_ns, self.user_ns)\n    File \"<ipython-input-74-e7e9c91787dc>\", line 1, in <module>\n      an.fit(x_train, y_train, batch_size = 32, epochs = 100)\n    File \"/usr/local/lib/python3.7/dist-packages/keras/utils/traceback_utils.py\", line 64, in error_handler\n      return fn(*args, **kwargs)\n    File \"/usr/local/lib/python3.7/dist-packages/keras/engine/training.py\", line 1384, in fit\n      tmp_logs = self.train_function(iterator)\n    File \"/usr/local/lib/python3.7/dist-packages/keras/engine/training.py\", line 1021, in train_function\n      return step_function(self, iterator)\n    File \"/usr/local/lib/python3.7/dist-packages/keras/engine/training.py\", line 1010, in step_function\n      outputs = model.distribute_strategy.run(run_step, args=(data,))\n    File \"/usr/local/lib/python3.7/dist-packages/keras/engine/training.py\", line 1000, in run_step\n      outputs = model.train_step(data)\n    File \"/usr/local/lib/python3.7/dist-packages/keras/engine/training.py\", line 860, in train_step\n      loss = self.compute_loss(x, y, y_pred, sample_weight)\n    File \"/usr/local/lib/python3.7/dist-packages/keras/engine/training.py\", line 919, in compute_loss\n      y, y_pred, sample_weight, regularization_losses=self.losses)\n    File \"/usr/local/lib/python3.7/dist-packages/keras/engine/compile_utils.py\", line 201, in __call__\n      loss_value = loss_obj(y_t, y_p, sample_weight=sw)\n    File \"/usr/local/lib/python3.7/dist-packages/keras/losses.py\", line 141, in __call__\n      losses = call_fn(y_true, y_pred)\n    File \"/usr/local/lib/python3.7/dist-packages/keras/losses.py\", line 245, in call\n      return ag_fn(y_true, y_pred, **self._fn_kwargs)\n    File \"/usr/local/lib/python3.7/dist-packages/keras/losses.py\", line 1922, in binary_crossentropy\n      y_true = tf.cast(y_true, y_pred.dtype)\nNode: 'binary_crossentropy/Cast'\nCast string to float is not supported\n\t [[{{node binary_crossentropy/Cast}}]] [Op:__inference_train_function_2493]"
          ]
        }
      ]
    }
  ]
}